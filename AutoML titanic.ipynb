{
 "cells": [
  {
   "cell_type": "markdown",
   "metadata": {},
   "source": [
    "# Automated ML (AutoML) with Azure ML"
   ]
  },
  {
   "cell_type": "markdown",
   "metadata": {},
   "source": [
    "**Automated machine learning**, also referred to as automated ML or AutoML, is the **process of automating the time consuming, iterative tasks of machine learning model development**.<br><br>\n",
    "It allows data scientists, analysts, and developers to build ML models with high scale, efficiency, and productivity all while sustaining model quality. **Automated ML is based on a breakthrough from our Microsoft Research division.**\n",
    "\n",
    "Traditional machine learning model development is resource-intensive, requiring significant domain knowledge and time to produce and compare dozens of models. **With automated machine learning, you'll accelerate the time it takes to get production-ready ML models with great ease and efficiency.**"
   ]
  },
  {
   "cell_type": "markdown",
   "metadata": {},
   "source": [
    "<img src=\"https://docs.microsoft.com/ko-kr/azure/machine-learning/service/media/how-to-automated-ml/automl-concept-diagram2.png\">"
   ]
  },
  {
   "cell_type": "markdown",
   "metadata": {},
   "source": [
    "### AutoML Documentation:\n",
    "* https://docs.microsoft.com/en-us/azure/machine-learning/concept-automated-ml\n",
    "* https://docs.microsoft.com/en-us/azure/machine-learning/how-to-configure-auto-train    "
   ]
  },
  {
   "cell_type": "markdown",
   "metadata": {},
   "source": [
    "## Titanic dataset"
   ]
  },
  {
   "cell_type": "markdown",
   "metadata": {},
   "source": [
    "<img src=\"https://kwmp.ca/wp-content/uploads/2018/04/titanic-the-musical-1024x538.jpg\">"
   ]
  },
  {
   "cell_type": "markdown",
   "metadata": {},
   "source": [
    "Notebook Python Azure ML pour la modélisation automatique (AUTOML) de la survie des passagers du Titanic.\n",
    "<br><br>\n",
    "https://www.kaggle.com/c/titanic\n",
    "<br><br>\n",
    "Données : \n",
    "https://www.kaggle.com/c/titanic/data"
   ]
  },
  {
   "cell_type": "markdown",
   "metadata": {},
   "source": [
    " ## Description des variables :\n",
    " - PassengerId: and id given to each traveler on the boat\n",
    " - Pclass: the passenger class. It has three possible values: 1,2,3 (first, second and third class)\n",
    " - The Name of the passeger\n",
    " - The Sex\n",
    " - The Age\n",
    " - SibSp: number of siblings and spouses traveling with the passenger\n",
    " - Parch: number of parents and children traveling with the passenger\n",
    " - The ticket number\n",
    " - The ticket Fare\n",
    " - The cabin number\n",
    " - The embarkation. This describe three possible areas of the Titanic from which the people embark. Three possible values S,C,Q\n",
    "\n",
    "> https://www.kaggle.com/c/titanic"
   ]
  },
  {
   "cell_type": "markdown",
   "metadata": {},
   "source": [
    "### 0. Paramétrage"
   ]
  },
  {
   "cell_type": "code",
   "execution_count": 1,
   "metadata": {},
   "outputs": [
    {
     "data": {
      "text/plain": [
       "'3.6.9 |Anaconda, Inc.| (default, Jul 30 2019, 19:07:31) \\n[GCC 7.3.0]'"
      ]
     },
     "execution_count": 1,
     "metadata": {},
     "output_type": "execute_result"
    }
   ],
   "source": [
    "import sys\n",
    "sys.version"
   ]
  },
  {
   "cell_type": "code",
   "execution_count": 2,
   "metadata": {},
   "outputs": [
    {
     "name": "stdout",
     "output_type": "stream",
     "text": [
      "Today = 2020-09-30 15:28:35.616077\n"
     ]
    }
   ],
   "source": [
    "import datetime\n",
    "now = datetime.datetime.now()\n",
    "print('Today =', now)"
   ]
  },
  {
   "cell_type": "code",
   "execution_count": 3,
   "metadata": {},
   "outputs": [],
   "source": [
    "#!pip install --upgrade azureml-sdk\n",
    "#!pip install --upgrade azureml-sdk[automl,notebooks,explain,contrib,services,tensorboard]"
   ]
  },
  {
   "cell_type": "code",
   "execution_count": 4,
   "metadata": {},
   "outputs": [
    {
     "name": "stdout",
     "output_type": "stream",
     "text": [
      "Version Azure ML Service : 1.8.0\n"
     ]
    }
   ],
   "source": [
    "import azureml.core\n",
    "print(\"Version Azure ML Service :\", azureml.core.VERSION)"
   ]
  },
  {
   "cell_type": "code",
   "execution_count": 5,
   "metadata": {},
   "outputs": [],
   "source": [
    "import os\n",
    "\n",
    "subscription_id = os.environ.get(\"SUBSCRIPTION_ID\", \"TOBEREPLACED\")\n",
    "resource_group = os.environ.get(\"RESOURCE_GROUP\", \"titanicworkspaceRG\")\n",
    "workspace_name = os.environ.get(\"WORKSPACE_NAME\", \"Titanicworkspace\")"
   ]
  },
  {
   "cell_type": "code",
   "execution_count": 6,
   "metadata": {},
   "outputs": [
    {
     "name": "stdout",
     "output_type": "stream",
     "text": [
      "Performing interactive authentication. Please follow the instructions on the terminal.\n",
      "To sign in, use a web browser to open the page https://microsoft.com/devicelogin and enter the code CL5W2MFFD to authenticate.\n",
      "Interactive authentication successfully completed.\n",
      "Le workspace Azure ML service a été trouvé : OK\n"
     ]
    }
   ],
   "source": [
    "from azureml.core import Workspace\n",
    "\n",
    "try:\n",
    "   ws = Workspace(subscription_id = subscription_id, resource_group = resource_group, workspace_name = workspace_name)\n",
    "   ws.write_config()\n",
    "   print(\"Le workspace Azure ML service a été trouvé : OK\")\n",
    "except:\n",
    "   print(\"Le workspace Azure ML service n'a pas été trouvé\")"
   ]
  },
  {
   "cell_type": "code",
   "execution_count": 7,
   "metadata": {},
   "outputs": [],
   "source": [
    "import pandas as pd\n",
    "import numpy as np\n",
    "import pandas.io.sql as pd_sql\n",
    "\n",
    "import azureml.core\n",
    "from azureml.core.experiment import Experiment\n",
    "from azureml.core.workspace import Workspace\n",
    "from azureml.train.automl import AutoMLConfig\n",
    "from azureml.train.automl.run import AutoMLRun\n",
    "\n",
    "import logging\n",
    "import os\n",
    "import random"
   ]
  },
  {
   "cell_type": "markdown",
   "metadata": {},
   "source": [
    "## 1. Chargement des données"
   ]
  },
  {
   "cell_type": "code",
   "execution_count": 8,
   "metadata": {},
   "outputs": [],
   "source": [
    "import azureml.dataprep as dprep"
   ]
  },
  {
   "cell_type": "code",
   "execution_count": 9,
   "metadata": {},
   "outputs": [
    {
     "name": "stdout",
     "output_type": "stream",
     "text": [
      "Retrieving data:\n",
      "https://raw.githubusercontent.com/retkowsky/titanic/master/train.csv\n"
     ]
    },
    {
     "data": {
      "text/html": [
       "<div>\n",
       "<style scoped>\n",
       "    .dataframe tbody tr th:only-of-type {\n",
       "        vertical-align: middle;\n",
       "    }\n",
       "\n",
       "    .dataframe tbody tr th {\n",
       "        vertical-align: top;\n",
       "    }\n",
       "\n",
       "    .dataframe thead th {\n",
       "        text-align: right;\n",
       "    }\n",
       "</style>\n",
       "<table border=\"1\" class=\"dataframe\">\n",
       "  <thead>\n",
       "    <tr style=\"text-align: right;\">\n",
       "      <th></th>\n",
       "      <th>PassengerId</th>\n",
       "      <th>Survived</th>\n",
       "      <th>Pclass</th>\n",
       "      <th>Name</th>\n",
       "      <th>Sex</th>\n",
       "      <th>Age</th>\n",
       "      <th>SibSp</th>\n",
       "      <th>Parch</th>\n",
       "      <th>Ticket</th>\n",
       "      <th>Fare</th>\n",
       "      <th>Cabin</th>\n",
       "      <th>Embarked</th>\n",
       "    </tr>\n",
       "  </thead>\n",
       "  <tbody>\n",
       "    <tr>\n",
       "      <th>0</th>\n",
       "      <td>1</td>\n",
       "      <td>0</td>\n",
       "      <td>3</td>\n",
       "      <td>Braund, Mr. Owen Harris</td>\n",
       "      <td>male</td>\n",
       "      <td>22</td>\n",
       "      <td>1</td>\n",
       "      <td>0</td>\n",
       "      <td>A/5 21171</td>\n",
       "      <td>7.25</td>\n",
       "      <td>None</td>\n",
       "      <td>S</td>\n",
       "    </tr>\n",
       "    <tr>\n",
       "      <th>1</th>\n",
       "      <td>2</td>\n",
       "      <td>1</td>\n",
       "      <td>1</td>\n",
       "      <td>Cumings, Mrs. John Bradley (Florence Briggs Th...</td>\n",
       "      <td>female</td>\n",
       "      <td>38</td>\n",
       "      <td>1</td>\n",
       "      <td>0</td>\n",
       "      <td>PC 17599</td>\n",
       "      <td>71.2833</td>\n",
       "      <td>C85</td>\n",
       "      <td>C</td>\n",
       "    </tr>\n",
       "    <tr>\n",
       "      <th>2</th>\n",
       "      <td>3</td>\n",
       "      <td>1</td>\n",
       "      <td>3</td>\n",
       "      <td>Heikkinen, Miss. Laina</td>\n",
       "      <td>female</td>\n",
       "      <td>26</td>\n",
       "      <td>0</td>\n",
       "      <td>0</td>\n",
       "      <td>STON/O2. 3101282</td>\n",
       "      <td>7.925</td>\n",
       "      <td>None</td>\n",
       "      <td>S</td>\n",
       "    </tr>\n",
       "    <tr>\n",
       "      <th>3</th>\n",
       "      <td>4</td>\n",
       "      <td>1</td>\n",
       "      <td>1</td>\n",
       "      <td>Futrelle, Mrs. Jacques Heath (Lily May Peel)</td>\n",
       "      <td>female</td>\n",
       "      <td>35</td>\n",
       "      <td>1</td>\n",
       "      <td>0</td>\n",
       "      <td>113803</td>\n",
       "      <td>53.1</td>\n",
       "      <td>C123</td>\n",
       "      <td>S</td>\n",
       "    </tr>\n",
       "    <tr>\n",
       "      <th>4</th>\n",
       "      <td>5</td>\n",
       "      <td>0</td>\n",
       "      <td>3</td>\n",
       "      <td>Allen, Mr. William Henry</td>\n",
       "      <td>male</td>\n",
       "      <td>35</td>\n",
       "      <td>0</td>\n",
       "      <td>0</td>\n",
       "      <td>373450</td>\n",
       "      <td>8.05</td>\n",
       "      <td>None</td>\n",
       "      <td>S</td>\n",
       "    </tr>\n",
       "  </tbody>\n",
       "</table>\n",
       "</div>"
      ],
      "text/plain": [
       "  PassengerId Survived Pclass  \\\n",
       "0           1        0      3   \n",
       "1           2        1      1   \n",
       "2           3        1      3   \n",
       "3           4        1      1   \n",
       "4           5        0      3   \n",
       "\n",
       "                                                Name     Sex Age SibSp Parch  \\\n",
       "0                            Braund, Mr. Owen Harris    male  22     1     0   \n",
       "1  Cumings, Mrs. John Bradley (Florence Briggs Th...  female  38     1     0   \n",
       "2                             Heikkinen, Miss. Laina  female  26     0     0   \n",
       "3       Futrelle, Mrs. Jacques Heath (Lily May Peel)  female  35     1     0   \n",
       "4                           Allen, Mr. William Henry    male  35     0     0   \n",
       "\n",
       "             Ticket     Fare Cabin Embarked  \n",
       "0         A/5 21171     7.25  None        S  \n",
       "1          PC 17599  71.2833   C85        C  \n",
       "2  STON/O2. 3101282    7.925  None        S  \n",
       "3            113803     53.1  C123        S  \n",
       "4            373450     8.05  None        S  "
      ]
     },
     "metadata": {},
     "output_type": "display_data"
    }
   ],
   "source": [
    "pd.set_option('display.max_columns', None)\n",
    "\n",
    "titanic_path = \"https://raw.githubusercontent.com/retkowsky/titanic/master/train.csv\"\n",
    "\n",
    "print(\"Retrieving data:\")\n",
    "print(titanic_path)\n",
    "\n",
    "titanic_df = dprep.read_csv(path=titanic_path, header=dprep.PromoteHeadersMode.GROUPED)\n",
    "\n",
    "display(titanic_df.head(5))"
   ]
  },
  {
   "cell_type": "code",
   "execution_count": 10,
   "metadata": {},
   "outputs": [
    {
     "data": {
      "text/html": [
       "<div>\n",
       "<style scoped>\n",
       "    .dataframe tbody tr th:only-of-type {\n",
       "        vertical-align: middle;\n",
       "    }\n",
       "\n",
       "    .dataframe tbody tr th {\n",
       "        vertical-align: top;\n",
       "    }\n",
       "\n",
       "    .dataframe thead th {\n",
       "        text-align: right;\n",
       "    }\n",
       "</style>\n",
       "<table border=\"1\" class=\"dataframe\">\n",
       "  <thead>\n",
       "    <tr style=\"text-align: right;\">\n",
       "      <th></th>\n",
       "      <th>PassengerId</th>\n",
       "      <th>Survived</th>\n",
       "      <th>Pclass</th>\n",
       "      <th>Sex</th>\n",
       "      <th>Age</th>\n",
       "      <th>SibSp</th>\n",
       "      <th>Fare</th>\n",
       "      <th>Embarked</th>\n",
       "    </tr>\n",
       "  </thead>\n",
       "  <tbody>\n",
       "    <tr>\n",
       "      <th>0</th>\n",
       "      <td>1</td>\n",
       "      <td>0</td>\n",
       "      <td>3</td>\n",
       "      <td>male</td>\n",
       "      <td>22</td>\n",
       "      <td>1</td>\n",
       "      <td>7.25</td>\n",
       "      <td>S</td>\n",
       "    </tr>\n",
       "    <tr>\n",
       "      <th>1</th>\n",
       "      <td>2</td>\n",
       "      <td>1</td>\n",
       "      <td>1</td>\n",
       "      <td>female</td>\n",
       "      <td>38</td>\n",
       "      <td>1</td>\n",
       "      <td>71.2833</td>\n",
       "      <td>C</td>\n",
       "    </tr>\n",
       "    <tr>\n",
       "      <th>2</th>\n",
       "      <td>3</td>\n",
       "      <td>1</td>\n",
       "      <td>3</td>\n",
       "      <td>female</td>\n",
       "      <td>26</td>\n",
       "      <td>0</td>\n",
       "      <td>7.925</td>\n",
       "      <td>S</td>\n",
       "    </tr>\n",
       "    <tr>\n",
       "      <th>3</th>\n",
       "      <td>4</td>\n",
       "      <td>1</td>\n",
       "      <td>1</td>\n",
       "      <td>female</td>\n",
       "      <td>35</td>\n",
       "      <td>1</td>\n",
       "      <td>53.1</td>\n",
       "      <td>S</td>\n",
       "    </tr>\n",
       "    <tr>\n",
       "      <th>4</th>\n",
       "      <td>5</td>\n",
       "      <td>0</td>\n",
       "      <td>3</td>\n",
       "      <td>male</td>\n",
       "      <td>35</td>\n",
       "      <td>0</td>\n",
       "      <td>8.05</td>\n",
       "      <td>S</td>\n",
       "    </tr>\n",
       "  </tbody>\n",
       "</table>\n",
       "</div>"
      ],
      "text/plain": [
       "  PassengerId Survived Pclass     Sex Age SibSp     Fare Embarked\n",
       "0           1        0      3    male  22     1     7.25        S\n",
       "1           2        1      1  female  38     1  71.2833        C\n",
       "2           3        1      3  female  26     0    7.925        S\n",
       "3           4        1      1  female  35     1     53.1        S\n",
       "4           5        0      3    male  35     0     8.05        S"
      ]
     },
     "execution_count": 10,
     "metadata": {},
     "output_type": "execute_result"
    }
   ],
   "source": [
    "all_columns = dprep.ColumnSelector(term=\".*\", use_regex=True)\n",
    "\n",
    "drop_if_all_null = [all_columns, dprep.ColumnRelationship(dprep.ColumnRelationship.ALL)]\n",
    "\n",
    "useful_columns = [\n",
    "    \"PassengerId\", \"Survived\", \"Pclass\", \"Sex\", \"Age\", \"SibSp\",\n",
    "    \"Fare\", \"Embarked\"\n",
    "]\n",
    "\n",
    "tmp_df = (titanic_df\n",
    "    .replace_na(columns=all_columns)\n",
    "    .drop_nulls(*drop_if_all_null)\n",
    "    .rename_columns(column_pairs={\n",
    "        \"PassengerId\": \"PassengerId\",\n",
    "        \"Survived\": \"Survived\",\n",
    "        \"Pclass\": \"Pclass\",\n",
    "        \"Sex\": \"Sex\",\n",
    "        \"Age\": \"Age\",\n",
    "        \"SibSp\": \"SibSp\",\n",
    "        \"Fare\": \"Fare\",\n",
    "        \"Embarked\": \"Embarked\",\n",
    "     })\n",
    "    .keep_columns(columns=useful_columns))\n",
    "tmp_df.head(5)"
   ]
  },
  {
   "cell_type": "code",
   "execution_count": 11,
   "metadata": {},
   "outputs": [],
   "source": [
    "decimal_type = dprep.TypeConverter(data_type=dprep.FieldType.DECIMAL)\n",
    "profile = tmp_df.set_column_types(type_conversions={\n",
    "    \"Age\": decimal_type,\n",
    "    \"Fare\": decimal_type\n",
    "}).get_profile()"
   ]
  },
  {
   "cell_type": "code",
   "execution_count": 12,
   "metadata": {},
   "outputs": [
    {
     "data": {
      "text/html": [
       "<table border=\"1\" class=\"dataframe\">\n",
       "  <thead>\n",
       "    <tr style=\"text-align: right;\">\n",
       "      <th></th>\n",
       "      <th>Type</th>\n",
       "      <th>Min</th>\n",
       "      <th>Max</th>\n",
       "      <th>Count</th>\n",
       "      <th>Missing Count</th>\n",
       "      <th>Not Missing Count</th>\n",
       "      <th>Percent Missing</th>\n",
       "      <th>Error Count</th>\n",
       "      <th>Empty Count</th>\n",
       "      <th>Unique Values</th>\n",
       "      <th>0.1% Quantile (est.)</th>\n",
       "      <th>1% Quantile (est.)</th>\n",
       "      <th>5% Quantile (est.)</th>\n",
       "      <th>25% Quantile (est.)</th>\n",
       "      <th>50% Quantile (est.)</th>\n",
       "      <th>75% Quantile (est.)</th>\n",
       "      <th>95% Quantile (est.)</th>\n",
       "      <th>99% Quantile (est.)</th>\n",
       "      <th>99.9% Quantile (est.)</th>\n",
       "      <th>Mean</th>\n",
       "      <th>Standard Deviation</th>\n",
       "      <th>Variance</th>\n",
       "      <th>Skewness</th>\n",
       "      <th>Kurtosis</th>\n",
       "      <th>WhiskerTop</th>\n",
       "      <th>WhiskerBottom</th>\n",
       "    </tr>\n",
       "  </thead>\n",
       "  <tbody>\n",
       "    <tr>\n",
       "      <th>PassengerId</th>\n",
       "      <td>FieldType.STRING</td>\n",
       "      <td>1</td>\n",
       "      <td>99</td>\n",
       "      <td>891.0</td>\n",
       "      <td>0.0</td>\n",
       "      <td>891.0</td>\n",
       "      <td>0.000000</td>\n",
       "      <td>0.0</td>\n",
       "      <td>0.0</td>\n",
       "      <td>891</td>\n",
       "      <td></td>\n",
       "      <td></td>\n",
       "      <td></td>\n",
       "      <td></td>\n",
       "      <td></td>\n",
       "      <td></td>\n",
       "      <td></td>\n",
       "      <td></td>\n",
       "      <td></td>\n",
       "      <td></td>\n",
       "      <td></td>\n",
       "      <td></td>\n",
       "      <td></td>\n",
       "      <td></td>\n",
       "      <td></td>\n",
       "      <td></td>\n",
       "    </tr>\n",
       "    <tr>\n",
       "      <th>Survived</th>\n",
       "      <td>FieldType.STRING</td>\n",
       "      <td>0</td>\n",
       "      <td>1</td>\n",
       "      <td>891.0</td>\n",
       "      <td>0.0</td>\n",
       "      <td>891.0</td>\n",
       "      <td>0.000000</td>\n",
       "      <td>0.0</td>\n",
       "      <td>0.0</td>\n",
       "      <td>2</td>\n",
       "      <td></td>\n",
       "      <td></td>\n",
       "      <td></td>\n",
       "      <td></td>\n",
       "      <td></td>\n",
       "      <td></td>\n",
       "      <td></td>\n",
       "      <td></td>\n",
       "      <td></td>\n",
       "      <td></td>\n",
       "      <td></td>\n",
       "      <td></td>\n",
       "      <td></td>\n",
       "      <td></td>\n",
       "      <td></td>\n",
       "      <td></td>\n",
       "    </tr>\n",
       "    <tr>\n",
       "      <th>Pclass</th>\n",
       "      <td>FieldType.STRING</td>\n",
       "      <td>1</td>\n",
       "      <td>3</td>\n",
       "      <td>891.0</td>\n",
       "      <td>0.0</td>\n",
       "      <td>891.0</td>\n",
       "      <td>0.000000</td>\n",
       "      <td>0.0</td>\n",
       "      <td>0.0</td>\n",
       "      <td>3</td>\n",
       "      <td></td>\n",
       "      <td></td>\n",
       "      <td></td>\n",
       "      <td></td>\n",
       "      <td></td>\n",
       "      <td></td>\n",
       "      <td></td>\n",
       "      <td></td>\n",
       "      <td></td>\n",
       "      <td></td>\n",
       "      <td></td>\n",
       "      <td></td>\n",
       "      <td></td>\n",
       "      <td></td>\n",
       "      <td></td>\n",
       "      <td></td>\n",
       "    </tr>\n",
       "    <tr>\n",
       "      <th>Sex</th>\n",
       "      <td>FieldType.STRING</td>\n",
       "      <td>female</td>\n",
       "      <td>male</td>\n",
       "      <td>891.0</td>\n",
       "      <td>0.0</td>\n",
       "      <td>891.0</td>\n",
       "      <td>0.000000</td>\n",
       "      <td>0.0</td>\n",
       "      <td>0.0</td>\n",
       "      <td>2</td>\n",
       "      <td></td>\n",
       "      <td></td>\n",
       "      <td></td>\n",
       "      <td></td>\n",
       "      <td></td>\n",
       "      <td></td>\n",
       "      <td></td>\n",
       "      <td></td>\n",
       "      <td></td>\n",
       "      <td></td>\n",
       "      <td></td>\n",
       "      <td></td>\n",
       "      <td></td>\n",
       "      <td></td>\n",
       "      <td></td>\n",
       "      <td></td>\n",
       "    </tr>\n",
       "    <tr>\n",
       "      <th>Age</th>\n",
       "      <td>FieldType.DECIMAL</td>\n",
       "      <td>0.42</td>\n",
       "      <td>80</td>\n",
       "      <td>891.0</td>\n",
       "      <td>177.0</td>\n",
       "      <td>714.0</td>\n",
       "      <td>0.198653</td>\n",
       "      <td>0.0</td>\n",
       "      <td>0.0</td>\n",
       "      <td>89</td>\n",
       "      <td>0.4735</td>\n",
       "      <td>13.5111</td>\n",
       "      <td>12.6667</td>\n",
       "      <td>20.28</td>\n",
       "      <td>28</td>\n",
       "      <td>38.2</td>\n",
       "      <td>56.3067</td>\n",
       "      <td>67.44</td>\n",
       "      <td>78.716</td>\n",
       "      <td>29.6991</td>\n",
       "      <td>14.5265</td>\n",
       "      <td>211.019</td>\n",
       "      <td>0.387474</td>\n",
       "      <td>0.159767</td>\n",
       "      <td>65</td>\n",
       "      <td>0.42</td>\n",
       "    </tr>\n",
       "    <tr>\n",
       "      <th>SibSp</th>\n",
       "      <td>FieldType.STRING</td>\n",
       "      <td>0</td>\n",
       "      <td>8</td>\n",
       "      <td>891.0</td>\n",
       "      <td>0.0</td>\n",
       "      <td>891.0</td>\n",
       "      <td>0.000000</td>\n",
       "      <td>0.0</td>\n",
       "      <td>0.0</td>\n",
       "      <td>7</td>\n",
       "      <td></td>\n",
       "      <td></td>\n",
       "      <td></td>\n",
       "      <td></td>\n",
       "      <td></td>\n",
       "      <td></td>\n",
       "      <td></td>\n",
       "      <td></td>\n",
       "      <td></td>\n",
       "      <td></td>\n",
       "      <td></td>\n",
       "      <td></td>\n",
       "      <td></td>\n",
       "      <td></td>\n",
       "      <td></td>\n",
       "      <td></td>\n",
       "    </tr>\n",
       "    <tr>\n",
       "      <th>Fare</th>\n",
       "      <td>FieldType.DECIMAL</td>\n",
       "      <td>0</td>\n",
       "      <td>512.329</td>\n",
       "      <td>891.0</td>\n",
       "      <td>0.0</td>\n",
       "      <td>891.0</td>\n",
       "      <td>0.000000</td>\n",
       "      <td>0.0</td>\n",
       "      <td>0.0</td>\n",
       "      <td>248</td>\n",
       "      <td>0</td>\n",
       "      <td>7.54406</td>\n",
       "      <td>7.5156</td>\n",
       "      <td>7.90776</td>\n",
       "      <td>14.456</td>\n",
       "      <td>31.066</td>\n",
       "      <td>112.451</td>\n",
       "      <td>255.394</td>\n",
       "      <td>512.329</td>\n",
       "      <td>32.2042</td>\n",
       "      <td>49.6934</td>\n",
       "      <td>2469.44</td>\n",
       "      <td>4.77121</td>\n",
       "      <td>33.1231</td>\n",
       "      <td>63.3433</td>\n",
       "      <td>0</td>\n",
       "    </tr>\n",
       "    <tr>\n",
       "      <th>Embarked</th>\n",
       "      <td>FieldType.STRING</td>\n",
       "      <td>C</td>\n",
       "      <td>S</td>\n",
       "      <td>891.0</td>\n",
       "      <td>2.0</td>\n",
       "      <td>889.0</td>\n",
       "      <td>0.002245</td>\n",
       "      <td>0.0</td>\n",
       "      <td>0.0</td>\n",
       "      <td>4</td>\n",
       "      <td></td>\n",
       "      <td></td>\n",
       "      <td></td>\n",
       "      <td></td>\n",
       "      <td></td>\n",
       "      <td></td>\n",
       "      <td></td>\n",
       "      <td></td>\n",
       "      <td></td>\n",
       "      <td></td>\n",
       "      <td></td>\n",
       "      <td></td>\n",
       "      <td></td>\n",
       "      <td></td>\n",
       "      <td></td>\n",
       "      <td></td>\n",
       "    </tr>\n",
       "  </tbody>\n",
       "</table>"
      ],
      "text/plain": [
       "ColumnProfile:\n",
       "    column_name: PassengerId\n",
       "    type: FieldType.STRING\n",
       "\n",
       "    min: 1\n",
       "    max: 99\n",
       "    count: 891.0\n",
       "    missing_count: 0.0\n",
       "    not_missing_count: 891.0\n",
       "    percent_missing: 0.0\n",
       "    error_count: 0.0\n",
       "    empty_count: 0.0\n",
       "    unique_values: 891\n",
       "\n",
       "\n",
       "ColumnProfile:\n",
       "    column_name: Survived\n",
       "    type: FieldType.STRING\n",
       "\n",
       "    min: 0\n",
       "    max: 1\n",
       "    count: 891.0\n",
       "    missing_count: 0.0\n",
       "    not_missing_count: 891.0\n",
       "    percent_missing: 0.0\n",
       "    error_count: 0.0\n",
       "    empty_count: 0.0\n",
       "    unique_values: 2\n",
       "\n",
       "\n",
       "ColumnProfile:\n",
       "    column_name: Pclass\n",
       "    type: FieldType.STRING\n",
       "\n",
       "    min: 1\n",
       "    max: 3\n",
       "    count: 891.0\n",
       "    missing_count: 0.0\n",
       "    not_missing_count: 891.0\n",
       "    percent_missing: 0.0\n",
       "    error_count: 0.0\n",
       "    empty_count: 0.0\n",
       "    unique_values: 3\n",
       "\n",
       "\n",
       "ColumnProfile:\n",
       "    column_name: Sex\n",
       "    type: FieldType.STRING\n",
       "\n",
       "    min: female\n",
       "    max: male\n",
       "    count: 891.0\n",
       "    missing_count: 0.0\n",
       "    not_missing_count: 891.0\n",
       "    percent_missing: 0.0\n",
       "    error_count: 0.0\n",
       "    empty_count: 0.0\n",
       "    unique_values: 2\n",
       "\n",
       "\n",
       "ColumnProfile:\n",
       "    column_name: Age\n",
       "    type: FieldType.DECIMAL\n",
       "\n",
       "    min: 0.42\n",
       "    max: 80.0\n",
       "    count: 891.0\n",
       "    missing_count: 177.0\n",
       "    not_missing_count: 714.0\n",
       "    percent_missing: 0.19865319865319866\n",
       "    error_count: 0.0\n",
       "    empty_count: 0.0\n",
       "    unique_values: 89\n",
       "\n",
       "\n",
       "    Quantiles (est.):\n",
       "         0.1%: 0.47350000000000003\n",
       "           1%: 13.511111111111113\n",
       "           5%: 12.666666666666666\n",
       "          25%: 20.28\n",
       "          50%: 28.0\n",
       "          75%: 38.2\n",
       "          95%: 56.30666666666666\n",
       "          99%: 67.44000000000005\n",
       "        99.9%: 78.71599999999967\n",
       "\n",
       "    mean: 29.69911764705884\n",
       "    std: 14.526497332334035\n",
       "    variance: 211.01912474630785\n",
       "    skewness: 0.38747440217598533\n",
       "    kurtosis: 0.15976705504659172\n",
       "    whisker_top: 65.0\n",
       "    whisker_bottom: 0.42\n",
       "\n",
       "ColumnProfile:\n",
       "    column_name: SibSp\n",
       "    type: FieldType.STRING\n",
       "\n",
       "    min: 0\n",
       "    max: 8\n",
       "    count: 891.0\n",
       "    missing_count: 0.0\n",
       "    not_missing_count: 891.0\n",
       "    percent_missing: 0.0\n",
       "    error_count: 0.0\n",
       "    empty_count: 0.0\n",
       "    unique_values: 7\n",
       "\n",
       "\n",
       "ColumnProfile:\n",
       "    column_name: Fare\n",
       "    type: FieldType.DECIMAL\n",
       "\n",
       "    min: 0.0\n",
       "    max: 512.3292\n",
       "    count: 891.0\n",
       "    missing_count: 0.0\n",
       "    not_missing_count: 891.0\n",
       "    percent_missing: 0.0\n",
       "    error_count: 0.0\n",
       "    empty_count: 0.0\n",
       "    unique_values: 248\n",
       "\n",
       "\n",
       "    Quantiles (est.):\n",
       "         0.1%: 0.0\n",
       "           1%: 7.544055\n",
       "           5%: 7.5156\n",
       "          25%: 7.90776388888889\n",
       "          50%: 14.456044897959186\n",
       "          75%: 31.065970833333328\n",
       "          95%: 112.45119222222219\n",
       "          99%: 255.39352600000015\n",
       "        99.9%: 512.3292\n",
       "\n",
       "    mean: 32.20420796857465\n",
       "    std: 49.69342859718089\n",
       "    variance: 2469.4368457431156\n",
       "    skewness: 4.771209669373588\n",
       "    kurtosis: 33.123068214278824\n",
       "    whisker_top: 63.34334\n",
       "    whisker_bottom: 0.0\n",
       "\n",
       "ColumnProfile:\n",
       "    column_name: Embarked\n",
       "    type: FieldType.STRING\n",
       "\n",
       "    min: C\n",
       "    max: S\n",
       "    count: 891.0\n",
       "    missing_count: 2.0\n",
       "    not_missing_count: 889.0\n",
       "    percent_missing: 0.002244668911335578\n",
       "    error_count: 0.0\n",
       "    empty_count: 0.0\n",
       "    unique_values: 4\n"
      ]
     },
     "execution_count": 12,
     "metadata": {},
     "output_type": "execute_result"
    }
   ],
   "source": [
    "profile"
   ]
  },
  {
   "cell_type": "code",
   "execution_count": 13,
   "metadata": {},
   "outputs": [],
   "source": [
    "url=\"https://raw.githubusercontent.com/retkowsky/titanic/master/train.csv\"\n",
    "df=pd.read_csv(url, index_col=None, na_values=['NA'])"
   ]
  },
  {
   "cell_type": "code",
   "execution_count": 14,
   "metadata": {},
   "outputs": [
    {
     "data": {
      "text/plain": [
       "PassengerId      0\n",
       "Survived         0\n",
       "Pclass           0\n",
       "Name             0\n",
       "Sex              0\n",
       "Age            177\n",
       "SibSp            0\n",
       "Parch            0\n",
       "Ticket           0\n",
       "Fare             0\n",
       "Cabin          687\n",
       "Embarked         2\n",
       "dtype: int64"
      ]
     },
     "execution_count": 14,
     "metadata": {},
     "output_type": "execute_result"
    }
   ],
   "source": [
    "df.isna().sum()"
   ]
  },
  {
   "cell_type": "code",
   "execution_count": 15,
   "metadata": {},
   "outputs": [],
   "source": [
    "# Suppression valeurs manquantes\n",
    "df = df.dropna()"
   ]
  },
  {
   "cell_type": "code",
   "execution_count": 16,
   "metadata": {},
   "outputs": [
    {
     "data": {
      "text/plain": [
       "PassengerId    0\n",
       "Survived       0\n",
       "Pclass         0\n",
       "Name           0\n",
       "Sex            0\n",
       "Age            0\n",
       "SibSp          0\n",
       "Parch          0\n",
       "Ticket         0\n",
       "Fare           0\n",
       "Cabin          0\n",
       "Embarked       0\n",
       "dtype: int64"
      ]
     },
     "execution_count": 16,
     "metadata": {},
     "output_type": "execute_result"
    }
   ],
   "source": [
    "df.isna().sum()"
   ]
  },
  {
   "cell_type": "code",
   "execution_count": 17,
   "metadata": {},
   "outputs": [
    {
     "data": {
      "text/plain": [
       "(183, 12)"
      ]
     },
     "execution_count": 17,
     "metadata": {},
     "output_type": "execute_result"
    }
   ],
   "source": [
    "# Nombre de col et de lignes\n",
    "df.shape"
   ]
  },
  {
   "cell_type": "code",
   "execution_count": 18,
   "metadata": {},
   "outputs": [
    {
     "data": {
      "text/plain": [
       "Index(['PassengerId', 'Survived', 'Pclass', 'Name', 'Sex', 'Age', 'SibSp',\n",
       "       'Parch', 'Ticket', 'Fare', 'Cabin', 'Embarked'],\n",
       "      dtype='object')"
      ]
     },
     "execution_count": 18,
     "metadata": {},
     "output_type": "execute_result"
    }
   ],
   "source": [
    "df.columns"
   ]
  },
  {
   "cell_type": "code",
   "execution_count": 19,
   "metadata": {},
   "outputs": [
    {
     "data": {
      "text/plain": [
       "PassengerId      int64\n",
       "Survived         int64\n",
       "Pclass           int64\n",
       "Name            object\n",
       "Sex             object\n",
       "Age            float64\n",
       "SibSp            int64\n",
       "Parch            int64\n",
       "Ticket          object\n",
       "Fare           float64\n",
       "Cabin           object\n",
       "Embarked        object\n",
       "dtype: object"
      ]
     },
     "execution_count": 19,
     "metadata": {},
     "output_type": "execute_result"
    }
   ],
   "source": [
    "df.dtypes"
   ]
  },
  {
   "cell_type": "code",
   "execution_count": 20,
   "metadata": {},
   "outputs": [],
   "source": [
    "# Suppression de colonnes\n",
    "df = df.drop(['Cabin','Parch'],axis=1)"
   ]
  },
  {
   "cell_type": "code",
   "execution_count": 21,
   "metadata": {},
   "outputs": [
    {
     "data": {
      "text/html": [
       "<div>\n",
       "<style scoped>\n",
       "    .dataframe tbody tr th:only-of-type {\n",
       "        vertical-align: middle;\n",
       "    }\n",
       "\n",
       "    .dataframe tbody tr th {\n",
       "        vertical-align: top;\n",
       "    }\n",
       "\n",
       "    .dataframe thead th {\n",
       "        text-align: right;\n",
       "    }\n",
       "</style>\n",
       "<table border=\"1\" class=\"dataframe\">\n",
       "  <thead>\n",
       "    <tr style=\"text-align: right;\">\n",
       "      <th></th>\n",
       "      <th>PassengerId</th>\n",
       "      <th>Survived</th>\n",
       "      <th>Pclass</th>\n",
       "      <th>Name</th>\n",
       "      <th>Sex</th>\n",
       "      <th>Age</th>\n",
       "      <th>SibSp</th>\n",
       "      <th>Ticket</th>\n",
       "      <th>Fare</th>\n",
       "      <th>Embarked</th>\n",
       "    </tr>\n",
       "  </thead>\n",
       "  <tbody>\n",
       "    <tr>\n",
       "      <th>1</th>\n",
       "      <td>2</td>\n",
       "      <td>1</td>\n",
       "      <td>1</td>\n",
       "      <td>Cumings, Mrs. John Bradley (Florence Briggs Th...</td>\n",
       "      <td>female</td>\n",
       "      <td>38.0</td>\n",
       "      <td>1</td>\n",
       "      <td>PC 17599</td>\n",
       "      <td>71.2833</td>\n",
       "      <td>C</td>\n",
       "    </tr>\n",
       "    <tr>\n",
       "      <th>3</th>\n",
       "      <td>4</td>\n",
       "      <td>1</td>\n",
       "      <td>1</td>\n",
       "      <td>Futrelle, Mrs. Jacques Heath (Lily May Peel)</td>\n",
       "      <td>female</td>\n",
       "      <td>35.0</td>\n",
       "      <td>1</td>\n",
       "      <td>113803</td>\n",
       "      <td>53.1000</td>\n",
       "      <td>S</td>\n",
       "    </tr>\n",
       "    <tr>\n",
       "      <th>6</th>\n",
       "      <td>7</td>\n",
       "      <td>0</td>\n",
       "      <td>1</td>\n",
       "      <td>McCarthy, Mr. Timothy J</td>\n",
       "      <td>male</td>\n",
       "      <td>54.0</td>\n",
       "      <td>0</td>\n",
       "      <td>17463</td>\n",
       "      <td>51.8625</td>\n",
       "      <td>S</td>\n",
       "    </tr>\n",
       "    <tr>\n",
       "      <th>10</th>\n",
       "      <td>11</td>\n",
       "      <td>1</td>\n",
       "      <td>3</td>\n",
       "      <td>Sandstrom, Miss. Marguerite Rut</td>\n",
       "      <td>female</td>\n",
       "      <td>4.0</td>\n",
       "      <td>1</td>\n",
       "      <td>PP 9549</td>\n",
       "      <td>16.7000</td>\n",
       "      <td>S</td>\n",
       "    </tr>\n",
       "    <tr>\n",
       "      <th>11</th>\n",
       "      <td>12</td>\n",
       "      <td>1</td>\n",
       "      <td>1</td>\n",
       "      <td>Bonnell, Miss. Elizabeth</td>\n",
       "      <td>female</td>\n",
       "      <td>58.0</td>\n",
       "      <td>0</td>\n",
       "      <td>113783</td>\n",
       "      <td>26.5500</td>\n",
       "      <td>S</td>\n",
       "    </tr>\n",
       "    <tr>\n",
       "      <th>21</th>\n",
       "      <td>22</td>\n",
       "      <td>1</td>\n",
       "      <td>2</td>\n",
       "      <td>Beesley, Mr. Lawrence</td>\n",
       "      <td>male</td>\n",
       "      <td>34.0</td>\n",
       "      <td>0</td>\n",
       "      <td>248698</td>\n",
       "      <td>13.0000</td>\n",
       "      <td>S</td>\n",
       "    </tr>\n",
       "    <tr>\n",
       "      <th>23</th>\n",
       "      <td>24</td>\n",
       "      <td>1</td>\n",
       "      <td>1</td>\n",
       "      <td>Sloper, Mr. William Thompson</td>\n",
       "      <td>male</td>\n",
       "      <td>28.0</td>\n",
       "      <td>0</td>\n",
       "      <td>113788</td>\n",
       "      <td>35.5000</td>\n",
       "      <td>S</td>\n",
       "    </tr>\n",
       "    <tr>\n",
       "      <th>27</th>\n",
       "      <td>28</td>\n",
       "      <td>0</td>\n",
       "      <td>1</td>\n",
       "      <td>Fortune, Mr. Charles Alexander</td>\n",
       "      <td>male</td>\n",
       "      <td>19.0</td>\n",
       "      <td>3</td>\n",
       "      <td>19950</td>\n",
       "      <td>263.0000</td>\n",
       "      <td>S</td>\n",
       "    </tr>\n",
       "    <tr>\n",
       "      <th>52</th>\n",
       "      <td>53</td>\n",
       "      <td>1</td>\n",
       "      <td>1</td>\n",
       "      <td>Harper, Mrs. Henry Sleeper (Myna Haxtun)</td>\n",
       "      <td>female</td>\n",
       "      <td>49.0</td>\n",
       "      <td>1</td>\n",
       "      <td>PC 17572</td>\n",
       "      <td>76.7292</td>\n",
       "      <td>C</td>\n",
       "    </tr>\n",
       "    <tr>\n",
       "      <th>54</th>\n",
       "      <td>55</td>\n",
       "      <td>0</td>\n",
       "      <td>1</td>\n",
       "      <td>Ostby, Mr. Engelhart Cornelius</td>\n",
       "      <td>male</td>\n",
       "      <td>65.0</td>\n",
       "      <td>0</td>\n",
       "      <td>113509</td>\n",
       "      <td>61.9792</td>\n",
       "      <td>C</td>\n",
       "    </tr>\n",
       "    <tr>\n",
       "      <th>62</th>\n",
       "      <td>63</td>\n",
       "      <td>0</td>\n",
       "      <td>1</td>\n",
       "      <td>Harris, Mr. Henry Birkhardt</td>\n",
       "      <td>male</td>\n",
       "      <td>45.0</td>\n",
       "      <td>1</td>\n",
       "      <td>36973</td>\n",
       "      <td>83.4750</td>\n",
       "      <td>S</td>\n",
       "    </tr>\n",
       "    <tr>\n",
       "      <th>66</th>\n",
       "      <td>67</td>\n",
       "      <td>1</td>\n",
       "      <td>2</td>\n",
       "      <td>Nye, Mrs. (Elizabeth Ramell)</td>\n",
       "      <td>female</td>\n",
       "      <td>29.0</td>\n",
       "      <td>0</td>\n",
       "      <td>C.A. 29395</td>\n",
       "      <td>10.5000</td>\n",
       "      <td>S</td>\n",
       "    </tr>\n",
       "    <tr>\n",
       "      <th>75</th>\n",
       "      <td>76</td>\n",
       "      <td>0</td>\n",
       "      <td>3</td>\n",
       "      <td>Moen, Mr. Sigurd Hansen</td>\n",
       "      <td>male</td>\n",
       "      <td>25.0</td>\n",
       "      <td>0</td>\n",
       "      <td>348123</td>\n",
       "      <td>7.6500</td>\n",
       "      <td>S</td>\n",
       "    </tr>\n",
       "    <tr>\n",
       "      <th>88</th>\n",
       "      <td>89</td>\n",
       "      <td>1</td>\n",
       "      <td>1</td>\n",
       "      <td>Fortune, Miss. Mabel Helen</td>\n",
       "      <td>female</td>\n",
       "      <td>23.0</td>\n",
       "      <td>3</td>\n",
       "      <td>19950</td>\n",
       "      <td>263.0000</td>\n",
       "      <td>S</td>\n",
       "    </tr>\n",
       "    <tr>\n",
       "      <th>92</th>\n",
       "      <td>93</td>\n",
       "      <td>0</td>\n",
       "      <td>1</td>\n",
       "      <td>Chaffee, Mr. Herbert Fuller</td>\n",
       "      <td>male</td>\n",
       "      <td>46.0</td>\n",
       "      <td>1</td>\n",
       "      <td>W.E.P. 5734</td>\n",
       "      <td>61.1750</td>\n",
       "      <td>S</td>\n",
       "    </tr>\n",
       "    <tr>\n",
       "      <th>96</th>\n",
       "      <td>97</td>\n",
       "      <td>0</td>\n",
       "      <td>1</td>\n",
       "      <td>Goldschmidt, Mr. George B</td>\n",
       "      <td>male</td>\n",
       "      <td>71.0</td>\n",
       "      <td>0</td>\n",
       "      <td>PC 17754</td>\n",
       "      <td>34.6542</td>\n",
       "      <td>C</td>\n",
       "    </tr>\n",
       "    <tr>\n",
       "      <th>97</th>\n",
       "      <td>98</td>\n",
       "      <td>1</td>\n",
       "      <td>1</td>\n",
       "      <td>Greenfield, Mr. William Bertram</td>\n",
       "      <td>male</td>\n",
       "      <td>23.0</td>\n",
       "      <td>0</td>\n",
       "      <td>PC 17759</td>\n",
       "      <td>63.3583</td>\n",
       "      <td>C</td>\n",
       "    </tr>\n",
       "    <tr>\n",
       "      <th>102</th>\n",
       "      <td>103</td>\n",
       "      <td>0</td>\n",
       "      <td>1</td>\n",
       "      <td>White, Mr. Richard Frasar</td>\n",
       "      <td>male</td>\n",
       "      <td>21.0</td>\n",
       "      <td>0</td>\n",
       "      <td>35281</td>\n",
       "      <td>77.2875</td>\n",
       "      <td>S</td>\n",
       "    </tr>\n",
       "    <tr>\n",
       "      <th>110</th>\n",
       "      <td>111</td>\n",
       "      <td>0</td>\n",
       "      <td>1</td>\n",
       "      <td>Porter, Mr. Walter Chamberlain</td>\n",
       "      <td>male</td>\n",
       "      <td>47.0</td>\n",
       "      <td>0</td>\n",
       "      <td>110465</td>\n",
       "      <td>52.0000</td>\n",
       "      <td>S</td>\n",
       "    </tr>\n",
       "    <tr>\n",
       "      <th>118</th>\n",
       "      <td>119</td>\n",
       "      <td>0</td>\n",
       "      <td>1</td>\n",
       "      <td>Baxter, Mr. Quigg Edmond</td>\n",
       "      <td>male</td>\n",
       "      <td>24.0</td>\n",
       "      <td>0</td>\n",
       "      <td>PC 17558</td>\n",
       "      <td>247.5208</td>\n",
       "      <td>C</td>\n",
       "    </tr>\n",
       "  </tbody>\n",
       "</table>\n",
       "</div>"
      ],
      "text/plain": [
       "     PassengerId  Survived  Pclass  \\\n",
       "1              2         1       1   \n",
       "3              4         1       1   \n",
       "6              7         0       1   \n",
       "10            11         1       3   \n",
       "11            12         1       1   \n",
       "21            22         1       2   \n",
       "23            24         1       1   \n",
       "27            28         0       1   \n",
       "52            53         1       1   \n",
       "54            55         0       1   \n",
       "62            63         0       1   \n",
       "66            67         1       2   \n",
       "75            76         0       3   \n",
       "88            89         1       1   \n",
       "92            93         0       1   \n",
       "96            97         0       1   \n",
       "97            98         1       1   \n",
       "102          103         0       1   \n",
       "110          111         0       1   \n",
       "118          119         0       1   \n",
       "\n",
       "                                                  Name     Sex   Age  SibSp  \\\n",
       "1    Cumings, Mrs. John Bradley (Florence Briggs Th...  female  38.0      1   \n",
       "3         Futrelle, Mrs. Jacques Heath (Lily May Peel)  female  35.0      1   \n",
       "6                              McCarthy, Mr. Timothy J    male  54.0      0   \n",
       "10                     Sandstrom, Miss. Marguerite Rut  female   4.0      1   \n",
       "11                            Bonnell, Miss. Elizabeth  female  58.0      0   \n",
       "21                               Beesley, Mr. Lawrence    male  34.0      0   \n",
       "23                        Sloper, Mr. William Thompson    male  28.0      0   \n",
       "27                      Fortune, Mr. Charles Alexander    male  19.0      3   \n",
       "52            Harper, Mrs. Henry Sleeper (Myna Haxtun)  female  49.0      1   \n",
       "54                      Ostby, Mr. Engelhart Cornelius    male  65.0      0   \n",
       "62                         Harris, Mr. Henry Birkhardt    male  45.0      1   \n",
       "66                        Nye, Mrs. (Elizabeth Ramell)  female  29.0      0   \n",
       "75                             Moen, Mr. Sigurd Hansen    male  25.0      0   \n",
       "88                          Fortune, Miss. Mabel Helen  female  23.0      3   \n",
       "92                         Chaffee, Mr. Herbert Fuller    male  46.0      1   \n",
       "96                           Goldschmidt, Mr. George B    male  71.0      0   \n",
       "97                     Greenfield, Mr. William Bertram    male  23.0      0   \n",
       "102                          White, Mr. Richard Frasar    male  21.0      0   \n",
       "110                     Porter, Mr. Walter Chamberlain    male  47.0      0   \n",
       "118                           Baxter, Mr. Quigg Edmond    male  24.0      0   \n",
       "\n",
       "          Ticket      Fare Embarked  \n",
       "1       PC 17599   71.2833        C  \n",
       "3         113803   53.1000        S  \n",
       "6          17463   51.8625        S  \n",
       "10       PP 9549   16.7000        S  \n",
       "11        113783   26.5500        S  \n",
       "21        248698   13.0000        S  \n",
       "23        113788   35.5000        S  \n",
       "27         19950  263.0000        S  \n",
       "52      PC 17572   76.7292        C  \n",
       "54        113509   61.9792        C  \n",
       "62         36973   83.4750        S  \n",
       "66    C.A. 29395   10.5000        S  \n",
       "75        348123    7.6500        S  \n",
       "88         19950  263.0000        S  \n",
       "92   W.E.P. 5734   61.1750        S  \n",
       "96      PC 17754   34.6542        C  \n",
       "97      PC 17759   63.3583        C  \n",
       "102        35281   77.2875        S  \n",
       "110       110465   52.0000        S  \n",
       "118     PC 17558  247.5208        C  "
      ]
     },
     "execution_count": 21,
     "metadata": {},
     "output_type": "execute_result"
    }
   ],
   "source": [
    "df.head(20)"
   ]
  },
  {
   "cell_type": "markdown",
   "metadata": {},
   "source": [
    "## 2. Analyses exploratoires"
   ]
  },
  {
   "cell_type": "code",
   "execution_count": 22,
   "metadata": {},
   "outputs": [
    {
     "data": {
      "text/html": [
       "<div>\n",
       "<style scoped>\n",
       "    .dataframe tbody tr th:only-of-type {\n",
       "        vertical-align: middle;\n",
       "    }\n",
       "\n",
       "    .dataframe tbody tr th {\n",
       "        vertical-align: top;\n",
       "    }\n",
       "\n",
       "    .dataframe thead th {\n",
       "        text-align: right;\n",
       "    }\n",
       "</style>\n",
       "<table border=\"1\" class=\"dataframe\">\n",
       "  <thead>\n",
       "    <tr style=\"text-align: right;\">\n",
       "      <th></th>\n",
       "      <th>PassengerId</th>\n",
       "      <th>Survived</th>\n",
       "      <th>Pclass</th>\n",
       "      <th>Age</th>\n",
       "      <th>SibSp</th>\n",
       "      <th>Fare</th>\n",
       "    </tr>\n",
       "  </thead>\n",
       "  <tbody>\n",
       "    <tr>\n",
       "      <th>count</th>\n",
       "      <td>183.000000</td>\n",
       "      <td>183.000000</td>\n",
       "      <td>183.000000</td>\n",
       "      <td>183.000000</td>\n",
       "      <td>183.000000</td>\n",
       "      <td>183.000000</td>\n",
       "    </tr>\n",
       "    <tr>\n",
       "      <th>mean</th>\n",
       "      <td>455.366120</td>\n",
       "      <td>0.672131</td>\n",
       "      <td>1.191257</td>\n",
       "      <td>35.674426</td>\n",
       "      <td>0.464481</td>\n",
       "      <td>78.682469</td>\n",
       "    </tr>\n",
       "    <tr>\n",
       "      <th>std</th>\n",
       "      <td>247.052476</td>\n",
       "      <td>0.470725</td>\n",
       "      <td>0.515187</td>\n",
       "      <td>15.643866</td>\n",
       "      <td>0.644159</td>\n",
       "      <td>76.347843</td>\n",
       "    </tr>\n",
       "    <tr>\n",
       "      <th>min</th>\n",
       "      <td>2.000000</td>\n",
       "      <td>0.000000</td>\n",
       "      <td>1.000000</td>\n",
       "      <td>0.920000</td>\n",
       "      <td>0.000000</td>\n",
       "      <td>0.000000</td>\n",
       "    </tr>\n",
       "    <tr>\n",
       "      <th>25%</th>\n",
       "      <td>263.500000</td>\n",
       "      <td>0.000000</td>\n",
       "      <td>1.000000</td>\n",
       "      <td>24.000000</td>\n",
       "      <td>0.000000</td>\n",
       "      <td>29.700000</td>\n",
       "    </tr>\n",
       "    <tr>\n",
       "      <th>50%</th>\n",
       "      <td>457.000000</td>\n",
       "      <td>1.000000</td>\n",
       "      <td>1.000000</td>\n",
       "      <td>36.000000</td>\n",
       "      <td>0.000000</td>\n",
       "      <td>57.000000</td>\n",
       "    </tr>\n",
       "    <tr>\n",
       "      <th>75%</th>\n",
       "      <td>676.000000</td>\n",
       "      <td>1.000000</td>\n",
       "      <td>1.000000</td>\n",
       "      <td>47.500000</td>\n",
       "      <td>1.000000</td>\n",
       "      <td>90.000000</td>\n",
       "    </tr>\n",
       "    <tr>\n",
       "      <th>max</th>\n",
       "      <td>890.000000</td>\n",
       "      <td>1.000000</td>\n",
       "      <td>3.000000</td>\n",
       "      <td>80.000000</td>\n",
       "      <td>3.000000</td>\n",
       "      <td>512.329200</td>\n",
       "    </tr>\n",
       "  </tbody>\n",
       "</table>\n",
       "</div>"
      ],
      "text/plain": [
       "       PassengerId    Survived      Pclass         Age       SibSp        Fare\n",
       "count   183.000000  183.000000  183.000000  183.000000  183.000000  183.000000\n",
       "mean    455.366120    0.672131    1.191257   35.674426    0.464481   78.682469\n",
       "std     247.052476    0.470725    0.515187   15.643866    0.644159   76.347843\n",
       "min       2.000000    0.000000    1.000000    0.920000    0.000000    0.000000\n",
       "25%     263.500000    0.000000    1.000000   24.000000    0.000000   29.700000\n",
       "50%     457.000000    1.000000    1.000000   36.000000    0.000000   57.000000\n",
       "75%     676.000000    1.000000    1.000000   47.500000    1.000000   90.000000\n",
       "max     890.000000    1.000000    3.000000   80.000000    3.000000  512.329200"
      ]
     },
     "execution_count": 22,
     "metadata": {},
     "output_type": "execute_result"
    }
   ],
   "source": [
    "df.describe()"
   ]
  },
  {
   "cell_type": "code",
   "execution_count": 23,
   "metadata": {},
   "outputs": [
    {
     "data": {
      "text/html": [
       "<div>\n",
       "<style scoped>\n",
       "    .dataframe tbody tr th:only-of-type {\n",
       "        vertical-align: middle;\n",
       "    }\n",
       "\n",
       "    .dataframe tbody tr th {\n",
       "        vertical-align: top;\n",
       "    }\n",
       "\n",
       "    .dataframe thead th {\n",
       "        text-align: right;\n",
       "    }\n",
       "</style>\n",
       "<table border=\"1\" class=\"dataframe\">\n",
       "  <thead>\n",
       "    <tr style=\"text-align: right;\">\n",
       "      <th></th>\n",
       "      <th>PassengerId</th>\n",
       "      <th>Survived</th>\n",
       "      <th>Pclass</th>\n",
       "      <th>Age</th>\n",
       "      <th>SibSp</th>\n",
       "      <th>Fare</th>\n",
       "    </tr>\n",
       "  </thead>\n",
       "  <tbody>\n",
       "    <tr>\n",
       "      <th>PassengerId</th>\n",
       "      <td>1.000000</td>\n",
       "      <td>0.148495</td>\n",
       "      <td>-0.089136</td>\n",
       "      <td>0.030933</td>\n",
       "      <td>-0.083488</td>\n",
       "      <td>0.029740</td>\n",
       "    </tr>\n",
       "    <tr>\n",
       "      <th>Survived</th>\n",
       "      <td>0.148495</td>\n",
       "      <td>1.000000</td>\n",
       "      <td>-0.034542</td>\n",
       "      <td>-0.254085</td>\n",
       "      <td>0.106346</td>\n",
       "      <td>0.134241</td>\n",
       "    </tr>\n",
       "    <tr>\n",
       "      <th>Pclass</th>\n",
       "      <td>-0.089136</td>\n",
       "      <td>-0.034542</td>\n",
       "      <td>1.000000</td>\n",
       "      <td>-0.306514</td>\n",
       "      <td>-0.103592</td>\n",
       "      <td>-0.315235</td>\n",
       "    </tr>\n",
       "    <tr>\n",
       "      <th>Age</th>\n",
       "      <td>0.030933</td>\n",
       "      <td>-0.254085</td>\n",
       "      <td>-0.306514</td>\n",
       "      <td>1.000000</td>\n",
       "      <td>-0.156162</td>\n",
       "      <td>-0.092424</td>\n",
       "    </tr>\n",
       "    <tr>\n",
       "      <th>SibSp</th>\n",
       "      <td>-0.083488</td>\n",
       "      <td>0.106346</td>\n",
       "      <td>-0.103592</td>\n",
       "      <td>-0.156162</td>\n",
       "      <td>1.000000</td>\n",
       "      <td>0.286433</td>\n",
       "    </tr>\n",
       "    <tr>\n",
       "      <th>Fare</th>\n",
       "      <td>0.029740</td>\n",
       "      <td>0.134241</td>\n",
       "      <td>-0.315235</td>\n",
       "      <td>-0.092424</td>\n",
       "      <td>0.286433</td>\n",
       "      <td>1.000000</td>\n",
       "    </tr>\n",
       "  </tbody>\n",
       "</table>\n",
       "</div>"
      ],
      "text/plain": [
       "             PassengerId  Survived    Pclass       Age     SibSp      Fare\n",
       "PassengerId     1.000000  0.148495 -0.089136  0.030933 -0.083488  0.029740\n",
       "Survived        0.148495  1.000000 -0.034542 -0.254085  0.106346  0.134241\n",
       "Pclass         -0.089136 -0.034542  1.000000 -0.306514 -0.103592 -0.315235\n",
       "Age             0.030933 -0.254085 -0.306514  1.000000 -0.156162 -0.092424\n",
       "SibSp          -0.083488  0.106346 -0.103592 -0.156162  1.000000  0.286433\n",
       "Fare            0.029740  0.134241 -0.315235 -0.092424  0.286433  1.000000"
      ]
     },
     "execution_count": 23,
     "metadata": {},
     "output_type": "execute_result"
    }
   ],
   "source": [
    "df.corr()"
   ]
  },
  {
   "cell_type": "markdown",
   "metadata": {},
   "source": [
    "## 3. Modélisation AutoML avec Azure ML service"
   ]
  },
  {
   "cell_type": "code",
   "execution_count": 24,
   "metadata": {},
   "outputs": [],
   "source": [
    "col_target=['Survived']\n",
    "col_train=['Age','Pclass','Sex','Fare','SibSp','Embarked']\n",
    "X=df[col_train]\n",
    "y=df[col_target]"
   ]
  },
  {
   "cell_type": "code",
   "execution_count": 25,
   "metadata": {},
   "outputs": [
    {
     "data": {
      "text/html": [
       "<div>\n",
       "<style scoped>\n",
       "    .dataframe tbody tr th:only-of-type {\n",
       "        vertical-align: middle;\n",
       "    }\n",
       "\n",
       "    .dataframe tbody tr th {\n",
       "        vertical-align: top;\n",
       "    }\n",
       "\n",
       "    .dataframe thead th {\n",
       "        text-align: right;\n",
       "    }\n",
       "</style>\n",
       "<table border=\"1\" class=\"dataframe\">\n",
       "  <thead>\n",
       "    <tr style=\"text-align: right;\">\n",
       "      <th></th>\n",
       "      <th>Age</th>\n",
       "      <th>Pclass</th>\n",
       "      <th>Fare</th>\n",
       "      <th>SibSp</th>\n",
       "    </tr>\n",
       "  </thead>\n",
       "  <tbody>\n",
       "    <tr>\n",
       "      <th>count</th>\n",
       "      <td>183.000000</td>\n",
       "      <td>183.000000</td>\n",
       "      <td>183.000000</td>\n",
       "      <td>183.000000</td>\n",
       "    </tr>\n",
       "    <tr>\n",
       "      <th>mean</th>\n",
       "      <td>35.674426</td>\n",
       "      <td>1.191257</td>\n",
       "      <td>78.682469</td>\n",
       "      <td>0.464481</td>\n",
       "    </tr>\n",
       "    <tr>\n",
       "      <th>std</th>\n",
       "      <td>15.643866</td>\n",
       "      <td>0.515187</td>\n",
       "      <td>76.347843</td>\n",
       "      <td>0.644159</td>\n",
       "    </tr>\n",
       "    <tr>\n",
       "      <th>min</th>\n",
       "      <td>0.920000</td>\n",
       "      <td>1.000000</td>\n",
       "      <td>0.000000</td>\n",
       "      <td>0.000000</td>\n",
       "    </tr>\n",
       "    <tr>\n",
       "      <th>25%</th>\n",
       "      <td>24.000000</td>\n",
       "      <td>1.000000</td>\n",
       "      <td>29.700000</td>\n",
       "      <td>0.000000</td>\n",
       "    </tr>\n",
       "    <tr>\n",
       "      <th>50%</th>\n",
       "      <td>36.000000</td>\n",
       "      <td>1.000000</td>\n",
       "      <td>57.000000</td>\n",
       "      <td>0.000000</td>\n",
       "    </tr>\n",
       "    <tr>\n",
       "      <th>75%</th>\n",
       "      <td>47.500000</td>\n",
       "      <td>1.000000</td>\n",
       "      <td>90.000000</td>\n",
       "      <td>1.000000</td>\n",
       "    </tr>\n",
       "    <tr>\n",
       "      <th>max</th>\n",
       "      <td>80.000000</td>\n",
       "      <td>3.000000</td>\n",
       "      <td>512.329200</td>\n",
       "      <td>3.000000</td>\n",
       "    </tr>\n",
       "  </tbody>\n",
       "</table>\n",
       "</div>"
      ],
      "text/plain": [
       "              Age      Pclass        Fare       SibSp\n",
       "count  183.000000  183.000000  183.000000  183.000000\n",
       "mean    35.674426    1.191257   78.682469    0.464481\n",
       "std     15.643866    0.515187   76.347843    0.644159\n",
       "min      0.920000    1.000000    0.000000    0.000000\n",
       "25%     24.000000    1.000000   29.700000    0.000000\n",
       "50%     36.000000    1.000000   57.000000    0.000000\n",
       "75%     47.500000    1.000000   90.000000    1.000000\n",
       "max     80.000000    3.000000  512.329200    3.000000"
      ]
     },
     "execution_count": 25,
     "metadata": {},
     "output_type": "execute_result"
    }
   ],
   "source": [
    "X.describe()"
   ]
  },
  {
   "cell_type": "code",
   "execution_count": 26,
   "metadata": {},
   "outputs": [
    {
     "name": "stderr",
     "output_type": "stream",
     "text": [
      "/anaconda/envs/azureml_py36/lib/python3.6/site-packages/ipykernel_launcher.py:2: SettingWithCopyWarning: \n",
      "A value is trying to be set on a copy of a slice from a DataFrame.\n",
      "Try using .loc[row_indexer,col_indexer] = value instead\n",
      "\n",
      "See the caveats in the documentation: http://pandas.pydata.org/pandas-docs/stable/indexing.html#indexing-view-versus-copy\n",
      "  \n"
     ]
    }
   ],
   "source": [
    "dic = {'male':0,'female':1}\n",
    "X['Sex']=X['Sex'].apply(lambda x:dic[x])"
   ]
  },
  {
   "cell_type": "code",
   "execution_count": 27,
   "metadata": {},
   "outputs": [
    {
     "name": "stderr",
     "output_type": "stream",
     "text": [
      "/anaconda/envs/azureml_py36/lib/python3.6/site-packages/pandas/plotting/_tools.py:308: MatplotlibDeprecationWarning: \n",
      "The rowNum attribute was deprecated in Matplotlib 3.2 and will be removed two minor releases later. Use ax.get_subplotspec().rowspan.start instead.\n",
      "  layout[ax.rowNum, ax.colNum] = ax.get_visible()\n",
      "/anaconda/envs/azureml_py36/lib/python3.6/site-packages/pandas/plotting/_tools.py:308: MatplotlibDeprecationWarning: \n",
      "The colNum attribute was deprecated in Matplotlib 3.2 and will be removed two minor releases later. Use ax.get_subplotspec().colspan.start instead.\n",
      "  layout[ax.rowNum, ax.colNum] = ax.get_visible()\n",
      "/anaconda/envs/azureml_py36/lib/python3.6/site-packages/pandas/plotting/_tools.py:314: MatplotlibDeprecationWarning: \n",
      "The rowNum attribute was deprecated in Matplotlib 3.2 and will be removed two minor releases later. Use ax.get_subplotspec().rowspan.start instead.\n",
      "  if not layout[ax.rowNum + 1, ax.colNum]:\n",
      "/anaconda/envs/azureml_py36/lib/python3.6/site-packages/pandas/plotting/_tools.py:314: MatplotlibDeprecationWarning: \n",
      "The colNum attribute was deprecated in Matplotlib 3.2 and will be removed two minor releases later. Use ax.get_subplotspec().colspan.start instead.\n",
      "  if not layout[ax.rowNum + 1, ax.colNum]:\n"
     ]
    },
    {
     "data": {
      "image/png": "[encoded data removed]",
      "text/plain": [
       "<Figure size 864x864 with 6 Axes>"
      ]
     },
     "metadata": {
      "needs_background": "light"
     },
     "output_type": "display_data"
    }
   ],
   "source": [
    "df.hist(bins=10,figsize=(12,12),grid=False);"
   ]
  },
  {
   "cell_type": "code",
   "execution_count": 28,
   "metadata": {},
   "outputs": [],
   "source": [
    "def tableau (param1, param2):\n",
    "    df_slice = df[[param1, param2, 'PassengerId']]\n",
    "    slice_pivot = df_slice.pivot_table(index=[param1], columns=[param2],aggfunc=np.size, fill_value=0)\n",
    "    \n",
    "    p_chart = slice_pivot.plot.bar()\n",
    "    for p in p_chart.patches:\n",
    "        p_chart.annotate(str(p.get_height()), (p.get_x() * 1.05, p.get_height() * 1.01))\n",
    "    \n",
    "    return slice_pivot\n",
    "    return p_chart"
   ]
  },
  {
   "cell_type": "code",
   "execution_count": 29,
   "metadata": {},
   "outputs": [
    {
     "data": {
      "text/html": [
       "<div>\n",
       "<style scoped>\n",
       "    .dataframe tbody tr th:only-of-type {\n",
       "        vertical-align: middle;\n",
       "    }\n",
       "\n",
       "    .dataframe tbody tr th {\n",
       "        vertical-align: top;\n",
       "    }\n",
       "\n",
       "    .dataframe thead tr th {\n",
       "        text-align: left;\n",
       "    }\n",
       "\n",
       "    .dataframe thead tr:last-of-type th {\n",
       "        text-align: right;\n",
       "    }\n",
       "</style>\n",
       "<table border=\"1\" class=\"dataframe\">\n",
       "  <thead>\n",
       "    <tr>\n",
       "      <th></th>\n",
       "      <th colspan=\"3\" halign=\"left\">PassengerId</th>\n",
       "    </tr>\n",
       "    <tr>\n",
       "      <th>Pclass</th>\n",
       "      <th>1</th>\n",
       "      <th>2</th>\n",
       "      <th>3</th>\n",
       "    </tr>\n",
       "    <tr>\n",
       "      <th>Survived</th>\n",
       "      <th></th>\n",
       "      <th></th>\n",
       "      <th></th>\n",
       "    </tr>\n",
       "  </thead>\n",
       "  <tbody>\n",
       "    <tr>\n",
       "      <th>0</th>\n",
       "      <td>52</td>\n",
       "      <td>3</td>\n",
       "      <td>5</td>\n",
       "    </tr>\n",
       "    <tr>\n",
       "      <th>1</th>\n",
       "      <td>106</td>\n",
       "      <td>12</td>\n",
       "      <td>5</td>\n",
       "    </tr>\n",
       "  </tbody>\n",
       "</table>\n",
       "</div>"
      ],
      "text/plain": [
       "         PassengerId       \n",
       "Pclass             1   2  3\n",
       "Survived                   \n",
       "0                 52   3  5\n",
       "1                106  12  5"
      ]
     },
     "execution_count": 29,
     "metadata": {},
     "output_type": "execute_result"
    },
    {
     "data": {
      "image/png": "[encoded data removed]",
      "text/plain": [
       "<Figure size 432x288 with 1 Axes>"
      ]
     },
     "metadata": {
      "needs_background": "light"
     },
     "output_type": "display_data"
    }
   ],
   "source": [
    "tableau ('Survived','Pclass')"
   ]
  },
  {
   "cell_type": "code",
   "execution_count": 30,
   "metadata": {},
   "outputs": [
    {
     "data": {
      "text/html": [
       "<div>\n",
       "<style scoped>\n",
       "    .dataframe tbody tr th:only-of-type {\n",
       "        vertical-align: middle;\n",
       "    }\n",
       "\n",
       "    .dataframe tbody tr th {\n",
       "        vertical-align: top;\n",
       "    }\n",
       "\n",
       "    .dataframe thead tr th {\n",
       "        text-align: left;\n",
       "    }\n",
       "\n",
       "    .dataframe thead tr:last-of-type th {\n",
       "        text-align: right;\n",
       "    }\n",
       "</style>\n",
       "<table border=\"1\" class=\"dataframe\">\n",
       "  <thead>\n",
       "    <tr>\n",
       "      <th></th>\n",
       "      <th colspan=\"2\" halign=\"left\">PassengerId</th>\n",
       "    </tr>\n",
       "    <tr>\n",
       "      <th>Sex</th>\n",
       "      <th>female</th>\n",
       "      <th>male</th>\n",
       "    </tr>\n",
       "    <tr>\n",
       "      <th>Survived</th>\n",
       "      <th></th>\n",
       "      <th></th>\n",
       "    </tr>\n",
       "  </thead>\n",
       "  <tbody>\n",
       "    <tr>\n",
       "      <th>0</th>\n",
       "      <td>6</td>\n",
       "      <td>54</td>\n",
       "    </tr>\n",
       "    <tr>\n",
       "      <th>1</th>\n",
       "      <td>82</td>\n",
       "      <td>41</td>\n",
       "    </tr>\n",
       "  </tbody>\n",
       "</table>\n",
       "</div>"
      ],
      "text/plain": [
       "         PassengerId     \n",
       "Sex           female male\n",
       "Survived                 \n",
       "0                  6   54\n",
       "1                 82   41"
      ]
     },
     "execution_count": 30,
     "metadata": {},
     "output_type": "execute_result"
    },
    {
     "data": {
      "image/png": "[encoded data removed]",
      "text/plain": [
       "<Figure size 432x288 with 1 Axes>"
      ]
     },
     "metadata": {
      "needs_background": "light"
     },
     "output_type": "display_data"
    }
   ],
   "source": [
    "tableau ('Survived','Sex')"
   ]
  },
  {
   "cell_type": "code",
   "execution_count": 31,
   "metadata": {},
   "outputs": [
    {
     "data": {
      "text/html": [
       "<div>\n",
       "<style scoped>\n",
       "    .dataframe tbody tr th:only-of-type {\n",
       "        vertical-align: middle;\n",
       "    }\n",
       "\n",
       "    .dataframe tbody tr th {\n",
       "        vertical-align: top;\n",
       "    }\n",
       "\n",
       "    .dataframe thead tr th {\n",
       "        text-align: left;\n",
       "    }\n",
       "\n",
       "    .dataframe thead tr:last-of-type th {\n",
       "        text-align: right;\n",
       "    }\n",
       "</style>\n",
       "<table border=\"1\" class=\"dataframe\">\n",
       "  <thead>\n",
       "    <tr>\n",
       "      <th></th>\n",
       "      <th colspan=\"3\" halign=\"left\">PassengerId</th>\n",
       "    </tr>\n",
       "    <tr>\n",
       "      <th>Embarked</th>\n",
       "      <th>C</th>\n",
       "      <th>Q</th>\n",
       "      <th>S</th>\n",
       "    </tr>\n",
       "    <tr>\n",
       "      <th>Survived</th>\n",
       "      <th></th>\n",
       "      <th></th>\n",
       "      <th></th>\n",
       "    </tr>\n",
       "  </thead>\n",
       "  <tbody>\n",
       "    <tr>\n",
       "      <th>0</th>\n",
       "      <td>17</td>\n",
       "      <td>1</td>\n",
       "      <td>42</td>\n",
       "    </tr>\n",
       "    <tr>\n",
       "      <th>1</th>\n",
       "      <td>48</td>\n",
       "      <td>1</td>\n",
       "      <td>74</td>\n",
       "    </tr>\n",
       "  </tbody>\n",
       "</table>\n",
       "</div>"
      ],
      "text/plain": [
       "         PassengerId       \n",
       "Embarked           C  Q   S\n",
       "Survived                   \n",
       "0                 17  1  42\n",
       "1                 48  1  74"
      ]
     },
     "execution_count": 31,
     "metadata": {},
     "output_type": "execute_result"
    },
    {
     "data": {
      "image/png": "[encoded data removed]",
      "text/plain": [
       "<Figure size 432x288 with 1 Axes>"
      ]
     },
     "metadata": {
      "needs_background": "light"
     },
     "output_type": "display_data"
    }
   ],
   "source": [
    "tableau ('Survived','Embarked')"
   ]
  },
  {
   "cell_type": "markdown",
   "metadata": {},
   "source": [
    "### 3.1 Partitionnement des données"
   ]
  },
  {
   "cell_type": "code",
   "execution_count": 32,
   "metadata": {},
   "outputs": [],
   "source": [
    "from sklearn.model_selection import train_test_split\n",
    "X_train,X_test,y_train,y_test=train_test_split(X,y,test_size=0.3, random_state=10)"
   ]
  },
  {
   "cell_type": "code",
   "execution_count": 33,
   "metadata": {},
   "outputs": [
    {
     "name": "stdout",
     "output_type": "stream",
     "text": [
      "(183, 6)\n"
     ]
    }
   ],
   "source": [
    "print(X.shape)"
   ]
  },
  {
   "cell_type": "code",
   "execution_count": 34,
   "metadata": {},
   "outputs": [
    {
     "name": "stdout",
     "output_type": "stream",
     "text": [
      "(128, 6)\n"
     ]
    }
   ],
   "source": [
    "print(X_train.shape)"
   ]
  },
  {
   "cell_type": "code",
   "execution_count": 35,
   "metadata": {},
   "outputs": [
    {
     "name": "stdout",
     "output_type": "stream",
     "text": [
      "(55, 6)\n"
     ]
    }
   ],
   "source": [
    "print(X_test.shape)"
   ]
  },
  {
   "cell_type": "code",
   "execution_count": 36,
   "metadata": {},
   "outputs": [
    {
     "data": {
      "text/plain": [
       "<matplotlib.axes._subplots.AxesSubplot at 0x7f0e8c092470>"
      ]
     },
     "execution_count": 36,
     "metadata": {},
     "output_type": "execute_result"
    },
    {
     "data": {
      "image/png": "[encoded data removed]",
      "text/plain": [
       "<Figure size 432x288 with 1 Axes>"
      ]
     },
     "metadata": {
      "needs_background": "light"
     },
     "output_type": "display_data"
    }
   ],
   "source": [
    "df.groupby('Survived').size().plot(kind='bar')"
   ]
  },
  {
   "cell_type": "code",
   "execution_count": 37,
   "metadata": {},
   "outputs": [
    {
     "data": {
      "text/plain": [
       "<matplotlib.axes._subplots.AxesSubplot at 0x7f0e8c078390>"
      ]
     },
     "execution_count": 37,
     "metadata": {},
     "output_type": "execute_result"
    },
    {
     "data": {
      "image/png": "[encoded data removed]",
      "text/plain": [
       "<Figure size 432x288 with 1 Axes>"
      ]
     },
     "metadata": {
      "needs_background": "light"
     },
     "output_type": "display_data"
    }
   ],
   "source": [
    "# Sur le Training\n",
    "y_train.groupby('Survived').size().plot(kind='bar')"
   ]
  },
  {
   "cell_type": "code",
   "execution_count": 38,
   "metadata": {},
   "outputs": [
    {
     "data": {
      "text/plain": [
       "<matplotlib.axes._subplots.AxesSubplot at 0x7f0e7f71cbe0>"
      ]
     },
     "execution_count": 38,
     "metadata": {},
     "output_type": "execute_result"
    },
    {
     "data": {
      "image/png": "[encoded data removed]",
      "text/plain": [
       "<Figure size 432x288 with 1 Axes>"
      ]
     },
     "metadata": {
      "needs_background": "light"
     },
     "output_type": "display_data"
    }
   ],
   "source": [
    "# Sur le test\n",
    "y_test.groupby('Survived').size().plot(kind='bar')"
   ]
  },
  {
   "cell_type": "markdown",
   "metadata": {},
   "source": [
    "### 3.2 Connexion workspace Azure ML service"
   ]
  },
  {
   "cell_type": "code",
   "execution_count": 39,
   "metadata": {},
   "outputs": [],
   "source": [
    "ws = Workspace.from_config()\n",
    "\n",
    "experiment_name = 'AutoMLTitanicSDK'\n",
    "\n",
    "project_folder = './sample_projects/automltitanicsdk'"
   ]
  },
  {
   "cell_type": "code",
   "execution_count": 40,
   "metadata": {},
   "outputs": [
    {
     "data": {
      "text/html": [
       "<div>\n",
       "<style scoped>\n",
       "    .dataframe tbody tr th:only-of-type {\n",
       "        vertical-align: middle;\n",
       "    }\n",
       "\n",
       "    .dataframe tbody tr th {\n",
       "        vertical-align: top;\n",
       "    }\n",
       "\n",
       "    .dataframe thead th {\n",
       "        text-align: right;\n",
       "    }\n",
       "</style>\n",
       "<table border=\"1\" class=\"dataframe\">\n",
       "  <thead>\n",
       "    <tr style=\"text-align: right;\">\n",
       "      <th></th>\n",
       "      <th></th>\n",
       "    </tr>\n",
       "  </thead>\n",
       "  <tbody>\n",
       "    <tr>\n",
       "      <th>Version Azure ML service</th>\n",
       "      <td>1.8.0</td>\n",
       "    </tr>\n",
       "    <tr>\n",
       "      <th>Workspace Name</th>\n",
       "      <td>Titanicworkspace</td>\n",
       "    </tr>\n",
       "    <tr>\n",
       "      <th>Resource Group</th>\n",
       "      <td>titanicworkspaceRG</td>\n",
       "    </tr>\n",
       "    <tr>\n",
       "      <th>Location</th>\n",
       "      <td>westeurope</td>\n",
       "    </tr>\n",
       "    <tr>\n",
       "      <th>Project Directory</th>\n",
       "      <td>./sample_projects/automltitanicsdk</td>\n",
       "    </tr>\n",
       "    <tr>\n",
       "      <th>Experiment Name</th>\n",
       "      <td>AutoMLTitanicSDK</td>\n",
       "    </tr>\n",
       "  </tbody>\n",
       "</table>\n",
       "</div>"
      ],
      "text/plain": [
       "                                                            \n",
       "Version Azure ML service  1.8.0                             \n",
       "Workspace Name            Titanicworkspace                  \n",
       "Resource Group            titanicworkspaceRG                \n",
       "Location                  westeurope                        \n",
       "Project Directory         ./sample_projects/automltitanicsdk\n",
       "Experiment Name           AutoMLTitanicSDK                  "
      ]
     },
     "execution_count": 40,
     "metadata": {},
     "output_type": "execute_result"
    }
   ],
   "source": [
    "experiment = Experiment(ws, experiment_name)\n",
    "\n",
    "output = {}\n",
    "output['Version Azure ML service'] = azureml.core.VERSION\n",
    "output['Workspace Name'] = ws.name\n",
    "output['Resource Group'] = ws.resource_group\n",
    "output['Location'] = ws.location\n",
    "output['Project Directory'] = project_folder\n",
    "output['Experiment Name'] = experiment.name\n",
    "pd.set_option('display.max_colwidth', -1)\n",
    "pd.DataFrame(data = output, index = ['']).T"
   ]
  },
  {
   "cell_type": "markdown",
   "metadata": {},
   "source": [
    "### 3.3 AutoML avec Azure ML service"
   ]
  },
  {
   "cell_type": "markdown",
   "metadata": {},
   "source": [
    "### Les principes de l'autoML\n",
    "> https://docs.microsoft.com/en-us/azure/machine-learning/service/concept-automated-ml\n",
    "\n",
    " ### Aide en ligne AutoML avec Azure ML service\n",
    "> https://docs.microsoft.com/en-us/azure/machine-learning/service/how-to-configure-auto-train"
   ]
  },
  {
   "cell_type": "markdown",
   "metadata": {},
   "source": [
    "### Paramétrage AutoML"
   ]
  },
  {
   "cell_type": "code",
   "execution_count": 41,
   "metadata": {},
   "outputs": [],
   "source": [
    "import logging\n",
    "\n",
    "automl_settings = {\n",
    "    \"iteration_timeout_minutes\" : 5,             # Time out per iteration\n",
    "    \"experiment_timeout_minutes\" : 20,           # Time out for the fullprocess\n",
    "    \"iterations\" : 20,                           # Max number of iterations\n",
    "    \"primary_metric\" : 'AUC_weighted',           # Metric\n",
    "    \"enable_early_stopping\" : True,              # Stopping criteria\n",
    "    \"verbosity\" : logging.INFO,                  # Logging\n",
    "    #\"enable_voting_ensemble\": False,            # No votin model\n",
    "    #\"enable_stack_ensemble\": False              # No ensemble model\n",
    "}"
   ]
  },
  {
   "cell_type": "code",
   "execution_count": 42,
   "metadata": {},
   "outputs": [
    {
     "name": "stderr",
     "output_type": "stream",
     "text": [
      "WARNING - The AutoMLConfig parameters, X and y, will soon be deprecated. Please refer to our documentation for the latest interface: https://aka.ms/AutoMLConfig\n"
     ]
    }
   ],
   "source": [
    "from azureml.train.automl import AutoMLConfig\n",
    "\n",
    "automl_config = AutoMLConfig(task='classification',\n",
    "                             debug_log = 'automated_ml_errors.log',\n",
    "                             path = project_folder,\n",
    "                             model_explainability=True,\n",
    "                             X = X_train.values,\n",
    "                             y = y_train.values.flatten(),\n",
    "                             X_valid = X_test.values,\n",
    "                             y_valid = y_test.values.flatten(),\n",
    "                             **automl_settings)"
   ]
  },
  {
   "cell_type": "markdown",
   "metadata": {},
   "source": [
    "> Liste des modèles disponibles : https://docs.microsoft.com/en-us/azure/machine-learning/service/how-to-configure-auto-train"
   ]
  },
  {
   "cell_type": "markdown",
   "metadata": {},
   "source": [
    "### AUTOML"
   ]
  },
  {
   "cell_type": "code",
   "execution_count": 44,
   "metadata": {},
   "outputs": [
    {
     "name": "stdout",
     "output_type": "stream",
     "text": [
      "Running on local machine\n",
      "Parent Run ID: AutoML_68d7346d-5e57-4610-a182-8e4c2aa1429b\n",
      "\n",
      "Current status: DatasetEvaluation. Gathering dataset statistics.\n",
      "Current status: FeaturesGeneration. Generating features for the dataset.\n",
      "Current status: DatasetFeaturization. Beginning to fit featurizers and featurize the dataset.\n",
      "Current status: DatasetFeaturizationCompleted. Completed fit featurizers and featurizing the dataset.\n",
      "\n",
      "****************************************************************************************************\n",
      "DATA GUARDRAILS: \n",
      "\n",
      "TYPE:         Class balancing detection\n",
      "STATUS:       PASSED\n",
      "DESCRIPTION:  Your inputs were analyzed, and all classes are balanced in your training data.\n",
      "              Learn more about imbalanced data: https://aka.ms/AutomatedMLImbalancedData\n",
      "\n",
      "****************************************************************************************************\n",
      "\n",
      "TYPE:         Missing feature values imputation\n",
      "STATUS:       PASSED\n",
      "DESCRIPTION:  No feature missing values were detected in the training data.\n",
      "              Learn more about missing value imputation: https://aka.ms/AutomatedMLFeaturization\n",
      "\n",
      "****************************************************************************************************\n",
      "\n",
      "TYPE:         High cardinality feature detection\n",
      "STATUS:       PASSED\n",
      "DESCRIPTION:  Your inputs were analyzed, and no high cardinality features were detected.\n",
      "              Learn more about high cardinality feature handling: https://aka.ms/AutomatedMLFeaturization\n",
      "\n",
      "****************************************************************************************************\n",
      "Current status: ModelSelection. Beginning model selection.\n",
      "\n",
      "****************************************************************************************************\n",
      "ITERATION: The iteration being evaluated.\n",
      "PIPELINE: A summary description of the pipeline being evaluated.\n",
      "DURATION: Time taken for the current iteration.\n",
      "METRIC: The result of computing score on the fitted pipeline.\n",
      "BEST: The best observed score thus far.\n",
      "****************************************************************************************************\n",
      "\n",
      " ITERATION   PIPELINE                                       DURATION      METRIC      BEST\n",
      "         0   MaxAbsScaler LightGBM                          0:00:21       0.8596    0.8596\n",
      "         1   MaxAbsScaler XGBoostClassifier                 0:00:18       0.8874    0.8874\n",
      "         2   MaxAbsScaler RandomForest                      0:00:20       0.8341    0.8874\n",
      "         3   MaxAbsScaler SGD                               0:00:19       0.8694    0.8874\n",
      "         4   MaxAbsScaler SGD                               0:00:19       0.8649    0.8874\n",
      "         5   MaxAbsScaler ExtremeRandomTrees                0:00:19       0.8514    0.8874\n",
      "         6   MaxAbsScaler ExtremeRandomTrees                0:00:18       0.8881    0.8881\n",
      "         7   MaxAbsScaler SGD                               0:00:20       0.8649    0.8881\n",
      "         8   MaxAbsScaler RandomForest                      0:00:19       0.8251    0.8881\n",
      "         9   MaxAbsScaler SGD                               0:00:19       0.8709    0.8881\n",
      "        10   MaxAbsScaler RandomForest                      0:00:19       0.8018    0.8881\n",
      "        11   MaxAbsScaler SGD                               0:00:19       0.8649    0.8881\n",
      "        12   MaxAbsScaler SGD                               0:00:19       0.8844    0.8881\n",
      "        13   MaxAbsScaler RandomForest                      0:00:19       0.8566    0.8881\n",
      "        14   StandardScalerWrapper ExtremeRandomTrees       0:00:19       0.8506    0.8881\n",
      "        15   SparseNormalizer ExtremeRandomTrees            0:00:19       0.8866    0.8881\n",
      "        16   SparseNormalizer ExtremeRandomTrees            0:00:19       0.8213    0.8881\n",
      "        17   MaxAbsScaler SGD                               0:00:18       0.8784    0.8881\n",
      "        18   VotingEnsemble                                 0:00:27       0.9114    0.9114\n",
      "        19   StackEnsemble                                  0:00:27       0.8844    0.9114\n",
      "****************************************************************************************************\n",
      "Current status: BestRunExplainModel. Best run model explanations started\n",
      "Current status: ModelExplanationDataSetSetup. Model explanations data setup completed\n",
      "Current status: PickSurrogateModel. Choosing LightGBM as the surrogate model for explanations\n",
      "Current status: EngineeredFeatureExplanations. Computation of engineered features started\n",
      "Current status: EngineeredFeatureExplanations. Computation of engineered features completed\n",
      "Current status: BestRunExplainModel. Best run model explanations completed\n",
      "****************************************************************************************************\n"
     ]
    }
   ],
   "source": [
    "from azureml.core.experiment import Experiment\n",
    "experiment=Experiment(ws, experiment_name)\n",
    "local_run = experiment.submit(automl_config, show_output=True)"
   ]
  },
  {
   "cell_type": "markdown",
   "metadata": {},
   "source": [
    "### Visualisation des itérations depuis Azure ML Studio :"
   ]
  },
  {
   "cell_type": "code",
   "execution_count": 45,
   "metadata": {},
   "outputs": [
    {
     "data": {
      "text/html": [
       "<table style=\"width:100%\"><tr><th>Experiment</th><th>Id</th><th>Type</th><th>Status</th><th>Details Page</th><th>Docs Page</th></tr><tr><td>AutoMLTitanicSDK</td><td>AutoML_68d7346d-5e57-4610-a182-8e4c2aa1429b</td><td>automl</td><td>Completed</td><td><a href=\"https://ml.azure.com/experiments/AutoMLTitanicSDK/runs/AutoML_68d7346d-5e57-4610-a182-8e4c2aa1429b?wsid=/subscriptions/70b8f39e-8863-49f7-b6ba-34a80799550c/resourcegroups/titanicworkspaceRG/workspaces/Titanicworkspace\" target=\"_blank\" rel=\"noopener\">Link to Azure Machine Learning studio</a></td><td><a href=\"https://docs.microsoft.com/en-us/python/api/overview/azure/ml/intro?view=azure-ml-py\" target=\"_blank\" rel=\"noopener\">Link to Documentation</a></td></tr></table>"
      ],
      "text/plain": [
       "Run(Experiment: AutoMLTitanicSDK,\n",
       "Id: AutoML_68d7346d-5e57-4610-a182-8e4c2aa1429b,\n",
       "Type: automl,\n",
       "Status: Completed)"
      ]
     },
     "execution_count": 45,
     "metadata": {},
     "output_type": "execute_result"
    }
   ],
   "source": [
    "local_run"
   ]
  },
  {
   "cell_type": "markdown",
   "metadata": {},
   "source": [
    "### Widget AutoML"
   ]
  },
  {
   "cell_type": "code",
   "execution_count": 46,
   "metadata": {},
   "outputs": [
    {
     "data": {
      "application/vnd.jupyter.widget-view+json": {
       "model_id": "3a93d29dca2248d1982acb9dfe4786cb",
       "version_major": 2,
       "version_minor": 0
      },
      "text/plain": [
       "_AutoMLWidget(widget_settings={'childWidgetDisplay': 'popup', 'send_telemetry': False, 'log_level': 'INFO', 's…"
      ]
     },
     "metadata": {},
     "output_type": "display_data"
    },
    {
     "data": {
      "application/aml.mini.widget.v1": "{\"status\": \"Completed\", \"workbench_run_details_uri\": \"https://ml.azure.com/experiments/AutoMLTitanicSDK/runs/AutoML_68d7346d-5e57-4610-a182-8e4c2aa1429b?wsid=/subscriptions/70b8f39e-8863-49f7-b6ba-34a80799550c/resourcegroups/titanicworkspaceRG/workspaces/Titanicworkspace\", \"run_id\": \"AutoML_68d7346d-5e57-4610-a182-8e4c2aa1429b\", \"run_properties\": {\"run_id\": \"AutoML_68d7346d-5e57-4610-a182-8e4c2aa1429b\", \"created_utc\": \"2020-09-30T15:31:35.413028Z\", \"properties\": {\"num_iterations\": \"20\", \"training_type\": \"TrainFull\", \"acquisition_function\": \"EI\", \"primary_metric\": \"AUC_weighted\", \"train_split\": \"0\", \"acquisition_parameter\": \"0\", \"num_cross_validation\": null, \"target\": \"local\", \"AMLSettingsJsonString\": \"{\\\"name\\\":\\\"AutoMLTitanicSDK\\\",\\\"path\\\":\\\"./sample_projects/automltitanicsdk\\\",\\\"subscription_id\\\":\\\"70b8f39e-8863-49f7-b6ba-34a80799550c\\\",\\\"resource_group\\\":\\\"titanicworkspaceRG\\\",\\\"workspace_name\\\":\\\"Titanicworkspace\\\",\\\"region\\\":\\\"westeurope\\\",\\\"compute_target\\\":\\\"local\\\",\\\"spark_service\\\":null,\\\"azure_service\\\":\\\"Microsoft.AzureNotebookVM\\\",\\\"_local_managed_run_id\\\":null,\\\"iterations\\\":20,\\\"primary_metric\\\":\\\"AUC_weighted\\\",\\\"task_type\\\":\\\"classification\\\",\\\"data_script\\\":null,\\\"validation_size\\\":0.0,\\\"n_cross_validations\\\":null,\\\"y_min\\\":null,\\\"y_max\\\":null,\\\"num_classes\\\":2,\\\"featurization\\\":\\\"auto\\\",\\\"_ignore_package_version_incompatibilities\\\":false,\\\"is_timeseries\\\":false,\\\"max_cores_per_iteration\\\":1,\\\"max_concurrent_iterations\\\":1,\\\"iteration_timeout_minutes\\\":5,\\\"mem_in_mb\\\":null,\\\"enforce_time_on_windows\\\":false,\\\"experiment_timeout_minutes\\\":20,\\\"experiment_exit_score\\\":null,\\\"whitelist_models\\\":null,\\\"blacklist_algos\\\":[\\\"TensorFlowLinearClassifier\\\"],\\\"supported_models\\\":[\\\"AveragedPerceptronClassifier\\\",\\\"BernoulliNaiveBayes\\\",\\\"TensorFlowLinearClassifier\\\",\\\"KNN\\\",\\\"LogisticRegression\\\",\\\"ExtremeRandomTrees\\\",\\\"DecisionTree\\\",\\\"SVM\\\",\\\"LinearSVM\\\",\\\"LightGBM\\\",\\\"SGD\\\",\\\"TensorFlowDNN\\\",\\\"XGBoostClassifier\\\",\\\"GradientBoosting\\\",\\\"RandomForest\\\",\\\"MultinomialNaiveBayes\\\"],\\\"auto_blacklist\\\":true,\\\"blacklist_samples_reached\\\":false,\\\"exclude_nan_labels\\\":true,\\\"verbosity\\\":20,\\\"_debug_log\\\":\\\"automated_ml_errors.log\\\",\\\"show_warnings\\\":false,\\\"model_explainability\\\":true,\\\"service_url\\\":null,\\\"sdk_url\\\":null,\\\"sdk_packages\\\":null,\\\"enable_onnx_compatible_models\\\":false,\\\"enable_split_onnx_featurizer_estimator_models\\\":false,\\\"vm_type\\\":null,\\\"telemetry_verbosity\\\":20,\\\"send_telemetry\\\":true,\\\"enable_dnn\\\":false,\\\"force_text_dnn\\\":false,\\\"enable_feature_sweeping\\\":true,\\\"enable_early_stopping\\\":true,\\\"early_stopping_n_iters\\\":10,\\\"metrics\\\":null,\\\"enable_ensembling\\\":true,\\\"enable_stack_ensembling\\\":true,\\\"ensemble_iterations\\\":15,\\\"enable_tf\\\":false,\\\"enable_cache\\\":true,\\\"enable_subsampling\\\":false,\\\"subsample_seed\\\":null,\\\"enable_nimbusml\\\":false,\\\"enable_streaming\\\":false,\\\"force_streaming\\\":false,\\\"track_child_runs\\\":true,\\\"label_column_name\\\":null,\\\"weight_column_name\\\":null,\\\"cv_split_column_names\\\":null,\\\"enable_local_managed\\\":false,\\\"cost_mode\\\":1,\\\"lag_length\\\":0,\\\"metric_operation\\\":\\\"maximize\\\",\\\"preprocess\\\":true,\\\"scenario\\\":\\\"SDK-Compatible\\\"}\", \"DataPrepJsonString\": null, \"EnableSubsampling\": \"False\", \"runTemplate\": \"AutoML\", \"azureml.runsource\": \"automl\", \"display_task_type\": \"classification\", \"dependencies_versions\": \"{\\\"azureml-widgets\\\": \\\"1.8.0\\\", \\\"azureml-train\\\": \\\"1.8.0\\\", \\\"azureml-train-restclients-hyperdrive\\\": \\\"1.8.0\\\", \\\"azureml-train-core\\\": \\\"1.8.0\\\", \\\"azureml-train-automl\\\": \\\"1.8.0\\\", \\\"azureml-train-automl-runtime\\\": \\\"1.8.0.post1\\\", \\\"azureml-train-automl-client\\\": \\\"1.8.0\\\", \\\"azureml-tensorboard\\\": \\\"1.8.0\\\", \\\"azureml-telemetry\\\": \\\"1.8.0\\\", \\\"azureml-sdk\\\": \\\"1.8.0\\\", \\\"azureml-samples\\\": \\\"0+unknown\\\", \\\"azureml-pipeline\\\": \\\"1.8.0\\\", \\\"azureml-pipeline-steps\\\": \\\"1.8.0\\\", \\\"azureml-pipeline-core\\\": \\\"1.8.0\\\", \\\"azureml-opendatasets\\\": \\\"1.6.0\\\", \\\"azureml-monitoring\\\": \\\"0.1.0a18\\\", \\\"azureml-model-management-sdk\\\": \\\"1.0.1b6.post1\\\", \\\"azureml-mlflow\\\": \\\"1.6.0\\\", \\\"azureml-interpret\\\": \\\"1.8.0\\\", \\\"azureml-explain-model\\\": \\\"1.8.0\\\", \\\"azureml-defaults\\\": \\\"1.8.0\\\", \\\"azureml-dataprep\\\": \\\"1.8.2\\\", \\\"azureml-dataprep-native\\\": \\\"14.2.1\\\", \\\"azureml-datadrift\\\": \\\"1.6.0\\\", \\\"azureml-core\\\": \\\"1.8.0\\\", \\\"azureml-contrib-services\\\": \\\"1.8.0\\\", \\\"azureml-contrib-server\\\": \\\"1.8.0\\\", \\\"azureml-contrib-reinforcementlearning\\\": \\\"1.6.0\\\", \\\"azureml-contrib-pipeline-steps\\\": \\\"1.8.0\\\", \\\"azureml-contrib-notebook\\\": \\\"1.8.0\\\", \\\"azureml-contrib-interpret\\\": \\\"1.6.0\\\", \\\"azureml-contrib-gbdt\\\": \\\"1.6.0\\\", \\\"azureml-contrib-dataset\\\": \\\"1.6.0\\\", \\\"azureml-cli-common\\\": \\\"1.6.0\\\", \\\"azureml-automl-runtime\\\": \\\"1.8.0\\\", \\\"azureml-automl-core\\\": \\\"1.8.0\\\", \\\"azureml-accel-models\\\": \\\"1.6.0\\\"}\", \"ClientSdkVersion\": \"1.8.0\", \"ClientType\": \"SDK\", \"_aml_system_scenario_identification\": \"Local.Parent\", \"environment_cpu_name\": \"AzureML-AutoML\", \"environment_cpu_version\": \"32\", \"environment_gpu_name\": \"AzureML-AutoML-GPU\", \"environment_gpu_version\": \"21\", \"root_attribution\": \"automl\", \"attribution\": \"AutoML\", \"Orchestrator\": \"AutoML\", \"_azureml.ComputeTargetType\": \"local\", \"ProblemInfoJsonString\": \"{\\\"dataset_num_categorical\\\": 0, \\\"is_sparse\\\": true, \\\"subsampling\\\": false, \\\"dataset_classes\\\": 2, \\\"dataset_features\\\": 21, \\\"dataset_samples\\\": 128, \\\"single_frequency_class_detected\\\": false}\", \"feature_skus\": \"automatedml_sdk_guardrails\"}, \"tags\": {\"model_explain_run\": \"best_run\", \"model_explain_best_run_child_id\": \"AutoML_68d7346d-5e57-4610-a182-8e4c2aa1429b_18\", \"best_score\": \"0.9114114114114115\", \"best_pipeline\": \"VotingEnsemble\", \"automl_best_child_run_id\": \"AutoML_68d7346d-5e57-4610-a182-8e4c2aa1429b_18\"}, \"end_time_utc\": \"2020-09-30T15:39:52.99674Z\", \"status\": \"Completed\", \"log_files\": {}, \"log_groups\": [], \"run_duration\": \"0:08:17\"}, \"child_runs\": [{\"run_id\": \"AutoML_68d7346d-5e57-4610-a182-8e4c2aa1429b_0\", \"run_number\": 248, \"metric\": null, \"status\": \"Completed\", \"run_type\": null, \"training_percent\": \"100\", \"start_time\": \"2020-09-30T15:31:53.470844Z\", \"end_time\": \"2020-09-30T15:32:14.349081Z\", \"created_time\": \"2020-09-30T15:31:53.301546Z\", \"created_time_dt\": \"2020-09-30T15:31:53.301546Z\", \"duration\": \"0:00:21\", \"iteration\": \"0\", \"goal\": \"AUC_weighted_max\", \"run_name\": \"MaxAbsScaler, LightGBM\", \"run_properties\": \"copy=True\", \"primary_metric\": 0.85960961, \"best_metric\": 0.85960961}, {\"run_id\": \"AutoML_68d7346d-5e57-4610-a182-8e4c2aa1429b_1\", \"run_number\": 249, \"metric\": null, \"status\": \"Completed\", \"run_type\": null, \"training_percent\": \"100\", \"start_time\": \"2020-09-30T15:32:15.824479Z\", \"end_time\": \"2020-09-30T15:32:33.331367Z\", \"created_time\": \"2020-09-30T15:32:15.464565Z\", \"created_time_dt\": \"2020-09-30T15:32:15.464565Z\", \"duration\": \"0:00:17\", \"iteration\": \"1\", \"goal\": \"AUC_weighted_max\", \"run_name\": \"MaxAbsScaler, XGBoostClassifier\", \"run_properties\": \"copy=True\", \"primary_metric\": 0.88738739, \"best_metric\": 0.88738739}, {\"run_id\": \"AutoML_68d7346d-5e57-4610-a182-8e4c2aa1429b_2\", \"run_number\": 250, \"metric\": null, \"status\": \"Completed\", \"run_type\": null, \"training_percent\": \"100\", \"start_time\": \"2020-09-30T15:32:36.262721Z\", \"end_time\": \"2020-09-30T15:32:54.335849Z\", \"created_time\": \"2020-09-30T15:32:36.02752Z\", \"created_time_dt\": \"2020-09-30T15:32:36.02752Z\", \"duration\": \"0:00:18\", \"iteration\": \"2\", \"goal\": \"AUC_weighted_max\", \"run_name\": \"MaxAbsScaler, RandomForest\", \"run_properties\": \"copy=True\", \"primary_metric\": 0.83408408, \"best_metric\": 0.88738739}, {\"run_id\": \"AutoML_68d7346d-5e57-4610-a182-8e4c2aa1429b_3\", \"run_number\": 251, \"metric\": null, \"status\": \"Completed\", \"run_type\": null, \"training_percent\": \"100\", \"start_time\": \"2020-09-30T15:32:56.258592Z\", \"end_time\": \"2020-09-30T15:33:14.211057Z\", \"created_time\": \"2020-09-30T15:32:56.101691Z\", \"created_time_dt\": \"2020-09-30T15:32:56.101691Z\", \"duration\": \"0:00:18\", \"iteration\": \"3\", \"goal\": \"AUC_weighted_max\", \"run_name\": \"MaxAbsScaler, SGD\", \"run_properties\": \"copy=True\", \"primary_metric\": 0.86936937, \"best_metric\": 0.88738739}, {\"run_id\": \"AutoML_68d7346d-5e57-4610-a182-8e4c2aa1429b_4\", \"run_number\": 252, \"metric\": null, \"status\": \"Completed\", \"run_type\": null, \"training_percent\": \"100\", \"start_time\": \"2020-09-30T15:33:16.653499Z\", \"end_time\": \"2020-09-30T15:33:34.270044Z\", \"created_time\": \"2020-09-30T15:33:16.494332Z\", \"created_time_dt\": \"2020-09-30T15:33:16.494332Z\", \"duration\": \"0:00:17\", \"iteration\": \"4\", \"goal\": \"AUC_weighted_max\", \"run_name\": \"MaxAbsScaler, SGD\", \"run_properties\": \"copy=True\", \"primary_metric\": 0.86486486, \"best_metric\": 0.88738739}, {\"run_id\": \"AutoML_68d7346d-5e57-4610-a182-8e4c2aa1429b_5\", \"run_number\": 253, \"metric\": null, \"status\": \"Completed\", \"run_type\": null, \"training_percent\": \"100\", \"start_time\": \"2020-09-30T15:33:36.902373Z\", \"end_time\": \"2020-09-30T15:33:54.09417Z\", \"created_time\": \"2020-09-30T15:33:36.733917Z\", \"created_time_dt\": \"2020-09-30T15:33:36.733917Z\", \"duration\": \"0:00:17\", \"iteration\": \"5\", \"goal\": \"AUC_weighted_max\", \"run_name\": \"MaxAbsScaler, ExtremeRandomTrees\", \"run_properties\": \"copy=True\", \"primary_metric\": 0.85135135, \"best_metric\": 0.88738739}, {\"run_id\": \"AutoML_68d7346d-5e57-4610-a182-8e4c2aa1429b_6\", \"run_number\": 254, \"metric\": null, \"status\": \"Completed\", \"run_type\": null, \"training_percent\": \"100\", \"start_time\": \"2020-09-30T15:33:56.067729Z\", \"end_time\": \"2020-09-30T15:34:13.431104Z\", \"created_time\": \"2020-09-30T15:33:55.883862Z\", \"created_time_dt\": \"2020-09-30T15:33:55.883862Z\", \"duration\": \"0:00:17\", \"iteration\": \"6\", \"goal\": \"AUC_weighted_max\", \"run_name\": \"MaxAbsScaler, ExtremeRandomTrees\", \"run_properties\": \"copy=True\", \"primary_metric\": 0.88813814, \"best_metric\": 0.88813814}, {\"run_id\": \"AutoML_68d7346d-5e57-4610-a182-8e4c2aa1429b_7\", \"run_number\": 255, \"metric\": null, \"status\": \"Completed\", \"run_type\": null, \"training_percent\": \"100\", \"start_time\": \"2020-09-30T15:34:15.491923Z\", \"end_time\": \"2020-09-30T15:34:33.958527Z\", \"created_time\": \"2020-09-30T15:34:15.32617Z\", \"created_time_dt\": \"2020-09-30T15:34:15.32617Z\", \"duration\": \"0:00:18\", \"iteration\": \"7\", \"goal\": \"AUC_weighted_max\", \"run_name\": \"MaxAbsScaler, SGD\", \"run_properties\": \"copy=True\", \"primary_metric\": 0.86486486, \"best_metric\": 0.88813814}, {\"run_id\": \"AutoML_68d7346d-5e57-4610-a182-8e4c2aa1429b_8\", \"run_number\": 256, \"metric\": null, \"status\": \"Completed\", \"run_type\": null, \"training_percent\": \"100\", \"start_time\": \"2020-09-30T15:34:36.685549Z\", \"end_time\": \"2020-09-30T15:34:54.154655Z\", \"created_time\": \"2020-09-30T15:34:36.517424Z\", \"created_time_dt\": \"2020-09-30T15:34:36.517424Z\", \"duration\": \"0:00:17\", \"iteration\": \"8\", \"goal\": \"AUC_weighted_max\", \"run_name\": \"MaxAbsScaler, RandomForest\", \"run_properties\": \"copy=True\", \"primary_metric\": 0.82507508, \"best_metric\": 0.88813814}, {\"run_id\": \"AutoML_68d7346d-5e57-4610-a182-8e4c2aa1429b_9\", \"run_number\": 257, \"metric\": null, \"status\": \"Completed\", \"run_type\": null, \"training_percent\": \"100\", \"start_time\": \"2020-09-30T15:34:56.234531Z\", \"end_time\": \"2020-09-30T15:35:14.292347Z\", \"created_time\": \"2020-09-30T15:34:56.031398Z\", \"created_time_dt\": \"2020-09-30T15:34:56.031398Z\", \"duration\": \"0:00:18\", \"iteration\": \"9\", \"goal\": \"AUC_weighted_max\", \"run_name\": \"MaxAbsScaler, SGD\", \"run_properties\": \"copy=True\", \"primary_metric\": 0.87087087, \"best_metric\": 0.88813814}, {\"run_id\": \"AutoML_68d7346d-5e57-4610-a182-8e4c2aa1429b_10\", \"run_number\": 258, \"metric\": null, \"status\": \"Completed\", \"run_type\": null, \"training_percent\": \"100\", \"start_time\": \"2020-09-30T15:35:16.895789Z\", \"end_time\": \"2020-09-30T15:35:34.543233Z\", \"created_time\": \"2020-09-30T15:35:16.754388Z\", \"created_time_dt\": \"2020-09-30T15:35:16.754388Z\", \"duration\": \"0:00:17\", \"iteration\": \"10\", \"goal\": \"AUC_weighted_max\", \"run_name\": \"MaxAbsScaler, RandomForest\", \"run_properties\": \"copy=True\", \"primary_metric\": 0.8018018, \"best_metric\": 0.88813814}, {\"run_id\": \"AutoML_68d7346d-5e57-4610-a182-8e4c2aa1429b_11\", \"run_number\": 259, \"metric\": null, \"status\": \"Completed\", \"run_type\": null, \"training_percent\": \"100\", \"start_time\": \"2020-09-30T15:35:36.759272Z\", \"end_time\": \"2020-09-30T15:35:54.398475Z\", \"created_time\": \"2020-09-30T15:35:36.563278Z\", \"created_time_dt\": \"2020-09-30T15:35:36.563278Z\", \"duration\": \"0:00:17\", \"iteration\": \"11\", \"goal\": \"AUC_weighted_max\", \"run_name\": \"MaxAbsScaler, SGD\", \"run_properties\": \"copy=True\", \"primary_metric\": 0.86486486, \"best_metric\": 0.88813814}, {\"run_id\": \"AutoML_68d7346d-5e57-4610-a182-8e4c2aa1429b_12\", \"run_number\": 260, \"metric\": null, \"status\": \"Completed\", \"run_type\": null, \"training_percent\": \"100\", \"start_time\": \"2020-09-30T15:35:56.799403Z\", \"end_time\": \"2020-09-30T15:36:14.814668Z\", \"created_time\": \"2020-09-30T15:35:56.642744Z\", \"created_time_dt\": \"2020-09-30T15:35:56.642744Z\", \"duration\": \"0:00:18\", \"iteration\": \"12\", \"goal\": \"AUC_weighted_max\", \"run_name\": \"MaxAbsScaler, SGD\", \"run_properties\": \"copy=True\", \"primary_metric\": 0.88438438, \"best_metric\": 0.88813814}, {\"run_id\": \"AutoML_68d7346d-5e57-4610-a182-8e4c2aa1429b_13\", \"run_number\": 261, \"metric\": null, \"status\": \"Completed\", \"run_type\": null, \"training_percent\": \"100\", \"start_time\": \"2020-09-30T15:36:17.015035Z\", \"end_time\": \"2020-09-30T15:36:34.788276Z\", \"created_time\": \"2020-09-30T15:36:16.843645Z\", \"created_time_dt\": \"2020-09-30T15:36:16.843645Z\", \"duration\": \"0:00:17\", \"iteration\": \"13\", \"goal\": \"AUC_weighted_max\", \"run_name\": \"MaxAbsScaler, RandomForest\", \"run_properties\": \"copy=True\", \"primary_metric\": 0.85660661, \"best_metric\": 0.88813814}, {\"run_id\": \"AutoML_68d7346d-5e57-4610-a182-8e4c2aa1429b_14\", \"run_number\": 262, \"metric\": null, \"status\": \"Completed\", \"run_type\": null, \"training_percent\": \"100\", \"start_time\": \"2020-09-30T15:36:37.148392Z\", \"end_time\": \"2020-09-30T15:36:55.064362Z\", \"created_time\": \"2020-09-30T15:36:36.961404Z\", \"created_time_dt\": \"2020-09-30T15:36:36.961404Z\", \"duration\": \"0:00:18\", \"iteration\": \"14\", \"goal\": \"AUC_weighted_max\", \"run_name\": \"StandardScalerWrapper, ExtremeRandomTrees\", \"run_properties\": \"<azureml.automl.runtime.shared.model_wrappers.StandardScalerWrapper object at 0x7f0dc011b2e8\", \"primary_metric\": 0.8506006, \"best_metric\": 0.88813814}, {\"run_id\": \"AutoML_68d7346d-5e57-4610-a182-8e4c2aa1429b_15\", \"run_number\": 263, \"metric\": null, \"status\": \"Completed\", \"run_type\": null, \"training_percent\": \"100\", \"start_time\": \"2020-09-30T15:36:57.474874Z\", \"end_time\": \"2020-09-30T15:37:15.178401Z\", \"created_time\": \"2020-09-30T15:36:57.020822Z\", \"created_time_dt\": \"2020-09-30T15:36:57.020822Z\", \"duration\": \"0:00:18\", \"iteration\": \"15\", \"goal\": \"AUC_weighted_max\", \"run_name\": \"SparseNormalizer, ExtremeRandomTrees\", \"run_properties\": \"<azureml.automl.runtime.shared.model_wrappers.SparseNormalizer object at 0x7f0da07eae10\", \"primary_metric\": 0.88663664, \"best_metric\": 0.88813814}, {\"run_id\": \"AutoML_68d7346d-5e57-4610-a182-8e4c2aa1429b_16\", \"run_number\": 264, \"metric\": null, \"status\": \"Completed\", \"run_type\": null, \"training_percent\": \"100\", \"start_time\": \"2020-09-30T15:37:17.555301Z\", \"end_time\": \"2020-09-30T15:37:35.564145Z\", \"created_time\": \"2020-09-30T15:37:17.365027Z\", \"created_time_dt\": \"2020-09-30T15:37:17.365027Z\", \"duration\": \"0:00:18\", \"iteration\": \"16\", \"goal\": \"AUC_weighted_max\", \"run_name\": \"SparseNormalizer, ExtremeRandomTrees\", \"run_properties\": \"<azureml.automl.runtime.shared.model_wrappers.SparseNormalizer object at 0x7f0da075fe10\", \"primary_metric\": 0.82132132, \"best_metric\": 0.88813814}, {\"run_id\": \"AutoML_68d7346d-5e57-4610-a182-8e4c2aa1429b_17\", \"run_number\": 265, \"metric\": null, \"status\": \"Completed\", \"run_type\": null, \"training_percent\": \"100\", \"start_time\": \"2020-09-30T15:37:38.310442Z\", \"end_time\": \"2020-09-30T15:37:55.456755Z\", \"created_time\": \"2020-09-30T15:37:38.123056Z\", \"created_time_dt\": \"2020-09-30T15:37:38.123056Z\", \"duration\": \"0:00:17\", \"iteration\": \"17\", \"goal\": \"AUC_weighted_max\", \"run_name\": \"MaxAbsScaler, SGD\", \"run_properties\": \"copy=True\", \"primary_metric\": 0.87837838, \"best_metric\": 0.88813814}, {\"run_id\": \"AutoML_68d7346d-5e57-4610-a182-8e4c2aa1429b_18\", \"run_number\": 266, \"metric\": null, \"status\": \"Completed\", \"run_type\": null, \"training_percent\": \"100\", \"start_time\": \"2020-09-30T15:37:56.640059Z\", \"end_time\": \"2020-09-30T15:38:23.948988Z\", \"created_time\": \"2020-09-30T15:37:56.441411Z\", \"created_time_dt\": \"2020-09-30T15:37:56.441411Z\", \"duration\": \"0:00:27\", \"iteration\": \"18\", \"goal\": \"AUC_weighted_max\", \"run_name\": \"VotingEnsemble\", \"run_properties\": \"classification_labels=None,\\n               estimators=[('6', Pipeline(memory=None,\\n     steps=[('maxabsscaler', MaxAbsScaler(copy=True\", \"primary_metric\": 0.91141141, \"best_metric\": 0.91141141}, {\"run_id\": \"AutoML_68d7346d-5e57-4610-a182-8e4c2aa1429b_19\", \"run_number\": 267, \"metric\": null, \"status\": \"Completed\", \"run_type\": null, \"training_percent\": \"100\", \"start_time\": \"2020-09-30T15:38:25.518179Z\", \"end_time\": \"2020-09-30T15:38:52.265086Z\", \"created_time\": \"2020-09-30T15:38:25.303506Z\", \"created_time_dt\": \"2020-09-30T15:38:25.303506Z\", \"duration\": \"0:00:26\", \"iteration\": \"19\", \"goal\": \"AUC_weighted_max\", \"run_name\": \"StackEnsemble\", \"run_properties\": \"base_learners=[('6', Pipeline(memory=None,\\n     steps=[('maxabsscaler', MaxAbsScaler(copy=True\", \"primary_metric\": 0.88438438, \"best_metric\": 0.91141141}], \"children_metrics\": {\"categories\": [0], \"series\": {\"average_precision_score_weighted\": [{\"categories\": [\"0\", \"1\", \"2\", \"3\", \"4\", \"5\", \"6\", \"7\", \"8\", \"9\", \"10\", \"11\", \"12\", \"13\", \"14\", \"15\", \"16\", \"17\", \"18\", \"19\"], \"mode\": \"markers\", \"name\": \"average_precision_score_weighted\", \"stepped\": false, \"type\": \"scatter\", \"data\": [0.8767016071420565, 0.8851959053583397, 0.8609707662327887, 0.8789766683064225, 0.8592238561936872, 0.8727631571383309, 0.9012465457920477, 0.8672289210191206, 0.8457707467793039, 0.889530888446029, 0.8258584134194372, 0.8722932552190408, 0.8925490193673964, 0.8826438977023442, 0.8775454324820964, 0.8923103112279072, 0.8564122105923142, 0.894163778731178, 0.9225432403611944, 0.8969729263443652]}, {\"categories\": [\"0\", \"1\", \"2\", \"3\", \"4\", \"5\", \"6\", \"7\", \"8\", \"9\", \"10\", \"11\", \"12\", \"13\", \"14\", \"15\", \"16\", \"17\", \"18\", \"19\"], \"mode\": \"lines\", \"name\": \"average_precision_score_weighted_max\", \"stepped\": true, \"type\": \"scatter\", \"data\": [0.8767016071420565, 0.8851959053583397, 0.8851959053583397, 0.8851959053583397, 0.8851959053583397, 0.8851959053583397, 0.9012465457920477, 0.9012465457920477, 0.9012465457920477, 0.9012465457920477, 0.9012465457920477, 0.9012465457920477, 0.9012465457920477, 0.9012465457920477, 0.9012465457920477, 0.9012465457920477, 0.9012465457920477, 0.9012465457920477, 0.9225432403611944, 0.9225432403611944]}], \"average_precision_score_micro\": [{\"categories\": [\"0\", \"1\", \"2\", \"3\", \"4\", \"5\", \"6\", \"7\", \"8\", \"9\", \"10\", \"11\", \"12\", \"13\", \"14\", \"15\", \"16\", \"17\", \"18\", \"19\"], \"mode\": \"markers\", \"name\": \"average_precision_score_micro\", \"stepped\": false, \"type\": \"scatter\", \"data\": [0.8893506835743175, 0.8872468155184201, 0.8703162358541685, 0.8811366011338657, 0.8907200697346217, 0.8851472246759634, 0.90578056700858, 0.865048849640181, 0.8629729636003409, 0.8961256990935625, 0.8413389241098664, 0.8782988495679334, 0.8828850074232918, 0.8902135600738182, 0.8839961714052093, 0.9013888799432379, 0.8704119686770859, 0.9023958158843933, 0.9277863580457313, 0.9037212993684933]}, {\"categories\": [\"0\", \"1\", \"2\", \"3\", \"4\", \"5\", \"6\", \"7\", \"8\", \"9\", \"10\", \"11\", \"12\", \"13\", \"14\", \"15\", \"16\", \"17\", \"18\", \"19\"], \"mode\": \"lines\", \"name\": \"average_precision_score_micro_max\", \"stepped\": true, \"type\": \"scatter\", \"data\": [0.8893506835743175, 0.8893506835743175, 0.8893506835743175, 0.8893506835743175, 0.8907200697346217, 0.8907200697346217, 0.90578056700858, 0.90578056700858, 0.90578056700858, 0.90578056700858, 0.90578056700858, 0.90578056700858, 0.90578056700858, 0.90578056700858, 0.90578056700858, 0.90578056700858, 0.90578056700858, 0.90578056700858, 0.9277863580457313, 0.9277863580457313]}], \"precision_score_micro\": [{\"categories\": [\"0\", \"1\", \"2\", \"3\", \"4\", \"5\", \"6\", \"7\", \"8\", \"9\", \"10\", \"11\", \"12\", \"13\", \"14\", \"15\", \"16\", \"17\", \"18\", \"19\"], \"mode\": \"markers\", \"name\": \"precision_score_micro\", \"stepped\": false, \"type\": \"scatter\", \"data\": [0.7454545454545455, 0.7636363636363637, 0.7818181818181819, 0.7636363636363637, 0.7636363636363637, 0.7454545454545455, 0.7818181818181819, 0.7818181818181819, 0.6727272727272727, 0.7636363636363637, 0.7454545454545455, 0.7454545454545455, 0.7818181818181819, 0.7636363636363637, 0.7636363636363637, 0.7818181818181819, 0.8, 0.7636363636363637, 0.8545454545454545, 0.7636363636363637]}, {\"categories\": [\"0\", \"1\", \"2\", \"3\", \"4\", \"5\", \"6\", \"7\", \"8\", \"9\", \"10\", \"11\", \"12\", \"13\", \"14\", \"15\", \"16\", \"17\", \"18\", \"19\"], \"mode\": \"lines\", \"name\": \"precision_score_micro_max\", \"stepped\": true, \"type\": \"scatter\", \"data\": [0.7454545454545455, 0.7636363636363637, 0.7818181818181819, 0.7818181818181819, 0.7818181818181819, 0.7818181818181819, 0.7818181818181819, 0.7818181818181819, 0.7818181818181819, 0.7818181818181819, 0.7818181818181819, 0.7818181818181819, 0.7818181818181819, 0.7818181818181819, 0.7818181818181819, 0.7818181818181819, 0.8, 0.8, 0.8545454545454545, 0.8545454545454545]}], \"balanced_accuracy\": [{\"categories\": [\"0\", \"1\", \"2\", \"3\", \"4\", \"5\", \"6\", \"7\", \"8\", \"9\", \"10\", \"11\", \"12\", \"13\", \"14\", \"15\", \"16\", \"17\", \"18\", \"19\"], \"mode\": \"markers\", \"name\": \"balanced_accuracy\", \"stepped\": false, \"type\": \"scatter\", \"data\": [0.6681681681681682, 0.6674174174174174, 0.6666666666666666, 0.81006006006006, 0.7815315315315315, 0.7394894894894894, 0.795045045045045, 0.6809309309309309, 0.5998498498498499, 0.7102102102102102, 0.6253753753753755, 0.8108108108108107, 0.6809309309309309, 0.7244744744744744, 0.7815315315315315, 0.7094594594594594, 0.7515015015015015, 0.7102102102102102, 0.8205705705705706, 0.7672672672672673]}, {\"categories\": [\"0\", \"1\", \"2\", \"3\", \"4\", \"5\", \"6\", \"7\", \"8\", \"9\", \"10\", \"11\", \"12\", \"13\", \"14\", \"15\", \"16\", \"17\", \"18\", \"19\"], \"mode\": \"lines\", \"name\": \"balanced_accuracy_max\", \"stepped\": true, \"type\": \"scatter\", \"data\": [0.6681681681681682, 0.6681681681681682, 0.6681681681681682, 0.81006006006006, 0.81006006006006, 0.81006006006006, 0.81006006006006, 0.81006006006006, 0.81006006006006, 0.81006006006006, 0.81006006006006, 0.8108108108108107, 0.8108108108108107, 0.8108108108108107, 0.8108108108108107, 0.8108108108108107, 0.8108108108108107, 0.8108108108108107, 0.8205705705705706, 0.8205705705705706]}], \"average_precision_score_macro\": [{\"categories\": [\"0\", \"1\", \"2\", \"3\", \"4\", \"5\", \"6\", \"7\", \"8\", \"9\", \"10\", \"11\", \"12\", \"13\", \"14\", \"15\", \"16\", \"17\", \"18\", \"19\"], \"mode\": \"markers\", \"name\": \"average_precision_score_macro\", \"stepped\": false, \"type\": \"scatter\", \"data\": [0.8457092268383455, 0.852001916773546, 0.8347497100947736, 0.8452771788841835, 0.8157558302743886, 0.8395418300303336, 0.8763963567345505, 0.8284036714583632, 0.8058908153212381, 0.8613869687527259, 0.784421957761218, 0.8362170826833585, 0.8631262023061522, 0.857674988653603, 0.8493258838395634, 0.8623232979295246, 0.8299066257812666, 0.8665632645754016, 0.9029463682548229, 0.8704946166874181]}, {\"categories\": [\"0\", \"1\", \"2\", \"3\", \"4\", \"5\", \"6\", \"7\", \"8\", \"9\", \"10\", \"11\", \"12\", \"13\", \"14\", \"15\", \"16\", \"17\", \"18\", \"19\"], \"mode\": \"lines\", \"name\": \"average_precision_score_macro_max\", \"stepped\": true, \"type\": \"scatter\", \"data\": [0.8457092268383455, 0.852001916773546, 0.852001916773546, 0.852001916773546, 0.852001916773546, 0.852001916773546, 0.8763963567345505, 0.8763963567345505, 0.8763963567345505, 0.8763963567345505, 0.8763963567345505, 0.8763963567345505, 0.8763963567345505, 0.8763963567345505, 0.8763963567345505, 0.8763963567345505, 0.8763963567345505, 0.8763963567345505, 0.9029463682548229, 0.9029463682548229]}], \"precision_score_macro\": [{\"categories\": [\"0\", \"1\", \"2\", \"3\", \"4\", \"5\", \"6\", \"7\", \"8\", \"9\", \"10\", \"11\", \"12\", \"13\", \"14\", \"15\", \"16\", \"17\", \"18\", \"19\"], \"mode\": \"markers\", \"name\": \"precision_score_macro\", \"stepped\": false, \"type\": \"scatter\", \"data\": [0.7170542635658914, 0.7693236714975846, 0.8775510204081632, 0.7738726790450928, 0.75, 0.7196969696969697, 0.7641129032258065, 0.8204787234042553, 0.6158536585365854, 0.7333333333333334, 0.7840136054421769, 0.78125, 0.8204787234042553, 0.7314241486068112, 0.75, 0.7703488372093024, 0.7791666666666666, 0.7333333333333334, 0.8421474358974359, 0.7418478260869565]}, {\"categories\": [\"0\", \"1\", \"2\", \"3\", \"4\", \"5\", \"6\", \"7\", \"8\", \"9\", \"10\", \"11\", \"12\", \"13\", \"14\", \"15\", \"16\", \"17\", \"18\", \"19\"], \"mode\": \"lines\", \"name\": \"precision_score_macro_max\", \"stepped\": true, \"type\": \"scatter\", \"data\": [0.7170542635658914, 0.7693236714975846, 0.8775510204081632, 0.8775510204081632, 0.8775510204081632, 0.8775510204081632, 0.8775510204081632, 0.8775510204081632, 0.8775510204081632, 0.8775510204081632, 0.8775510204081632, 0.8775510204081632, 0.8775510204081632, 0.8775510204081632, 0.8775510204081632, 0.8775510204081632, 0.8775510204081632, 0.8775510204081632, 0.8775510204081632, 0.8775510204081632]}], \"f1_score_micro\": [{\"categories\": [\"0\", \"1\", \"2\", \"3\", \"4\", \"5\", \"6\", \"7\", \"8\", \"9\", \"10\", \"11\", \"12\", \"13\", \"14\", \"15\", \"16\", \"17\", \"18\", \"19\"], \"mode\": \"markers\", \"name\": \"f1_score_micro\", \"stepped\": false, \"type\": \"scatter\", \"data\": [0.7454545454545455, 0.7636363636363637, 0.7818181818181819, 0.7636363636363637, 0.7636363636363637, 0.7454545454545455, 0.7818181818181819, 0.7818181818181819, 0.6727272727272727, 0.7636363636363637, 0.7454545454545455, 0.7454545454545455, 0.7818181818181819, 0.7636363636363637, 0.7636363636363637, 0.7818181818181819, 0.8000000000000002, 0.7636363636363637, 0.8545454545454545, 0.7636363636363637]}, {\"categories\": [\"0\", \"1\", \"2\", \"3\", \"4\", \"5\", \"6\", \"7\", \"8\", \"9\", \"10\", \"11\", \"12\", \"13\", \"14\", \"15\", \"16\", \"17\", \"18\", \"19\"], \"mode\": \"lines\", \"name\": \"f1_score_micro_max\", \"stepped\": true, \"type\": \"scatter\", \"data\": [0.7454545454545455, 0.7636363636363637, 0.7818181818181819, 0.7818181818181819, 0.7818181818181819, 0.7818181818181819, 0.7818181818181819, 0.7818181818181819, 0.7818181818181819, 0.7818181818181819, 0.7818181818181819, 0.7818181818181819, 0.7818181818181819, 0.7818181818181819, 0.7818181818181819, 0.7818181818181819, 0.8000000000000002, 0.8000000000000002, 0.8545454545454545, 0.8545454545454545]}], \"AUC_micro\": [{\"categories\": [\"0\", \"1\", \"2\", \"3\", \"4\", \"5\", \"6\", \"7\", \"8\", \"9\", \"10\", \"11\", \"12\", \"13\", \"14\", \"15\", \"16\", \"17\", \"18\", \"19\"], \"mode\": \"markers\", \"name\": \"AUC_micro\", \"stepped\": false, \"type\": \"scatter\", \"data\": [0.8786776859504133, 0.8800000000000001, 0.8667768595041322, 0.871404958677686, 0.88, 0.8697520661157025, 0.8958677685950414, 0.8505785123966942, 0.8472727272727272, 0.8839669421487604, 0.8307438016528925, 0.8684297520661156, 0.8723966942148761, 0.8790082644628099, 0.8684297520661157, 0.8925619834710744, 0.8595041322314049, 0.8912396694214876, 0.9206611570247933, 0.8945454545454545]}, {\"categories\": [\"0\", \"1\", \"2\", \"3\", \"4\", \"5\", \"6\", \"7\", \"8\", \"9\", \"10\", \"11\", \"12\", \"13\", \"14\", \"15\", \"16\", \"17\", \"18\", \"19\"], \"mode\": \"lines\", \"name\": \"AUC_micro_max\", \"stepped\": true, \"type\": \"scatter\", \"data\": [0.8786776859504133, 0.8800000000000001, 0.8800000000000001, 0.8800000000000001, 0.8800000000000001, 0.8800000000000001, 0.8958677685950414, 0.8958677685950414, 0.8958677685950414, 0.8958677685950414, 0.8958677685950414, 0.8958677685950414, 0.8958677685950414, 0.8958677685950414, 0.8958677685950414, 0.8958677685950414, 0.8958677685950414, 0.8958677685950414, 0.9206611570247933, 0.9206611570247933]}], \"AUC_weighted\": [{\"categories\": [\"0\", \"1\", \"2\", \"3\", \"4\", \"5\", \"6\", \"7\", \"8\", \"9\", \"10\", \"11\", \"12\", \"13\", \"14\", \"15\", \"16\", \"17\", \"18\", \"19\"], \"mode\": \"markers\", \"name\": \"AUC_weighted\", \"stepped\": false, \"type\": \"scatter\", \"data\": [0.8596096096096096, 0.8873873873873874, 0.8340840840840841, 0.8693693693693694, 0.8648648648648648, 0.8513513513513513, 0.888138138138138, 0.8648648648648648, 0.8250750750750752, 0.8708708708708709, 0.8018018018018018, 0.8648648648648648, 0.8843843843843845, 0.8566066066066066, 0.8506006006006006, 0.8866366366366367, 0.8213213213213214, 0.8783783783783783, 0.9114114114114115, 0.8843843843843845]}, {\"categories\": [\"0\", \"1\", \"2\", \"3\", \"4\", \"5\", \"6\", \"7\", \"8\", \"9\", \"10\", \"11\", \"12\", \"13\", \"14\", \"15\", \"16\", \"17\", \"18\", \"19\"], \"mode\": \"lines\", \"name\": \"AUC_weighted_max\", \"stepped\": true, \"type\": \"scatter\", \"data\": [0.8596096096096096, 0.8873873873873874, 0.8873873873873874, 0.8873873873873874, 0.8873873873873874, 0.8873873873873874, 0.888138138138138, 0.888138138138138, 0.888138138138138, 0.888138138138138, 0.888138138138138, 0.888138138138138, 0.888138138138138, 0.888138138138138, 0.888138138138138, 0.888138138138138, 0.888138138138138, 0.888138138138138, 0.9114114114114115, 0.9114114114114115]}], \"recall_score_micro\": [{\"categories\": [\"0\", \"1\", \"2\", \"3\", \"4\", \"5\", \"6\", \"7\", \"8\", \"9\", \"10\", \"11\", \"12\", \"13\", \"14\", \"15\", \"16\", \"17\", \"18\", \"19\"], \"mode\": \"markers\", \"name\": \"recall_score_micro\", \"stepped\": false, \"type\": \"scatter\", \"data\": [0.7454545454545455, 0.7636363636363637, 0.7818181818181819, 0.7636363636363637, 0.7636363636363637, 0.7454545454545455, 0.7818181818181819, 0.7818181818181819, 0.6727272727272727, 0.7636363636363637, 0.7454545454545455, 0.7454545454545455, 0.7818181818181819, 0.7636363636363637, 0.7636363636363637, 0.7818181818181819, 0.8, 0.7636363636363637, 0.8545454545454545, 0.7636363636363637]}, {\"categories\": [\"0\", \"1\", \"2\", \"3\", \"4\", \"5\", \"6\", \"7\", \"8\", \"9\", \"10\", \"11\", \"12\", \"13\", \"14\", \"15\", \"16\", \"17\", \"18\", \"19\"], \"mode\": \"lines\", \"name\": \"recall_score_micro_max\", \"stepped\": true, \"type\": \"scatter\", \"data\": [0.7454545454545455, 0.7636363636363637, 0.7818181818181819, 0.7818181818181819, 0.7818181818181819, 0.7818181818181819, 0.7818181818181819, 0.7818181818181819, 0.7818181818181819, 0.7818181818181819, 0.7818181818181819, 0.7818181818181819, 0.7818181818181819, 0.7818181818181819, 0.7818181818181819, 0.7818181818181819, 0.8, 0.8, 0.8545454545454545, 0.8545454545454545]}], \"recall_score_macro\": [{\"categories\": [\"0\", \"1\", \"2\", \"3\", \"4\", \"5\", \"6\", \"7\", \"8\", \"9\", \"10\", \"11\", \"12\", \"13\", \"14\", \"15\", \"16\", \"17\", \"18\", \"19\"], \"mode\": \"markers\", \"name\": \"recall_score_macro\", \"stepped\": false, \"type\": \"scatter\", \"data\": [0.6681681681681682, 0.6674174174174174, 0.6666666666666666, 0.81006006006006, 0.7815315315315315, 0.7394894894894894, 0.795045045045045, 0.6809309309309309, 0.5998498498498499, 0.7102102102102102, 0.6253753753753755, 0.8108108108108107, 0.6809309309309309, 0.7244744744744744, 0.7815315315315315, 0.7094594594594594, 0.7515015015015015, 0.7102102102102102, 0.8205705705705706, 0.7672672672672673]}, {\"categories\": [\"0\", \"1\", \"2\", \"3\", \"4\", \"5\", \"6\", \"7\", \"8\", \"9\", \"10\", \"11\", \"12\", \"13\", \"14\", \"15\", \"16\", \"17\", \"18\", \"19\"], \"mode\": \"lines\", \"name\": \"recall_score_macro_max\", \"stepped\": true, \"type\": \"scatter\", \"data\": [0.6681681681681682, 0.6681681681681682, 0.6681681681681682, 0.81006006006006, 0.81006006006006, 0.81006006006006, 0.81006006006006, 0.81006006006006, 0.81006006006006, 0.81006006006006, 0.81006006006006, 0.8108108108108107, 0.8108108108108107, 0.8108108108108107, 0.8108108108108107, 0.8108108108108107, 0.8108108108108107, 0.8108108108108107, 0.8205705705705706, 0.8205705705705706]}], \"recall_score_weighted\": [{\"categories\": [\"0\", \"1\", \"2\", \"3\", \"4\", \"5\", \"6\", \"7\", \"8\", \"9\", \"10\", \"11\", \"12\", \"13\", \"14\", \"15\", \"16\", \"17\", \"18\", \"19\"], \"mode\": \"markers\", \"name\": \"recall_score_weighted\", \"stepped\": false, \"type\": \"scatter\", \"data\": [0.7454545454545455, 0.7636363636363637, 0.7818181818181819, 0.7636363636363637, 0.7636363636363637, 0.7454545454545455, 0.7818181818181819, 0.7818181818181819, 0.6727272727272727, 0.7636363636363637, 0.7454545454545455, 0.7454545454545455, 0.7818181818181819, 0.7636363636363637, 0.7636363636363637, 0.7818181818181819, 0.8, 0.7636363636363637, 0.8545454545454545, 0.7636363636363637]}, {\"categories\": [\"0\", \"1\", \"2\", \"3\", \"4\", \"5\", \"6\", \"7\", \"8\", \"9\", \"10\", \"11\", \"12\", \"13\", \"14\", \"15\", \"16\", \"17\", \"18\", \"19\"], \"mode\": \"lines\", \"name\": \"recall_score_weighted_max\", \"stepped\": true, \"type\": \"scatter\", \"data\": [0.7454545454545455, 0.7636363636363637, 0.7818181818181819, 0.7818181818181819, 0.7818181818181819, 0.7818181818181819, 0.7818181818181819, 0.7818181818181819, 0.7818181818181819, 0.7818181818181819, 0.7818181818181819, 0.7818181818181819, 0.7818181818181819, 0.7818181818181819, 0.7818181818181819, 0.7818181818181819, 0.8, 0.8, 0.8545454545454545, 0.8545454545454545]}], \"matthews_correlation\": [{\"categories\": [\"0\", \"1\", \"2\", \"3\", \"4\", \"5\", \"6\", \"7\", \"8\", \"9\", \"10\", \"11\", \"12\", \"13\", \"14\", \"15\", \"16\", \"17\", \"18\", \"19\"], \"mode\": \"markers\", \"name\": \"matthews_correlation\", \"stepped\": false, \"type\": \"scatter\", \"data\": [0.3821079318567817, 0.4246856415350183, 0.5016977977548923, 0.582810361313287, 0.5305954499725111, 0.4587596979470412, 0.5583017228317881, 0.48159947578496487, 0.2151089994345548, 0.4429403980178329, 0.3774032983111127, 0.59132238428979, 0.48159947578496487, 0.45584564992644877, 0.5305954499725111, 0.47592907583947364, 0.5299465476284786, 0.4429403980178329, 0.6623666620381758, 0.5084801178917036]}, {\"categories\": [\"0\", \"1\", \"2\", \"3\", \"4\", \"5\", \"6\", \"7\", \"8\", \"9\", \"10\", \"11\", \"12\", \"13\", \"14\", \"15\", \"16\", \"17\", \"18\", \"19\"], \"mode\": \"lines\", \"name\": \"matthews_correlation_max\", \"stepped\": true, \"type\": \"scatter\", \"data\": [0.3821079318567817, 0.4246856415350183, 0.5016977977548923, 0.582810361313287, 0.582810361313287, 0.582810361313287, 0.582810361313287, 0.582810361313287, 0.582810361313287, 0.582810361313287, 0.582810361313287, 0.59132238428979, 0.59132238428979, 0.59132238428979, 0.59132238428979, 0.59132238428979, 0.59132238428979, 0.59132238428979, 0.6623666620381758, 0.6623666620381758]}], \"log_loss\": [{\"categories\": [\"0\", \"1\", \"2\", \"3\", \"4\", \"5\", \"6\", \"7\", \"8\", \"9\", \"10\", \"11\", \"12\", \"13\", \"14\", \"15\", \"16\", \"17\", \"18\", \"19\"], \"mode\": \"markers\", \"name\": \"log_loss\", \"stepped\": false, \"type\": \"scatter\", \"data\": [0.4276509706039616, 0.438555901817253, 0.4545450079676995, 0.4961770746673093, 0.4249765890459964, 0.40930599718400273, 0.3890660802969406, 0.4642320814520258, 0.4577876117859773, 0.4082439500507795, 0.49967782549727807, 0.4762548440958965, 0.4582455523952283, 0.5123180815847386, 0.43018767261118784, 0.4119498786606164, 0.5299852651426158, 0.4033905331551536, 0.4006248030665477, 0.4124536782795016]}, {\"categories\": [\"0\", \"1\", \"2\", \"3\", \"4\", \"5\", \"6\", \"7\", \"8\", \"9\", \"10\", \"11\", \"12\", \"13\", \"14\", \"15\", \"16\", \"17\", \"18\", \"19\"], \"mode\": \"lines\", \"name\": \"log_loss_min\", \"stepped\": true, \"type\": \"scatter\", \"data\": [0.4276509706039616, 0.4276509706039616, 0.4276509706039616, 0.4276509706039616, 0.4249765890459964, 0.40930599718400273, 0.3890660802969406, 0.3890660802969406, 0.3890660802969406, 0.3890660802969406, 0.3890660802969406, 0.3890660802969406, 0.3890660802969406, 0.3890660802969406, 0.3890660802969406, 0.3890660802969406, 0.3890660802969406, 0.3890660802969406, 0.3890660802969406, 0.3890660802969406]}], \"f1_score_macro\": [{\"categories\": [\"0\", \"1\", \"2\", \"3\", \"4\", \"5\", \"6\", \"7\", \"8\", \"9\", \"10\", \"11\", \"12\", \"13\", \"14\", \"15\", \"16\", \"17\", \"18\", \"19\"], \"mode\": \"markers\", \"name\": \"f1_score_macro\", \"stepped\": false, \"type\": \"scatter\", \"data\": [0.6791666666666667, 0.6809460062472111, 0.6802325581395349, 0.7585275244849713, 0.7518222839291913, 0.7250000000000001, 0.7689075630252101, 0.6978021978021978, 0.6033653846153847, 0.7186147186147186, 0.626937984496124, 0.7433333333333334, 0.6978021978021978, 0.7276190476190476, 0.7518222839291913, 0.725, 0.7619047619047619, 0.7186147186147186, 0.8297213622291022, 0.7472605160834217]}, {\"categories\": [\"0\", \"1\", \"2\", \"3\", \"4\", \"5\", \"6\", \"7\", \"8\", \"9\", \"10\", \"11\", \"12\", \"13\", \"14\", \"15\", \"16\", \"17\", \"18\", \"19\"], \"mode\": \"lines\", \"name\": \"f1_score_macro_max\", \"stepped\": true, \"type\": \"scatter\", \"data\": [0.6791666666666667, 0.6809460062472111, 0.6809460062472111, 0.7585275244849713, 0.7585275244849713, 0.7585275244849713, 0.7689075630252101, 0.7689075630252101, 0.7689075630252101, 0.7689075630252101, 0.7689075630252101, 0.7689075630252101, 0.7689075630252101, 0.7689075630252101, 0.7689075630252101, 0.7689075630252101, 0.7689075630252101, 0.7689075630252101, 0.8297213622291022, 0.8297213622291022]}], \"norm_macro_recall\": [{\"categories\": [\"0\", \"1\", \"2\", \"3\", \"4\", \"5\", \"6\", \"7\", \"8\", \"9\", \"10\", \"11\", \"12\", \"13\", \"14\", \"15\", \"16\", \"17\", \"18\", \"19\"], \"mode\": \"markers\", \"name\": \"norm_macro_recall\", \"stepped\": false, \"type\": \"scatter\", \"data\": [0.3363363363363363, 0.3348348348348349, 0.33333333333333326, 0.6201201201201201, 0.5630630630630631, 0.4789789789789789, 0.5900900900900901, 0.36186186186186187, 0.1996996996996998, 0.4204204204204205, 0.25075075075075093, 0.6216216216216215, 0.36186186186186187, 0.4489489489489489, 0.5630630630630631, 0.41891891891891886, 0.503003003003003, 0.4204204204204205, 0.6411411411411412, 0.5345345345345347]}, {\"categories\": [\"0\", \"1\", \"2\", \"3\", \"4\", \"5\", \"6\", \"7\", \"8\", \"9\", \"10\", \"11\", \"12\", \"13\", \"14\", \"15\", \"16\", \"17\", \"18\", \"19\"], \"mode\": \"lines\", \"name\": \"norm_macro_recall_max\", \"stepped\": true, \"type\": \"scatter\", \"data\": [0.3363363363363363, 0.3363363363363363, 0.3363363363363363, 0.6201201201201201, 0.6201201201201201, 0.6201201201201201, 0.6201201201201201, 0.6201201201201201, 0.6201201201201201, 0.6201201201201201, 0.6201201201201201, 0.6216216216216215, 0.6216216216216215, 0.6216216216216215, 0.6216216216216215, 0.6216216216216215, 0.6216216216216215, 0.6216216216216215, 0.6411411411411412, 0.6411411411411412]}], \"weighted_accuracy\": [{\"categories\": [\"0\", \"1\", \"2\", \"3\", \"4\", \"5\", \"6\", \"7\", \"8\", \"9\", \"10\", \"11\", \"12\", \"13\", \"14\", \"15\", \"16\", \"17\", \"18\", \"19\"], \"mode\": \"markers\", \"name\": \"weighted_accuracy\", \"stepped\": false, \"type\": \"scatter\", \"data\": [0.8062610750147666, 0.8393384524512699, 0.8724158298877731, 0.7271116361488482, 0.7495569994093326, 0.7501476668635559, 0.7714116952155937, 0.861193148257531, 0.7300649734199645, 0.8056704075605435, 0.8399291199054931, 0.694034258712345, 0.861193148257531, 0.7944477259303012, 0.7495569994093326, 0.8387477849970466, 0.8381571175428233, 0.8056704075605435, 0.8812758417011222, 0.7607796810395747]}, {\"categories\": [\"0\", \"1\", \"2\", \"3\", \"4\", \"5\", \"6\", \"7\", \"8\", \"9\", \"10\", \"11\", \"12\", \"13\", \"14\", \"15\", \"16\", \"17\", \"18\", \"19\"], \"mode\": \"lines\", \"name\": \"weighted_accuracy_max\", \"stepped\": true, \"type\": \"scatter\", \"data\": [0.8062610750147666, 0.8393384524512699, 0.8724158298877731, 0.8724158298877731, 0.8724158298877731, 0.8724158298877731, 0.8724158298877731, 0.8724158298877731, 0.8724158298877731, 0.8724158298877731, 0.8724158298877731, 0.8724158298877731, 0.8724158298877731, 0.8724158298877731, 0.8724158298877731, 0.8724158298877731, 0.8724158298877731, 0.8724158298877731, 0.8812758417011222, 0.8812758417011222]}], \"f1_score_weighted\": [{\"categories\": [\"0\", \"1\", \"2\", \"3\", \"4\", \"5\", \"6\", \"7\", \"8\", \"9\", \"10\", \"11\", \"12\", \"13\", \"14\", \"15\", \"16\", \"17\", \"18\", \"19\"], \"mode\": \"markers\", \"name\": \"f1_score_weighted\", \"stepped\": false, \"type\": \"scatter\", \"data\": [0.7295454545454545, 0.7370573201898504, 0.7424947145877377, 0.7706610174695282, 0.7705279101322141, 0.750909090909091, 0.7877769289533996, 0.7528471528471528, 0.6606643356643358, 0.7574970484061393, 0.6995771670190275, 0.7513939393939394, 0.7528471528471528, 0.7618354978354978, 0.7705279101322141, 0.7681818181818182, 0.7948051948051947, 0.7574970484061393, 0.8521812552772305, 0.7694848806195572]}, {\"categories\": [\"0\", \"1\", \"2\", \"3\", \"4\", \"5\", \"6\", \"7\", \"8\", \"9\", \"10\", \"11\", \"12\", \"13\", \"14\", \"15\", \"16\", \"17\", \"18\", \"19\"], \"mode\": \"lines\", \"name\": \"f1_score_weighted_max\", \"stepped\": true, \"type\": \"scatter\", \"data\": [0.7295454545454545, 0.7370573201898504, 0.7424947145877377, 0.7706610174695282, 0.7706610174695282, 0.7706610174695282, 0.7877769289533996, 0.7877769289533996, 0.7877769289533996, 0.7877769289533996, 0.7877769289533996, 0.7877769289533996, 0.7877769289533996, 0.7877769289533996, 0.7877769289533996, 0.7877769289533996, 0.7948051948051947, 0.7948051948051947, 0.8521812552772305, 0.8521812552772305]}], \"AUC_macro\": [{\"categories\": [\"0\", \"1\", \"2\", \"3\", \"4\", \"5\", \"6\", \"7\", \"8\", \"9\", \"10\", \"11\", \"12\", \"13\", \"14\", \"15\", \"16\", \"17\", \"18\", \"19\"], \"mode\": \"markers\", \"name\": \"AUC_macro\", \"stepped\": false, \"type\": \"scatter\", \"data\": [0.8596096096096096, 0.8873873873873874, 0.8340840840840841, 0.8693693693693694, 0.8648648648648649, 0.8513513513513513, 0.8881381381381381, 0.8648648648648649, 0.825075075075075, 0.8708708708708709, 0.8018018018018018, 0.8648648648648649, 0.8843843843843844, 0.8566066066066067, 0.8506006006006006, 0.8866366366366366, 0.8213213213213213, 0.8783783783783784, 0.9114114114114114, 0.8843843843843844]}, {\"categories\": [\"0\", \"1\", \"2\", \"3\", \"4\", \"5\", \"6\", \"7\", \"8\", \"9\", \"10\", \"11\", \"12\", \"13\", \"14\", \"15\", \"16\", \"17\", \"18\", \"19\"], \"mode\": \"lines\", \"name\": \"AUC_macro_max\", \"stepped\": true, \"type\": \"scatter\", \"data\": [0.8596096096096096, 0.8873873873873874, 0.8873873873873874, 0.8873873873873874, 0.8873873873873874, 0.8873873873873874, 0.8881381381381381, 0.8881381381381381, 0.8881381381381381, 0.8881381381381381, 0.8881381381381381, 0.8881381381381381, 0.8881381381381381, 0.8881381381381381, 0.8881381381381381, 0.8881381381381381, 0.8881381381381381, 0.8881381381381381, 0.9114114114114114, 0.9114114114114114]}], \"accuracy\": [{\"categories\": [\"0\", \"1\", \"2\", \"3\", \"4\", \"5\", \"6\", \"7\", \"8\", \"9\", \"10\", \"11\", \"12\", \"13\", \"14\", \"15\", \"16\", \"17\", \"18\", \"19\"], \"mode\": \"markers\", \"name\": \"accuracy\", \"stepped\": false, \"type\": \"scatter\", \"data\": [0.7454545454545455, 0.7636363636363637, 0.7818181818181819, 0.7636363636363637, 0.7636363636363637, 0.7454545454545455, 0.7818181818181819, 0.7818181818181819, 0.6727272727272727, 0.7636363636363637, 0.7454545454545455, 0.7454545454545455, 0.7818181818181819, 0.7636363636363637, 0.7636363636363637, 0.7818181818181819, 0.8, 0.7636363636363637, 0.8545454545454545, 0.7636363636363637]}, {\"categories\": [\"0\", \"1\", \"2\", \"3\", \"4\", \"5\", \"6\", \"7\", \"8\", \"9\", \"10\", \"11\", \"12\", \"13\", \"14\", \"15\", \"16\", \"17\", \"18\", \"19\"], \"mode\": \"lines\", \"name\": \"accuracy_max\", \"stepped\": true, \"type\": \"scatter\", \"data\": [0.7454545454545455, 0.7636363636363637, 0.7818181818181819, 0.7818181818181819, 0.7818181818181819, 0.7818181818181819, 0.7818181818181819, 0.7818181818181819, 0.7818181818181819, 0.7818181818181819, 0.7818181818181819, 0.7818181818181819, 0.7818181818181819, 0.7818181818181819, 0.7818181818181819, 0.7818181818181819, 0.8, 0.8, 0.8545454545454545, 0.8545454545454545]}], \"precision_score_weighted\": [{\"categories\": [\"0\", \"1\", \"2\", \"3\", \"4\", \"5\", \"6\", \"7\", \"8\", \"9\", \"10\", \"11\", \"12\", \"13\", \"14\", \"15\", \"16\", \"17\", \"18\", \"19\"], \"mode\": \"markers\", \"name\": \"precision_score_weighted\", \"stepped\": false, \"type\": \"scatter\", \"data\": [0.7344608879492601, 0.7664031620553361, 0.8352504638218924, 0.8387026766337111, 0.8018181818181819, 0.7641873278236915, 0.8121700879765397, 0.8016441005802707, 0.6558758314855877, 0.7563636363636363, 0.7669758812615955, 0.8568181818181818, 0.8016441005802707, 0.7605685336335491, 0.8018181818181819, 0.7773784355179704, 0.7949999999999999, 0.7563636363636363, 0.8523892773892774, 0.7878458498023716]}, {\"categories\": [\"0\", \"1\", \"2\", \"3\", \"4\", \"5\", \"6\", \"7\", \"8\", \"9\", \"10\", \"11\", \"12\", \"13\", \"14\", \"15\", \"16\", \"17\", \"18\", \"19\"], \"mode\": \"lines\", \"name\": \"precision_score_weighted_max\", \"stepped\": true, \"type\": \"scatter\", \"data\": [0.7344608879492601, 0.7664031620553361, 0.8352504638218924, 0.8387026766337111, 0.8387026766337111, 0.8387026766337111, 0.8387026766337111, 0.8387026766337111, 0.8387026766337111, 0.8387026766337111, 0.8387026766337111, 0.8568181818181818, 0.8568181818181818, 0.8568181818181818, 0.8568181818181818, 0.8568181818181818, 0.8568181818181818, 0.8568181818181818, 0.8568181818181818, 0.8568181818181818]}]}, \"metricName\": null, \"primaryMetricName\": \"AUC_weighted\", \"showLegend\": false}, \"run_metrics\": [{\"name\": \"experiment_status\", \"run_id\": \"AutoML_68d7346d-5e57-4610-a182-8e4c2aa1429b\", \"categories\": [0, 1, 2, 3, 4, 5, 6, 7, 8, 9, 10], \"series\": [{\"data\": [\"DatasetEvaluation\", \"FeaturesGeneration\", \"DatasetFeaturization\", \"DatasetFeaturizationCompleted\", \"ModelSelection\", \"BestRunExplainModel\", \"ModelExplanationDataSetSetup\", \"PickSurrogateModel\", \"EngineeredFeatureExplanations\", \"EngineeredFeatureExplanations\", \"BestRunExplainModel\"]}]}, {\"name\": \"experiment_status_description\", \"run_id\": \"AutoML_68d7346d-5e57-4610-a182-8e4c2aa1429b\", \"categories\": [0, 1, 2, 3, 4, 5, 6, 7, 8, 9, 10], \"series\": [{\"data\": [\"Gathering dataset statistics.\", \"Generating features for the dataset.\", \"Beginning to fit featurizers and featurize the dataset.\", \"Completed fit featurizers and featurizing the dataset.\", \"Beginning model selection.\", \"Best run model explanations started\", \"Model explanations data setup completed\", \"Choosing LightGBM as the surrogate model for explanations\", \"Computation of engineered features started\", \"Computation of engineered features completed\", \"Best run model explanations completed\"]}]}, {\"name\": \"average_precision_score_weighted\", \"run_id\": \"AutoML_68d7346d-5e57-4610-a182-8e4c2aa1429b\", \"categories\": [0], \"series\": [{\"data\": [0.9225432403611944]}]}, {\"name\": \"average_precision_score_micro\", \"run_id\": \"AutoML_68d7346d-5e57-4610-a182-8e4c2aa1429b\", \"categories\": [0], \"series\": [{\"data\": [0.9277863580457313]}]}, {\"name\": \"precision_score_micro\", \"run_id\": \"AutoML_68d7346d-5e57-4610-a182-8e4c2aa1429b\", \"categories\": [0], \"series\": [{\"data\": [0.8545454545454545]}]}, {\"name\": \"balanced_accuracy\", \"run_id\": \"AutoML_68d7346d-5e57-4610-a182-8e4c2aa1429b\", \"categories\": [0], \"series\": [{\"data\": [0.8205705705705706]}]}, {\"name\": \"average_precision_score_macro\", \"run_id\": \"AutoML_68d7346d-5e57-4610-a182-8e4c2aa1429b\", \"categories\": [0], \"series\": [{\"data\": [0.9029463682548229]}]}, {\"name\": \"precision_score_macro\", \"run_id\": \"AutoML_68d7346d-5e57-4610-a182-8e4c2aa1429b\", \"categories\": [0], \"series\": [{\"data\": [0.8421474358974359]}]}, {\"name\": \"f1_score_micro\", \"run_id\": \"AutoML_68d7346d-5e57-4610-a182-8e4c2aa1429b\", \"categories\": [0], \"series\": [{\"data\": [0.8545454545454545]}]}, {\"name\": \"AUC_micro\", \"run_id\": \"AutoML_68d7346d-5e57-4610-a182-8e4c2aa1429b\", \"categories\": [0], \"series\": [{\"data\": [0.9206611570247933]}]}, {\"name\": \"AUC_weighted\", \"run_id\": \"AutoML_68d7346d-5e57-4610-a182-8e4c2aa1429b\", \"categories\": [0], \"series\": [{\"data\": [0.9114114114114115]}]}, {\"name\": \"recall_score_micro\", \"run_id\": \"AutoML_68d7346d-5e57-4610-a182-8e4c2aa1429b\", \"categories\": [0], \"series\": [{\"data\": [0.8545454545454545]}]}, {\"name\": \"recall_score_macro\", \"run_id\": \"AutoML_68d7346d-5e57-4610-a182-8e4c2aa1429b\", \"categories\": [0], \"series\": [{\"data\": [0.8205705705705706]}]}, {\"name\": \"recall_score_weighted\", \"run_id\": \"AutoML_68d7346d-5e57-4610-a182-8e4c2aa1429b\", \"categories\": [0], \"series\": [{\"data\": [0.8545454545454545]}]}, {\"name\": \"matthews_correlation\", \"run_id\": \"AutoML_68d7346d-5e57-4610-a182-8e4c2aa1429b\", \"categories\": [0], \"series\": [{\"data\": [0.6623666620381758]}]}, {\"name\": \"log_loss\", \"run_id\": \"AutoML_68d7346d-5e57-4610-a182-8e4c2aa1429b\", \"categories\": [0], \"series\": [{\"data\": [0.4006248030665477]}]}, {\"name\": \"f1_score_macro\", \"run_id\": \"AutoML_68d7346d-5e57-4610-a182-8e4c2aa1429b\", \"categories\": [0], \"series\": [{\"data\": [0.8297213622291022]}]}, {\"name\": \"norm_macro_recall\", \"run_id\": \"AutoML_68d7346d-5e57-4610-a182-8e4c2aa1429b\", \"categories\": [0], \"series\": [{\"data\": [0.6411411411411412]}]}, {\"name\": \"weighted_accuracy\", \"run_id\": \"AutoML_68d7346d-5e57-4610-a182-8e4c2aa1429b\", \"categories\": [0], \"series\": [{\"data\": [0.8812758417011222]}]}, {\"name\": \"f1_score_weighted\", \"run_id\": \"AutoML_68d7346d-5e57-4610-a182-8e4c2aa1429b\", \"categories\": [0], \"series\": [{\"data\": [0.8521812552772305]}]}, {\"name\": \"AUC_macro\", \"run_id\": \"AutoML_68d7346d-5e57-4610-a182-8e4c2aa1429b\", \"categories\": [0], \"series\": [{\"data\": [0.9114114114114114]}]}, {\"name\": \"accuracy\", \"run_id\": \"AutoML_68d7346d-5e57-4610-a182-8e4c2aa1429b\", \"categories\": [0], \"series\": [{\"data\": [0.8545454545454545]}]}, {\"name\": \"precision_score_weighted\", \"run_id\": \"AutoML_68d7346d-5e57-4610-a182-8e4c2aa1429b\", \"categories\": [0], \"series\": [{\"data\": [0.8523892773892774]}]}], \"run_logs\": \"\\nRun is completed.\", \"graph\": {}, \"widget_settings\": {\"childWidgetDisplay\": \"popup\", \"send_telemetry\": false, \"log_level\": \"INFO\", \"sdk_version\": \"1.8.0\"}, \"loading\": false}"
     },
     "metadata": {},
     "output_type": "display_data"
    }
   ],
   "source": [
    "from azureml.widgets import RunDetails\n",
    "RunDetails(local_run).show()"
   ]
  },
  {
   "cell_type": "markdown",
   "metadata": {},
   "source": [
    "### 3.4 Liste des résultats autoML"
   ]
  },
  {
   "cell_type": "code",
   "execution_count": 47,
   "metadata": {},
   "outputs": [
    {
     "data": {
      "text/html": [
       "<div>\n",
       "<style scoped>\n",
       "    .dataframe tbody tr th:only-of-type {\n",
       "        vertical-align: middle;\n",
       "    }\n",
       "\n",
       "    .dataframe tbody tr th {\n",
       "        vertical-align: top;\n",
       "    }\n",
       "\n",
       "    .dataframe thead th {\n",
       "        text-align: right;\n",
       "    }\n",
       "</style>\n",
       "<table border=\"1\" class=\"dataframe\">\n",
       "  <thead>\n",
       "    <tr style=\"text-align: right;\">\n",
       "      <th></th>\n",
       "      <th>0</th>\n",
       "      <th>1</th>\n",
       "      <th>2</th>\n",
       "      <th>3</th>\n",
       "      <th>4</th>\n",
       "      <th>5</th>\n",
       "      <th>6</th>\n",
       "      <th>7</th>\n",
       "      <th>8</th>\n",
       "      <th>9</th>\n",
       "      <th>10</th>\n",
       "      <th>11</th>\n",
       "      <th>12</th>\n",
       "      <th>13</th>\n",
       "      <th>14</th>\n",
       "      <th>15</th>\n",
       "      <th>16</th>\n",
       "      <th>17</th>\n",
       "      <th>18</th>\n",
       "      <th>19</th>\n",
       "    </tr>\n",
       "  </thead>\n",
       "  <tbody>\n",
       "    <tr>\n",
       "      <th>AUC_macro</th>\n",
       "      <td>0.86</td>\n",
       "      <td>0.89</td>\n",
       "      <td>0.83</td>\n",
       "      <td>0.87</td>\n",
       "      <td>0.86</td>\n",
       "      <td>0.85</td>\n",
       "      <td>0.89</td>\n",
       "      <td>0.86</td>\n",
       "      <td>0.83</td>\n",
       "      <td>0.87</td>\n",
       "      <td>0.80</td>\n",
       "      <td>0.86</td>\n",
       "      <td>0.88</td>\n",
       "      <td>0.86</td>\n",
       "      <td>0.85</td>\n",
       "      <td>0.89</td>\n",
       "      <td>0.82</td>\n",
       "      <td>0.88</td>\n",
       "      <td>0.91</td>\n",
       "      <td>0.88</td>\n",
       "    </tr>\n",
       "    <tr>\n",
       "      <th>AUC_micro</th>\n",
       "      <td>0.88</td>\n",
       "      <td>0.88</td>\n",
       "      <td>0.87</td>\n",
       "      <td>0.87</td>\n",
       "      <td>0.88</td>\n",
       "      <td>0.87</td>\n",
       "      <td>0.90</td>\n",
       "      <td>0.85</td>\n",
       "      <td>0.85</td>\n",
       "      <td>0.88</td>\n",
       "      <td>0.83</td>\n",
       "      <td>0.87</td>\n",
       "      <td>0.87</td>\n",
       "      <td>0.88</td>\n",
       "      <td>0.87</td>\n",
       "      <td>0.89</td>\n",
       "      <td>0.86</td>\n",
       "      <td>0.89</td>\n",
       "      <td>0.92</td>\n",
       "      <td>0.89</td>\n",
       "    </tr>\n",
       "    <tr>\n",
       "      <th>AUC_weighted</th>\n",
       "      <td>0.86</td>\n",
       "      <td>0.89</td>\n",
       "      <td>0.83</td>\n",
       "      <td>0.87</td>\n",
       "      <td>0.86</td>\n",
       "      <td>0.85</td>\n",
       "      <td>0.89</td>\n",
       "      <td>0.86</td>\n",
       "      <td>0.83</td>\n",
       "      <td>0.87</td>\n",
       "      <td>0.80</td>\n",
       "      <td>0.86</td>\n",
       "      <td>0.88</td>\n",
       "      <td>0.86</td>\n",
       "      <td>0.85</td>\n",
       "      <td>0.89</td>\n",
       "      <td>0.82</td>\n",
       "      <td>0.88</td>\n",
       "      <td>0.91</td>\n",
       "      <td>0.88</td>\n",
       "    </tr>\n",
       "    <tr>\n",
       "      <th>accuracy</th>\n",
       "      <td>0.75</td>\n",
       "      <td>0.76</td>\n",
       "      <td>0.78</td>\n",
       "      <td>0.76</td>\n",
       "      <td>0.76</td>\n",
       "      <td>0.75</td>\n",
       "      <td>0.78</td>\n",
       "      <td>0.78</td>\n",
       "      <td>0.67</td>\n",
       "      <td>0.76</td>\n",
       "      <td>0.75</td>\n",
       "      <td>0.75</td>\n",
       "      <td>0.78</td>\n",
       "      <td>0.76</td>\n",
       "      <td>0.76</td>\n",
       "      <td>0.78</td>\n",
       "      <td>0.80</td>\n",
       "      <td>0.76</td>\n",
       "      <td>0.85</td>\n",
       "      <td>0.76</td>\n",
       "    </tr>\n",
       "    <tr>\n",
       "      <th>average_precision_score_macro</th>\n",
       "      <td>0.85</td>\n",
       "      <td>0.85</td>\n",
       "      <td>0.83</td>\n",
       "      <td>0.85</td>\n",
       "      <td>0.82</td>\n",
       "      <td>0.84</td>\n",
       "      <td>0.88</td>\n",
       "      <td>0.83</td>\n",
       "      <td>0.81</td>\n",
       "      <td>0.86</td>\n",
       "      <td>0.78</td>\n",
       "      <td>0.84</td>\n",
       "      <td>0.86</td>\n",
       "      <td>0.86</td>\n",
       "      <td>0.85</td>\n",
       "      <td>0.86</td>\n",
       "      <td>0.83</td>\n",
       "      <td>0.87</td>\n",
       "      <td>0.90</td>\n",
       "      <td>0.87</td>\n",
       "    </tr>\n",
       "    <tr>\n",
       "      <th>average_precision_score_micro</th>\n",
       "      <td>0.89</td>\n",
       "      <td>0.89</td>\n",
       "      <td>0.87</td>\n",
       "      <td>0.88</td>\n",
       "      <td>0.89</td>\n",
       "      <td>0.89</td>\n",
       "      <td>0.91</td>\n",
       "      <td>0.87</td>\n",
       "      <td>0.86</td>\n",
       "      <td>0.90</td>\n",
       "      <td>0.84</td>\n",
       "      <td>0.88</td>\n",
       "      <td>0.88</td>\n",
       "      <td>0.89</td>\n",
       "      <td>0.88</td>\n",
       "      <td>0.90</td>\n",
       "      <td>0.87</td>\n",
       "      <td>0.90</td>\n",
       "      <td>0.93</td>\n",
       "      <td>0.90</td>\n",
       "    </tr>\n",
       "    <tr>\n",
       "      <th>average_precision_score_weighted</th>\n",
       "      <td>0.88</td>\n",
       "      <td>0.89</td>\n",
       "      <td>0.86</td>\n",
       "      <td>0.88</td>\n",
       "      <td>0.86</td>\n",
       "      <td>0.87</td>\n",
       "      <td>0.90</td>\n",
       "      <td>0.87</td>\n",
       "      <td>0.85</td>\n",
       "      <td>0.89</td>\n",
       "      <td>0.83</td>\n",
       "      <td>0.87</td>\n",
       "      <td>0.89</td>\n",
       "      <td>0.88</td>\n",
       "      <td>0.88</td>\n",
       "      <td>0.89</td>\n",
       "      <td>0.86</td>\n",
       "      <td>0.89</td>\n",
       "      <td>0.92</td>\n",
       "      <td>0.90</td>\n",
       "    </tr>\n",
       "    <tr>\n",
       "      <th>balanced_accuracy</th>\n",
       "      <td>0.67</td>\n",
       "      <td>0.67</td>\n",
       "      <td>0.67</td>\n",
       "      <td>0.81</td>\n",
       "      <td>0.78</td>\n",
       "      <td>0.74</td>\n",
       "      <td>0.80</td>\n",
       "      <td>0.68</td>\n",
       "      <td>0.60</td>\n",
       "      <td>0.71</td>\n",
       "      <td>0.63</td>\n",
       "      <td>0.81</td>\n",
       "      <td>0.68</td>\n",
       "      <td>0.72</td>\n",
       "      <td>0.78</td>\n",
       "      <td>0.71</td>\n",
       "      <td>0.75</td>\n",
       "      <td>0.71</td>\n",
       "      <td>0.82</td>\n",
       "      <td>0.77</td>\n",
       "    </tr>\n",
       "    <tr>\n",
       "      <th>f1_score_macro</th>\n",
       "      <td>0.68</td>\n",
       "      <td>0.68</td>\n",
       "      <td>0.68</td>\n",
       "      <td>0.76</td>\n",
       "      <td>0.75</td>\n",
       "      <td>0.73</td>\n",
       "      <td>0.77</td>\n",
       "      <td>0.70</td>\n",
       "      <td>0.60</td>\n",
       "      <td>0.72</td>\n",
       "      <td>0.63</td>\n",
       "      <td>0.74</td>\n",
       "      <td>0.70</td>\n",
       "      <td>0.73</td>\n",
       "      <td>0.75</td>\n",
       "      <td>0.72</td>\n",
       "      <td>0.76</td>\n",
       "      <td>0.72</td>\n",
       "      <td>0.83</td>\n",
       "      <td>0.75</td>\n",
       "    </tr>\n",
       "    <tr>\n",
       "      <th>f1_score_micro</th>\n",
       "      <td>0.75</td>\n",
       "      <td>0.76</td>\n",
       "      <td>0.78</td>\n",
       "      <td>0.76</td>\n",
       "      <td>0.76</td>\n",
       "      <td>0.75</td>\n",
       "      <td>0.78</td>\n",
       "      <td>0.78</td>\n",
       "      <td>0.67</td>\n",
       "      <td>0.76</td>\n",
       "      <td>0.75</td>\n",
       "      <td>0.75</td>\n",
       "      <td>0.78</td>\n",
       "      <td>0.76</td>\n",
       "      <td>0.76</td>\n",
       "      <td>0.78</td>\n",
       "      <td>0.80</td>\n",
       "      <td>0.76</td>\n",
       "      <td>0.85</td>\n",
       "      <td>0.76</td>\n",
       "    </tr>\n",
       "    <tr>\n",
       "      <th>f1_score_weighted</th>\n",
       "      <td>0.73</td>\n",
       "      <td>0.74</td>\n",
       "      <td>0.74</td>\n",
       "      <td>0.77</td>\n",
       "      <td>0.77</td>\n",
       "      <td>0.75</td>\n",
       "      <td>0.79</td>\n",
       "      <td>0.75</td>\n",
       "      <td>0.66</td>\n",
       "      <td>0.76</td>\n",
       "      <td>0.70</td>\n",
       "      <td>0.75</td>\n",
       "      <td>0.75</td>\n",
       "      <td>0.76</td>\n",
       "      <td>0.77</td>\n",
       "      <td>0.77</td>\n",
       "      <td>0.79</td>\n",
       "      <td>0.76</td>\n",
       "      <td>0.85</td>\n",
       "      <td>0.77</td>\n",
       "    </tr>\n",
       "    <tr>\n",
       "      <th>log_loss</th>\n",
       "      <td>0.43</td>\n",
       "      <td>0.44</td>\n",
       "      <td>0.45</td>\n",
       "      <td>0.50</td>\n",
       "      <td>0.42</td>\n",
       "      <td>0.41</td>\n",
       "      <td>0.39</td>\n",
       "      <td>0.46</td>\n",
       "      <td>0.46</td>\n",
       "      <td>0.41</td>\n",
       "      <td>0.50</td>\n",
       "      <td>0.48</td>\n",
       "      <td>0.46</td>\n",
       "      <td>0.51</td>\n",
       "      <td>0.43</td>\n",
       "      <td>0.41</td>\n",
       "      <td>0.53</td>\n",
       "      <td>0.40</td>\n",
       "      <td>0.40</td>\n",
       "      <td>0.41</td>\n",
       "    </tr>\n",
       "    <tr>\n",
       "      <th>matthews_correlation</th>\n",
       "      <td>0.38</td>\n",
       "      <td>0.42</td>\n",
       "      <td>0.50</td>\n",
       "      <td>0.58</td>\n",
       "      <td>0.53</td>\n",
       "      <td>0.46</td>\n",
       "      <td>0.56</td>\n",
       "      <td>0.48</td>\n",
       "      <td>0.22</td>\n",
       "      <td>0.44</td>\n",
       "      <td>0.38</td>\n",
       "      <td>0.59</td>\n",
       "      <td>0.48</td>\n",
       "      <td>0.46</td>\n",
       "      <td>0.53</td>\n",
       "      <td>0.48</td>\n",
       "      <td>0.53</td>\n",
       "      <td>0.44</td>\n",
       "      <td>0.66</td>\n",
       "      <td>0.51</td>\n",
       "    </tr>\n",
       "    <tr>\n",
       "      <th>norm_macro_recall</th>\n",
       "      <td>0.34</td>\n",
       "      <td>0.33</td>\n",
       "      <td>0.33</td>\n",
       "      <td>0.62</td>\n",
       "      <td>0.56</td>\n",
       "      <td>0.48</td>\n",
       "      <td>0.59</td>\n",
       "      <td>0.36</td>\n",
       "      <td>0.20</td>\n",
       "      <td>0.42</td>\n",
       "      <td>0.25</td>\n",
       "      <td>0.62</td>\n",
       "      <td>0.36</td>\n",
       "      <td>0.45</td>\n",
       "      <td>0.56</td>\n",
       "      <td>0.42</td>\n",
       "      <td>0.50</td>\n",
       "      <td>0.42</td>\n",
       "      <td>0.64</td>\n",
       "      <td>0.53</td>\n",
       "    </tr>\n",
       "    <tr>\n",
       "      <th>precision_score_macro</th>\n",
       "      <td>0.72</td>\n",
       "      <td>0.77</td>\n",
       "      <td>0.88</td>\n",
       "      <td>0.77</td>\n",
       "      <td>0.75</td>\n",
       "      <td>0.72</td>\n",
       "      <td>0.76</td>\n",
       "      <td>0.82</td>\n",
       "      <td>0.62</td>\n",
       "      <td>0.73</td>\n",
       "      <td>0.78</td>\n",
       "      <td>0.78</td>\n",
       "      <td>0.82</td>\n",
       "      <td>0.73</td>\n",
       "      <td>0.75</td>\n",
       "      <td>0.77</td>\n",
       "      <td>0.78</td>\n",
       "      <td>0.73</td>\n",
       "      <td>0.84</td>\n",
       "      <td>0.74</td>\n",
       "    </tr>\n",
       "    <tr>\n",
       "      <th>precision_score_micro</th>\n",
       "      <td>0.75</td>\n",
       "      <td>0.76</td>\n",
       "      <td>0.78</td>\n",
       "      <td>0.76</td>\n",
       "      <td>0.76</td>\n",
       "      <td>0.75</td>\n",
       "      <td>0.78</td>\n",
       "      <td>0.78</td>\n",
       "      <td>0.67</td>\n",
       "      <td>0.76</td>\n",
       "      <td>0.75</td>\n",
       "      <td>0.75</td>\n",
       "      <td>0.78</td>\n",
       "      <td>0.76</td>\n",
       "      <td>0.76</td>\n",
       "      <td>0.78</td>\n",
       "      <td>0.80</td>\n",
       "      <td>0.76</td>\n",
       "      <td>0.85</td>\n",
       "      <td>0.76</td>\n",
       "    </tr>\n",
       "    <tr>\n",
       "      <th>precision_score_weighted</th>\n",
       "      <td>0.73</td>\n",
       "      <td>0.77</td>\n",
       "      <td>0.84</td>\n",
       "      <td>0.84</td>\n",
       "      <td>0.80</td>\n",
       "      <td>0.76</td>\n",
       "      <td>0.81</td>\n",
       "      <td>0.80</td>\n",
       "      <td>0.66</td>\n",
       "      <td>0.76</td>\n",
       "      <td>0.77</td>\n",
       "      <td>0.86</td>\n",
       "      <td>0.80</td>\n",
       "      <td>0.76</td>\n",
       "      <td>0.80</td>\n",
       "      <td>0.78</td>\n",
       "      <td>0.79</td>\n",
       "      <td>0.76</td>\n",
       "      <td>0.85</td>\n",
       "      <td>0.79</td>\n",
       "    </tr>\n",
       "    <tr>\n",
       "      <th>recall_score_macro</th>\n",
       "      <td>0.67</td>\n",
       "      <td>0.67</td>\n",
       "      <td>0.67</td>\n",
       "      <td>0.81</td>\n",
       "      <td>0.78</td>\n",
       "      <td>0.74</td>\n",
       "      <td>0.80</td>\n",
       "      <td>0.68</td>\n",
       "      <td>0.60</td>\n",
       "      <td>0.71</td>\n",
       "      <td>0.63</td>\n",
       "      <td>0.81</td>\n",
       "      <td>0.68</td>\n",
       "      <td>0.72</td>\n",
       "      <td>0.78</td>\n",
       "      <td>0.71</td>\n",
       "      <td>0.75</td>\n",
       "      <td>0.71</td>\n",
       "      <td>0.82</td>\n",
       "      <td>0.77</td>\n",
       "    </tr>\n",
       "    <tr>\n",
       "      <th>recall_score_micro</th>\n",
       "      <td>0.75</td>\n",
       "      <td>0.76</td>\n",
       "      <td>0.78</td>\n",
       "      <td>0.76</td>\n",
       "      <td>0.76</td>\n",
       "      <td>0.75</td>\n",
       "      <td>0.78</td>\n",
       "      <td>0.78</td>\n",
       "      <td>0.67</td>\n",
       "      <td>0.76</td>\n",
       "      <td>0.75</td>\n",
       "      <td>0.75</td>\n",
       "      <td>0.78</td>\n",
       "      <td>0.76</td>\n",
       "      <td>0.76</td>\n",
       "      <td>0.78</td>\n",
       "      <td>0.80</td>\n",
       "      <td>0.76</td>\n",
       "      <td>0.85</td>\n",
       "      <td>0.76</td>\n",
       "    </tr>\n",
       "    <tr>\n",
       "      <th>recall_score_weighted</th>\n",
       "      <td>0.75</td>\n",
       "      <td>0.76</td>\n",
       "      <td>0.78</td>\n",
       "      <td>0.76</td>\n",
       "      <td>0.76</td>\n",
       "      <td>0.75</td>\n",
       "      <td>0.78</td>\n",
       "      <td>0.78</td>\n",
       "      <td>0.67</td>\n",
       "      <td>0.76</td>\n",
       "      <td>0.75</td>\n",
       "      <td>0.75</td>\n",
       "      <td>0.78</td>\n",
       "      <td>0.76</td>\n",
       "      <td>0.76</td>\n",
       "      <td>0.78</td>\n",
       "      <td>0.80</td>\n",
       "      <td>0.76</td>\n",
       "      <td>0.85</td>\n",
       "      <td>0.76</td>\n",
       "    </tr>\n",
       "    <tr>\n",
       "      <th>weighted_accuracy</th>\n",
       "      <td>0.81</td>\n",
       "      <td>0.84</td>\n",
       "      <td>0.87</td>\n",
       "      <td>0.73</td>\n",
       "      <td>0.75</td>\n",
       "      <td>0.75</td>\n",
       "      <td>0.77</td>\n",
       "      <td>0.86</td>\n",
       "      <td>0.73</td>\n",
       "      <td>0.81</td>\n",
       "      <td>0.84</td>\n",
       "      <td>0.69</td>\n",
       "      <td>0.86</td>\n",
       "      <td>0.79</td>\n",
       "      <td>0.75</td>\n",
       "      <td>0.84</td>\n",
       "      <td>0.84</td>\n",
       "      <td>0.81</td>\n",
       "      <td>0.88</td>\n",
       "      <td>0.76</td>\n",
       "    </tr>\n",
       "  </tbody>\n",
       "</table>\n",
       "</div>"
      ],
      "text/plain": [
       "                                    0    1    2    3    4    5    6    7    8  \\\n",
       "AUC_macro                        0.86 0.89 0.83 0.87 0.86 0.85 0.89 0.86 0.83   \n",
       "AUC_micro                        0.88 0.88 0.87 0.87 0.88 0.87 0.90 0.85 0.85   \n",
       "AUC_weighted                     0.86 0.89 0.83 0.87 0.86 0.85 0.89 0.86 0.83   \n",
       "accuracy                         0.75 0.76 0.78 0.76 0.76 0.75 0.78 0.78 0.67   \n",
       "average_precision_score_macro    0.85 0.85 0.83 0.85 0.82 0.84 0.88 0.83 0.81   \n",
       "average_precision_score_micro    0.89 0.89 0.87 0.88 0.89 0.89 0.91 0.87 0.86   \n",
       "average_precision_score_weighted 0.88 0.89 0.86 0.88 0.86 0.87 0.90 0.87 0.85   \n",
       "balanced_accuracy                0.67 0.67 0.67 0.81 0.78 0.74 0.80 0.68 0.60   \n",
       "f1_score_macro                   0.68 0.68 0.68 0.76 0.75 0.73 0.77 0.70 0.60   \n",
       "f1_score_micro                   0.75 0.76 0.78 0.76 0.76 0.75 0.78 0.78 0.67   \n",
       "f1_score_weighted                0.73 0.74 0.74 0.77 0.77 0.75 0.79 0.75 0.66   \n",
       "log_loss                         0.43 0.44 0.45 0.50 0.42 0.41 0.39 0.46 0.46   \n",
       "matthews_correlation             0.38 0.42 0.50 0.58 0.53 0.46 0.56 0.48 0.22   \n",
       "norm_macro_recall                0.34 0.33 0.33 0.62 0.56 0.48 0.59 0.36 0.20   \n",
       "precision_score_macro            0.72 0.77 0.88 0.77 0.75 0.72 0.76 0.82 0.62   \n",
       "precision_score_micro            0.75 0.76 0.78 0.76 0.76 0.75 0.78 0.78 0.67   \n",
       "precision_score_weighted         0.73 0.77 0.84 0.84 0.80 0.76 0.81 0.80 0.66   \n",
       "recall_score_macro               0.67 0.67 0.67 0.81 0.78 0.74 0.80 0.68 0.60   \n",
       "recall_score_micro               0.75 0.76 0.78 0.76 0.76 0.75 0.78 0.78 0.67   \n",
       "recall_score_weighted            0.75 0.76 0.78 0.76 0.76 0.75 0.78 0.78 0.67   \n",
       "weighted_accuracy                0.81 0.84 0.87 0.73 0.75 0.75 0.77 0.86 0.73   \n",
       "\n",
       "                                    9   10   11   12   13   14   15   16   17  \\\n",
       "AUC_macro                        0.87 0.80 0.86 0.88 0.86 0.85 0.89 0.82 0.88   \n",
       "AUC_micro                        0.88 0.83 0.87 0.87 0.88 0.87 0.89 0.86 0.89   \n",
       "AUC_weighted                     0.87 0.80 0.86 0.88 0.86 0.85 0.89 0.82 0.88   \n",
       "accuracy                         0.76 0.75 0.75 0.78 0.76 0.76 0.78 0.80 0.76   \n",
       "average_precision_score_macro    0.86 0.78 0.84 0.86 0.86 0.85 0.86 0.83 0.87   \n",
       "average_precision_score_micro    0.90 0.84 0.88 0.88 0.89 0.88 0.90 0.87 0.90   \n",
       "average_precision_score_weighted 0.89 0.83 0.87 0.89 0.88 0.88 0.89 0.86 0.89   \n",
       "balanced_accuracy                0.71 0.63 0.81 0.68 0.72 0.78 0.71 0.75 0.71   \n",
       "f1_score_macro                   0.72 0.63 0.74 0.70 0.73 0.75 0.72 0.76 0.72   \n",
       "f1_score_micro                   0.76 0.75 0.75 0.78 0.76 0.76 0.78 0.80 0.76   \n",
       "f1_score_weighted                0.76 0.70 0.75 0.75 0.76 0.77 0.77 0.79 0.76   \n",
       "log_loss                         0.41 0.50 0.48 0.46 0.51 0.43 0.41 0.53 0.40   \n",
       "matthews_correlation             0.44 0.38 0.59 0.48 0.46 0.53 0.48 0.53 0.44   \n",
       "norm_macro_recall                0.42 0.25 0.62 0.36 0.45 0.56 0.42 0.50 0.42   \n",
       "precision_score_macro            0.73 0.78 0.78 0.82 0.73 0.75 0.77 0.78 0.73   \n",
       "precision_score_micro            0.76 0.75 0.75 0.78 0.76 0.76 0.78 0.80 0.76   \n",
       "precision_score_weighted         0.76 0.77 0.86 0.80 0.76 0.80 0.78 0.79 0.76   \n",
       "recall_score_macro               0.71 0.63 0.81 0.68 0.72 0.78 0.71 0.75 0.71   \n",
       "recall_score_micro               0.76 0.75 0.75 0.78 0.76 0.76 0.78 0.80 0.76   \n",
       "recall_score_weighted            0.76 0.75 0.75 0.78 0.76 0.76 0.78 0.80 0.76   \n",
       "weighted_accuracy                0.81 0.84 0.69 0.86 0.79 0.75 0.84 0.84 0.81   \n",
       "\n",
       "                                   18   19  \n",
       "AUC_macro                        0.91 0.88  \n",
       "AUC_micro                        0.92 0.89  \n",
       "AUC_weighted                     0.91 0.88  \n",
       "accuracy                         0.85 0.76  \n",
       "average_precision_score_macro    0.90 0.87  \n",
       "average_precision_score_micro    0.93 0.90  \n",
       "average_precision_score_weighted 0.92 0.90  \n",
       "balanced_accuracy                0.82 0.77  \n",
       "f1_score_macro                   0.83 0.75  \n",
       "f1_score_micro                   0.85 0.76  \n",
       "f1_score_weighted                0.85 0.77  \n",
       "log_loss                         0.40 0.41  \n",
       "matthews_correlation             0.66 0.51  \n",
       "norm_macro_recall                0.64 0.53  \n",
       "precision_score_macro            0.84 0.74  \n",
       "precision_score_micro            0.85 0.76  \n",
       "precision_score_weighted         0.85 0.79  \n",
       "recall_score_macro               0.82 0.77  \n",
       "recall_score_micro               0.85 0.76  \n",
       "recall_score_weighted            0.85 0.76  \n",
       "weighted_accuracy                0.88 0.76  "
      ]
     },
     "execution_count": 47,
     "metadata": {},
     "output_type": "execute_result"
    }
   ],
   "source": [
    "children = list(local_run.get_children())\n",
    "metricslist = {}\n",
    "for run in children:\n",
    "    properties = run.get_properties()\n",
    "    metrics = {k: v for k, v in run.get_metrics().items() if isinstance(v, float)}\n",
    "    metricslist[int(properties['iteration'])] = metrics\n",
    "\n",
    "rundata = pd.DataFrame(metricslist).sort_index(1)\n",
    "rundata"
   ]
  },
  {
   "cell_type": "markdown",
   "metadata": {},
   "source": [
    "### 3.5 Choix du meilleur modèle selon l'AUC"
   ]
  },
  {
   "cell_type": "code",
   "execution_count": 48,
   "metadata": {},
   "outputs": [
    {
     "name": "stdout",
     "output_type": "stream",
     "text": [
      "Meilleur modèle selon l'AUC :\n",
      "\n",
      "Run(Experiment: AutoMLTitanicSDK,\n",
      "Id: AutoML_68d7346d-5e57-4610-a182-8e4c2aa1429b_18,\n",
      "Type: None,\n",
      "Status: Completed)\n",
      "\n",
      "Pipeline(memory=None,\n",
      "     steps=[('datatransformer', DataTransformer(enable_dnn=None, enable_feature_sweeping=None,\n",
      "        feature_sweeping_config=None, feature_sweeping_timeout=None,\n",
      "        featurization_config=None, force_text_dnn=None,\n",
      "        is_cross_validation=None, is_onnx_compatible=None, logger=None,\n",
      "        obser...4285714285715, 0.07142857142857142, 0.2857142857142857, 0.21428571428571427, 0.07142857142857142]))])\n"
     ]
    }
   ],
   "source": [
    "best_run, fitted_model = local_run.get_output()\n",
    "\n",
    "print(\"Meilleur modèle selon l'AUC :\")\n",
    "print(\"\")\n",
    "print(best_run)\n",
    "print(\"\")\n",
    "print(fitted_model)"
   ]
  },
  {
   "cell_type": "code",
   "execution_count": 49,
   "metadata": {},
   "outputs": [
    {
     "data": {
      "text/plain": [
       "<bound method Pipeline.get_params of Pipeline(memory=None,\n",
       "     steps=[('datatransformer', DataTransformer(enable_dnn=None, enable_feature_sweeping=None,\n",
       "        feature_sweeping_config=None, feature_sweeping_timeout=None,\n",
       "        featurization_config=None, force_text_dnn=None,\n",
       "        is_cross_validation=None, is_onnx_compatible=None, logger=None,\n",
       "        obser...4285714285715, 0.07142857142857142, 0.2857142857142857, 0.21428571428571427, 0.07142857142857142]))])>"
      ]
     },
     "execution_count": 49,
     "metadata": {},
     "output_type": "execute_result"
    }
   ],
   "source": [
    "fitted_model.get_params"
   ]
  },
  {
   "cell_type": "code",
   "execution_count": 50,
   "metadata": {},
   "outputs": [
    {
     "data": {
      "text/html": [
       "[('datatransformer', DataTransformer(enable_dnn=None, enable_feature_sweeping=None,\n",
       "        feature_sweeping_config=None, feature_sweeping_timeout=None,\n",
       "        featurization_config=None, force_text_dnn=None,\n",
       "        is_cross_validation=None, is_onnx_compatible=None, logger=None,\n",
       "        observer=None, task=None, working_dir=None)), ('prefittedsoftvotingclassifier', PreFittedSoftVotingClassifier(classification_labels=None,\n",
       "               estimators=[('6', Pipeline(memory=None,\n",
       "     steps=[('maxabsscaler', MaxAbsScaler(copy=True)), ('extratreesclassifier', ExtraTreesClassifier(bootstrap=True, class_weight=None, criterion='gini',\n",
       "           max_depth=None, max_features=0.9, max_leaf_nodes=None,\n",
       "           min_impurity_decrease=0.0, mi...e', max_iter=1000, n_jobs=1,\n",
       "           penalty='none', power_t=0, random_state=None, tol=0.01))]))],\n",
       "               flatten_transform=None,\n",
       "               weights=[0.35714285714285715, 0.07142857142857142, 0.2857142857142857, 0.21428571428571427, 0.07142857142857142]))]"
      ],
      "text/plain": [
       "[('datatransformer',\n",
       "  DataTransformer(enable_dnn=None, enable_feature_sweeping=None,\n",
       "          feature_sweeping_config=None, feature_sweeping_timeout=None,\n",
       "          featurization_config=None, force_text_dnn=None,\n",
       "          is_cross_validation=None, is_onnx_compatible=None, logger=None,\n",
       "          observer=None, task=None, working_dir=None)),\n",
       " ('prefittedsoftvotingclassifier',\n",
       "  PreFittedSoftVotingClassifier(classification_labels=None,\n",
       "                 estimators=[('6', Pipeline(memory=None,\n",
       "       steps=[('maxabsscaler', MaxAbsScaler(copy=True)), ('extratreesclassifier', ExtraTreesClassifier(bootstrap=True, class_weight=None, criterion='gini',\n",
       "             max_depth=None, max_features=0.9, max_leaf_nodes=None,\n",
       "             min_impurity_decrease=0.0, mi...e', max_iter=1000, n_jobs=1,\n",
       "             penalty='none', power_t=0, random_state=None, tol=0.01))]))],\n",
       "                 flatten_transform=None,\n",
       "                 weights=[0.35714285714285715, 0.07142857142857142, 0.2857142857142857, 0.21428571428571427, 0.07142857142857142]))]"
      ]
     },
     "execution_count": 50,
     "metadata": {},
     "output_type": "execute_result"
    }
   ],
   "source": [
    "fitted_model.steps"
   ]
  },
  {
   "cell_type": "markdown",
   "metadata": {},
   "source": [
    "### 3.6 Changement métrique de qualité\n",
    "\n",
    "Autres métriques disponibles :\n",
    "accuracy, AUC_weighted, average_precision_score_weighted, norm_macro_recall, precision_score_weighted"
   ]
  },
  {
   "cell_type": "code",
   "execution_count": 51,
   "metadata": {},
   "outputs": [
    {
     "name": "stdout",
     "output_type": "stream",
     "text": [
      "Meilleur modèle selon le score F1 :\n",
      "\n",
      "Run(Experiment: AutoMLTitanicSDK,\n",
      "Id: AutoML_68d7346d-5e57-4610-a182-8e4c2aa1429b_18,\n",
      "Type: None,\n",
      "Status: Completed)\n",
      "\n",
      "Pipeline(memory=None,\n",
      "     steps=[('datatransformer', DataTransformer(enable_dnn=None, enable_feature_sweeping=None,\n",
      "        feature_sweeping_config=None, feature_sweeping_timeout=None,\n",
      "        featurization_config=None, force_text_dnn=None,\n",
      "        is_cross_validation=None, is_onnx_compatible=None, logger=None,\n",
      "        obser...4285714285715, 0.07142857142857142, 0.2857142857142857, 0.21428571428571427, 0.07142857142857142]))])\n"
     ]
    }
   ],
   "source": [
    "lookup_metric = \"f1_score_weighted\"\n",
    "\n",
    "best_run, fitted_model = local_run.get_output(metric = lookup_metric)\n",
    "\n",
    "print(\"Meilleur modèle selon le score F1 :\")\n",
    "print(\"\")\n",
    "print(best_run)\n",
    "print(\"\")\n",
    "print(fitted_model)"
   ]
  },
  {
   "cell_type": "code",
   "execution_count": 52,
   "metadata": {},
   "outputs": [
    {
     "name": "stdout",
     "output_type": "stream",
     "text": [
      "Meilleur modèle selon accuracy :\n",
      "\n",
      "Run(Experiment: AutoMLTitanicSDK,\n",
      "Id: AutoML_68d7346d-5e57-4610-a182-8e4c2aa1429b_18,\n",
      "Type: None,\n",
      "Status: Completed)\n",
      "\n",
      "Pipeline(memory=None,\n",
      "     steps=[('datatransformer', DataTransformer(enable_dnn=None, enable_feature_sweeping=None,\n",
      "        feature_sweeping_config=None, feature_sweeping_timeout=None,\n",
      "        featurization_config=None, force_text_dnn=None,\n",
      "        is_cross_validation=None, is_onnx_compatible=None, logger=None,\n",
      "        obser...4285714285715, 0.07142857142857142, 0.2857142857142857, 0.21428571428571427, 0.07142857142857142]))])\n"
     ]
    }
   ],
   "source": [
    "lookup_metric = \"accuracy\"\n",
    "\n",
    "best_run, fitted_model = local_run.get_output(metric = lookup_metric)\n",
    "\n",
    "print(\"Meilleur modèle selon accuracy :\")\n",
    "print(\"\")\n",
    "print(best_run)\n",
    "print(\"\")\n",
    "print(fitted_model)"
   ]
  },
  {
   "cell_type": "markdown",
   "metadata": {},
   "source": [
    "### 3.7 Choix d'une itération particulière"
   ]
  },
  {
   "cell_type": "code",
   "execution_count": 53,
   "metadata": {
    "scrolled": true
   },
   "outputs": [],
   "source": [
    "moniteration = 7"
   ]
  },
  {
   "cell_type": "code",
   "execution_count": 54,
   "metadata": {},
   "outputs": [
    {
     "name": "stdout",
     "output_type": "stream",
     "text": [
      "Pipeline 7ème itération :\n",
      "\n",
      "Run(Experiment: AutoMLTitanicSDK,\n",
      "Id: AutoML_68d7346d-5e57-4610-a182-8e4c2aa1429b_7,\n",
      "Type: None,\n",
      "Status: Completed)\n",
      "\n",
      "Pipeline(memory=None,\n",
      "     steps=[('datatransformer', DataTransformer(enable_dnn=None, enable_feature_sweeping=None,\n",
      "        feature_sweeping_config=None, feature_sweeping_timeout=None,\n",
      "        featurization_config=None, force_text_dnn=None,\n",
      "        is_cross_validation=None, is_onnx_compatible=None, logger=None,\n",
      "        obser...    n_jobs=1, penalty='none', power_t=0.3333333333333333,\n",
      "           random_state=None, tol=0.001))])\n"
     ]
    }
   ],
   "source": [
    "my_run, my_model = local_run.get_output(iteration = moniteration)\n",
    "\n",
    "print(\"Pipeline \"+ str(moniteration) +\"ème itération :\")\n",
    "print(\"\")\n",
    "print(my_run)\n",
    "print(\"\")\n",
    "print(my_model)"
   ]
  },
  {
   "cell_type": "markdown",
   "metadata": {},
   "source": [
    "### 4. On applique le modèle sur la base de Test"
   ]
  },
  {
   "cell_type": "markdown",
   "metadata": {},
   "source": [
    "### 4.1 On utilise le meilleur modèle selon l'AUC"
   ]
  },
  {
   "cell_type": "code",
   "execution_count": 55,
   "metadata": {},
   "outputs": [
    {
     "name": "stdout",
     "output_type": "stream",
     "text": [
      "Meilleur modèle selon la métrique initiale :\n",
      "\n",
      "Run(Experiment: AutoMLTitanicSDK,\n",
      "Id: AutoML_68d7346d-5e57-4610-a182-8e4c2aa1429b_18,\n",
      "Type: None,\n",
      "Status: Completed)\n",
      "\n",
      "Pipeline(memory=None,\n",
      "     steps=[('datatransformer', DataTransformer(enable_dnn=None, enable_feature_sweeping=None,\n",
      "        feature_sweeping_config=None, feature_sweeping_timeout=None,\n",
      "        featurization_config=None, force_text_dnn=None,\n",
      "        is_cross_validation=None, is_onnx_compatible=None, logger=None,\n",
      "        obser...4285714285715, 0.07142857142857142, 0.2857142857142857, 0.21428571428571427, 0.07142857142857142]))])\n"
     ]
    }
   ],
   "source": [
    "best_run, fitted_model = local_run.get_output()\n",
    "\n",
    "print(\"Meilleur modèle selon la métrique initiale :\")\n",
    "print(\"\")\n",
    "print(best_run)\n",
    "print(\"\")\n",
    "print(fitted_model)"
   ]
  },
  {
   "cell_type": "code",
   "execution_count": 56,
   "metadata": {},
   "outputs": [
    {
     "name": "stdout",
     "output_type": "stream",
     "text": [
      "Run(Experiment: AutoMLTitanicSDK,\n",
      "Id: AutoML_68d7346d-5e57-4610-a182-8e4c2aa1429b_18,\n",
      "Type: None,\n",
      "Status: Completed)\n",
      "\n",
      "Pipeline(memory=None,\n",
      "     steps=[('datatransformer', DataTransformer(enable_dnn=None, enable_feature_sweeping=None,\n",
      "        feature_sweeping_config=None, feature_sweeping_timeout=None,\n",
      "        featurization_config=None, force_text_dnn=None,\n",
      "        is_cross_validation=None, is_onnx_compatible=None, logger=None,\n",
      "        obser...4285714285715, 0.07142857142857142, 0.2857142857142857, 0.21428571428571427, 0.07142857142857142]))])\n",
      "\n",
      "average_precision_score_weighted  =  0.9225432403611944\n",
      "average_precision_score_micro  =  0.9277863580457313\n",
      "precision_score_micro  =  0.8545454545454545\n",
      "balanced_accuracy  =  0.8205705705705706\n",
      "average_precision_score_macro  =  0.9029463682548229\n",
      "precision_score_macro  =  0.8421474358974359\n",
      "f1_score_micro  =  0.8545454545454545\n",
      "AUC_micro  =  0.9206611570247933\n",
      "AUC_weighted  =  0.9114114114114115\n",
      "recall_score_micro  =  0.8545454545454545\n",
      "recall_score_macro  =  0.8205705705705706\n",
      "recall_score_weighted  =  0.8545454545454545\n",
      "matthews_correlation  =  0.6623666620381758\n",
      "log_loss  =  0.4006248030665477\n",
      "f1_score_macro  =  0.8297213622291022\n",
      "norm_macro_recall  =  0.6411411411411412\n",
      "weighted_accuracy  =  0.8812758417011222\n",
      "f1_score_weighted  =  0.8521812552772305\n",
      "AUC_macro  =  0.9114114114114114\n",
      "accuracy  =  0.8545454545454545\n",
      "precision_score_weighted  =  0.8523892773892774\n",
      "accuracy_table  =  aml://artifactId/ExperimentRun/dcid.AutoML_68d7346d-5e57-4610-a182-8e4c2aa1429b_18/accuracy_table\n",
      "confusion_matrix  =  aml://artifactId/ExperimentRun/dcid.AutoML_68d7346d-5e57-4610-a182-8e4c2aa1429b_18/confusion_matrix\n"
     ]
    }
   ],
   "source": [
    "best_run, fitted_model = local_run.get_output()\n",
    "print(best_run)\n",
    "print()\n",
    "print(fitted_model)\n",
    "print()\n",
    "best_run_metrics = best_run.get_metrics()\n",
    "for metric_name in best_run_metrics:\n",
    "    metric = best_run_metrics[metric_name]\n",
    "    print(metric_name, ' = ', metric)"
   ]
  },
  {
   "cell_type": "code",
   "execution_count": 57,
   "metadata": {},
   "outputs": [
    {
     "data": {
      "text/plain": [
       "Model(workspace=Workspace.create(name='Titanicworkspace', subscription_id='70b8f39e-8863-49f7-b6ba-34a80799550c', resource_group='titanicworkspaceRG'), name=Titanic-model, id=Titanic-model:10, version=10, tags={'Training context': 'Azure Auto ML SDK'}, properties={'AUC': '0.9114114114114115', 'Accuracy': '0.8545454545454545'})"
      ]
     },
     "execution_count": 57,
     "metadata": {},
     "output_type": "execute_result"
    }
   ],
   "source": [
    "from azureml.core import Model\n",
    "\n",
    "best_run.register_model(model_path='outputs/model.pkl', model_name='Titanic-model',\n",
    "                        tags={'Training context':'Azure Auto ML SDK'},\n",
    "                        properties={'AUC': best_run_metrics['AUC_weighted'], 'Accuracy': best_run_metrics['accuracy']})\n"
   ]
  },
  {
   "cell_type": "code",
   "execution_count": 58,
   "metadata": {},
   "outputs": [
    {
     "name": "stdout",
     "output_type": "stream",
     "text": [
      "Titanic-model version = 10\n",
      "\t Training context : Azure Auto ML SDK\n",
      "\t AUC : 0.9114114114114115\n",
      "\t Accuracy : 0.8545454545454545\n",
      "\n",
      "\n",
      "Titanic-model version = 9\n",
      "\t Training context : Azure Auto ML SDK\n",
      "\t AUC : 0.9054054054054054\n",
      "\t Accuracy : 0.7818181818181819\n",
      "\n",
      "\n",
      "Titanic-model version = 8\n",
      "\t Training context : Azure Auto ML SDK\n",
      "\t AUC : 0.9294294294294293\n",
      "\t Accuracy : 0.7818181818181819\n",
      "\n",
      "\n",
      "Titanic-model version = 7\n",
      "\t Training context : Azure Auto ML SDK\n",
      "\t AUC : 0.9159159159159158\n",
      "\t Accuracy : 0.8\n",
      "\n",
      "\n",
      "Titanic-model version = 6\n",
      "\t Training context : Azure Auto ML SDK\n",
      "\t AUC : 0.9151651651651651\n",
      "\t Accuracy : 0.8181818181818182\n",
      "\n",
      "\n",
      "Titanic-model version = 5\n",
      "\t Training context : Azure Auto ML SDK\n",
      "\t AUC : 0.8918918918918918\n",
      "\t Accuracy : 0.7636363636363637\n",
      "\n",
      "\n",
      "Titanic-model version = 4\n",
      "\t Training context : Azure Auto ML SDK\n",
      "\t AUC : 0.9166666666666667\n",
      "\t Accuracy : 0.6727272727272727\n",
      "\n",
      "\n",
      "Titanic-model version = 3\n",
      "\t Training context : Azure Auto ML SDK\n",
      "\t AUC : 0.9129129129129129\n",
      "\t Accuracy : 0.8\n",
      "\n",
      "\n",
      "Titanic-model version = 2\n",
      "\t Training context : Azure Auto ML SDK\n",
      "\t AUC : 0.8948948948948948\n",
      "\t Accuracy : 0.7818181818181819\n",
      "\n",
      "\n",
      "amlstudio-titanic-real-time-in version = 2\n",
      "\t CreatedByAMLStudio : true\n",
      "\n",
      "\n",
      "Titanic-model version = 1\n",
      "\t Training context : Azure Auto ML\n",
      "\t AUC : 0.924174174174174\n",
      "\t Accuracy : 0.8181818181818182\n",
      "\n",
      "\n"
     ]
    }
   ],
   "source": [
    "# Liste des modèles référencés\n",
    "for model in Model.list(ws):\n",
    "    print(model.name, 'version =', model.version)\n",
    "    for tag_name in model.tags:\n",
    "        tag = model.tags[tag_name]\n",
    "        print ('\\t',tag_name, ':', tag)\n",
    "    for prop_name in model.properties:\n",
    "        prop = model.properties[prop_name]\n",
    "        print ('\\t',prop_name, ':', prop)\n",
    "    print('\\n')"
   ]
  },
  {
   "cell_type": "markdown",
   "metadata": {},
   "source": [
    "### 4.2 On applique le modèle"
   ]
  },
  {
   "cell_type": "code",
   "execution_count": 59,
   "metadata": {},
   "outputs": [],
   "source": [
    "# Calcul de la décision\n",
    "y_test_pred = fitted_model.predict(X_test.values)"
   ]
  },
  {
   "cell_type": "code",
   "execution_count": 60,
   "metadata": {},
   "outputs": [],
   "source": [
    "Decision=pd.DataFrame(y_test_pred)"
   ]
  },
  {
   "cell_type": "code",
   "execution_count": 61,
   "metadata": {},
   "outputs": [],
   "source": [
    "# Obtention des scores\n",
    "proba=fitted_model.predict_proba(X_test.values)"
   ]
  },
  {
   "cell_type": "code",
   "execution_count": 62,
   "metadata": {},
   "outputs": [
    {
     "data": {
      "text/html": [
       "<div>\n",
       "<style scoped>\n",
       "    .dataframe tbody tr th:only-of-type {\n",
       "        vertical-align: middle;\n",
       "    }\n",
       "\n",
       "    .dataframe tbody tr th {\n",
       "        vertical-align: top;\n",
       "    }\n",
       "\n",
       "    .dataframe thead th {\n",
       "        text-align: right;\n",
       "    }\n",
       "</style>\n",
       "<table border=\"1\" class=\"dataframe\">\n",
       "  <thead>\n",
       "    <tr style=\"text-align: right;\">\n",
       "      <th></th>\n",
       "      <th>Decision</th>\n",
       "    </tr>\n",
       "  </thead>\n",
       "  <tbody>\n",
       "    <tr>\n",
       "      <th>0</th>\n",
       "      <td>1</td>\n",
       "    </tr>\n",
       "    <tr>\n",
       "      <th>1</th>\n",
       "      <td>1</td>\n",
       "    </tr>\n",
       "    <tr>\n",
       "      <th>2</th>\n",
       "      <td>0</td>\n",
       "    </tr>\n",
       "    <tr>\n",
       "      <th>3</th>\n",
       "      <td>1</td>\n",
       "    </tr>\n",
       "    <tr>\n",
       "      <th>4</th>\n",
       "      <td>1</td>\n",
       "    </tr>\n",
       "  </tbody>\n",
       "</table>\n",
       "</div>"
      ],
      "text/plain": [
       "   Decision\n",
       "0  1       \n",
       "1  1       \n",
       "2  0       \n",
       "3  1       \n",
       "4  1       "
      ]
     },
     "execution_count": 62,
     "metadata": {},
     "output_type": "execute_result"
    }
   ],
   "source": [
    "Decision.columns = ['Decision']\n",
    "Decision.head()"
   ]
  },
  {
   "cell_type": "code",
   "execution_count": 63,
   "metadata": {},
   "outputs": [],
   "source": [
    "Proba=pd.DataFrame(proba)"
   ]
  },
  {
   "cell_type": "code",
   "execution_count": 64,
   "metadata": {},
   "outputs": [],
   "source": [
    "Proba.columns = ['Proba_0', 'Proba_1']"
   ]
  },
  {
   "cell_type": "code",
   "execution_count": 65,
   "metadata": {},
   "outputs": [
    {
     "data": {
      "text/html": [
       "<div>\n",
       "<style scoped>\n",
       "    .dataframe tbody tr th:only-of-type {\n",
       "        vertical-align: middle;\n",
       "    }\n",
       "\n",
       "    .dataframe tbody tr th {\n",
       "        vertical-align: top;\n",
       "    }\n",
       "\n",
       "    .dataframe thead th {\n",
       "        text-align: right;\n",
       "    }\n",
       "</style>\n",
       "<table border=\"1\" class=\"dataframe\">\n",
       "  <thead>\n",
       "    <tr style=\"text-align: right;\">\n",
       "      <th></th>\n",
       "      <th>Proba_0</th>\n",
       "      <th>Proba_1</th>\n",
       "    </tr>\n",
       "  </thead>\n",
       "  <tbody>\n",
       "    <tr>\n",
       "      <th>0</th>\n",
       "      <td>0.05</td>\n",
       "      <td>0.95</td>\n",
       "    </tr>\n",
       "    <tr>\n",
       "      <th>1</th>\n",
       "      <td>0.08</td>\n",
       "      <td>0.92</td>\n",
       "    </tr>\n",
       "    <tr>\n",
       "      <th>2</th>\n",
       "      <td>0.72</td>\n",
       "      <td>0.28</td>\n",
       "    </tr>\n",
       "    <tr>\n",
       "      <th>3</th>\n",
       "      <td>0.10</td>\n",
       "      <td>0.90</td>\n",
       "    </tr>\n",
       "    <tr>\n",
       "      <th>4</th>\n",
       "      <td>0.13</td>\n",
       "      <td>0.87</td>\n",
       "    </tr>\n",
       "  </tbody>\n",
       "</table>\n",
       "</div>"
      ],
      "text/plain": [
       "   Proba_0  Proba_1\n",
       "0 0.05     0.95    \n",
       "1 0.08     0.92    \n",
       "2 0.72     0.28    \n",
       "3 0.10     0.90    \n",
       "4 0.13     0.87    "
      ]
     },
     "execution_count": 65,
     "metadata": {},
     "output_type": "execute_result"
    }
   ],
   "source": [
    "Proba.head()"
   ]
  },
  {
   "cell_type": "code",
   "execution_count": 66,
   "metadata": {},
   "outputs": [],
   "source": [
    "Scoring = pd.concat([Decision, Proba], axis=1)"
   ]
  },
  {
   "cell_type": "markdown",
   "metadata": {},
   "source": [
    "### 4.3 Résultats du scoring"
   ]
  },
  {
   "cell_type": "code",
   "execution_count": 67,
   "metadata": {},
   "outputs": [
    {
     "data": {
      "text/html": [
       "<div>\n",
       "<style scoped>\n",
       "    .dataframe tbody tr th:only-of-type {\n",
       "        vertical-align: middle;\n",
       "    }\n",
       "\n",
       "    .dataframe tbody tr th {\n",
       "        vertical-align: top;\n",
       "    }\n",
       "\n",
       "    .dataframe thead th {\n",
       "        text-align: right;\n",
       "    }\n",
       "</style>\n",
       "<table border=\"1\" class=\"dataframe\">\n",
       "  <thead>\n",
       "    <tr style=\"text-align: right;\">\n",
       "      <th></th>\n",
       "      <th>Decision</th>\n",
       "      <th>Proba_0</th>\n",
       "      <th>Proba_1</th>\n",
       "    </tr>\n",
       "  </thead>\n",
       "  <tbody>\n",
       "    <tr>\n",
       "      <th>0</th>\n",
       "      <td>1</td>\n",
       "      <td>0.05</td>\n",
       "      <td>0.95</td>\n",
       "    </tr>\n",
       "    <tr>\n",
       "      <th>1</th>\n",
       "      <td>1</td>\n",
       "      <td>0.08</td>\n",
       "      <td>0.92</td>\n",
       "    </tr>\n",
       "    <tr>\n",
       "      <th>2</th>\n",
       "      <td>0</td>\n",
       "      <td>0.72</td>\n",
       "      <td>0.28</td>\n",
       "    </tr>\n",
       "    <tr>\n",
       "      <th>3</th>\n",
       "      <td>1</td>\n",
       "      <td>0.10</td>\n",
       "      <td>0.90</td>\n",
       "    </tr>\n",
       "    <tr>\n",
       "      <th>4</th>\n",
       "      <td>1</td>\n",
       "      <td>0.13</td>\n",
       "      <td>0.87</td>\n",
       "    </tr>\n",
       "  </tbody>\n",
       "</table>\n",
       "</div>"
      ],
      "text/plain": [
       "   Decision  Proba_0  Proba_1\n",
       "0  1        0.05     0.95    \n",
       "1  1        0.08     0.92    \n",
       "2  0        0.72     0.28    \n",
       "3  1        0.10     0.90    \n",
       "4  1        0.13     0.87    "
      ]
     },
     "execution_count": 67,
     "metadata": {},
     "output_type": "execute_result"
    }
   ],
   "source": [
    "Scoring.head()"
   ]
  },
  {
   "cell_type": "code",
   "execution_count": 68,
   "metadata": {},
   "outputs": [
    {
     "data": {
      "text/plain": [
       "<matplotlib.axes._subplots.AxesSubplot at 0x7f0d697cf860>"
      ]
     },
     "execution_count": 68,
     "metadata": {},
     "output_type": "execute_result"
    },
    {
     "data": {
      "image/png": "[encoded data removed]",
      "text/plain": [
       "<Figure size 432x288 with 1 Axes>"
      ]
     },
     "metadata": {
      "needs_background": "light"
     },
     "output_type": "display_data"
    }
   ],
   "source": [
    "Scoring.groupby('Decision').size().plot(kind='bar')"
   ]
  },
  {
   "cell_type": "code",
   "execution_count": 69,
   "metadata": {},
   "outputs": [
    {
     "data": {
      "text/html": [
       "<div>\n",
       "<style scoped>\n",
       "    .dataframe tbody tr th:only-of-type {\n",
       "        vertical-align: middle;\n",
       "    }\n",
       "\n",
       "    .dataframe tbody tr th {\n",
       "        vertical-align: top;\n",
       "    }\n",
       "\n",
       "    .dataframe thead th {\n",
       "        text-align: right;\n",
       "    }\n",
       "</style>\n",
       "<table border=\"1\" class=\"dataframe\">\n",
       "  <thead>\n",
       "    <tr style=\"text-align: right;\">\n",
       "      <th></th>\n",
       "      <th>Decision</th>\n",
       "      <th>Proba_0</th>\n",
       "      <th>Proba_1</th>\n",
       "    </tr>\n",
       "  </thead>\n",
       "  <tbody>\n",
       "    <tr>\n",
       "      <th>count</th>\n",
       "      <td>55.00</td>\n",
       "      <td>55.00</td>\n",
       "      <td>55.00</td>\n",
       "    </tr>\n",
       "    <tr>\n",
       "      <th>mean</th>\n",
       "      <td>0.71</td>\n",
       "      <td>0.33</td>\n",
       "      <td>0.67</td>\n",
       "    </tr>\n",
       "    <tr>\n",
       "      <th>std</th>\n",
       "      <td>0.46</td>\n",
       "      <td>0.23</td>\n",
       "      <td>0.23</td>\n",
       "    </tr>\n",
       "    <tr>\n",
       "      <th>min</th>\n",
       "      <td>0.00</td>\n",
       "      <td>0.05</td>\n",
       "      <td>0.28</td>\n",
       "    </tr>\n",
       "    <tr>\n",
       "      <th>25%</th>\n",
       "      <td>0.00</td>\n",
       "      <td>0.08</td>\n",
       "      <td>0.49</td>\n",
       "    </tr>\n",
       "    <tr>\n",
       "      <th>50%</th>\n",
       "      <td>1.00</td>\n",
       "      <td>0.39</td>\n",
       "      <td>0.61</td>\n",
       "    </tr>\n",
       "    <tr>\n",
       "      <th>75%</th>\n",
       "      <td>1.00</td>\n",
       "      <td>0.51</td>\n",
       "      <td>0.92</td>\n",
       "    </tr>\n",
       "    <tr>\n",
       "      <th>max</th>\n",
       "      <td>1.00</td>\n",
       "      <td>0.72</td>\n",
       "      <td>0.95</td>\n",
       "    </tr>\n",
       "  </tbody>\n",
       "</table>\n",
       "</div>"
      ],
      "text/plain": [
       "       Decision  Proba_0  Proba_1\n",
       "count 55.00     55.00    55.00   \n",
       "mean  0.71      0.33     0.67    \n",
       "std   0.46      0.23     0.23    \n",
       "min   0.00      0.05     0.28    \n",
       "25%   0.00      0.08     0.49    \n",
       "50%   1.00      0.39     0.61    \n",
       "75%   1.00      0.51     0.92    \n",
       "max   1.00      0.72     0.95    "
      ]
     },
     "execution_count": 69,
     "metadata": {},
     "output_type": "execute_result"
    }
   ],
   "source": [
    "Scoring.describe()"
   ]
  },
  {
   "cell_type": "markdown",
   "metadata": {},
   "source": [
    "### 4.4 Exportation des scores dans un fichier CSV"
   ]
  },
  {
   "cell_type": "code",
   "execution_count": 70,
   "metadata": {},
   "outputs": [],
   "source": [
    "import time\n",
    "datedujour = time.strftime(\"%Y-%m-%d-%H%M%S\")"
   ]
  },
  {
   "cell_type": "code",
   "execution_count": 71,
   "metadata": {},
   "outputs": [],
   "source": [
    "# Export des scores dans un fichier CSV\n",
    "Scoring.to_csv(r'Exports/Scores_Titanic_'+datedujour+'.csv')"
   ]
  },
  {
   "cell_type": "code",
   "execution_count": 72,
   "metadata": {},
   "outputs": [
    {
     "name": "stdout",
     "output_type": "stream",
     "text": [
      "3 -rwxrwxrwx 1 root root 2394 Jun 15 08:06 \u001b[0m\u001b[01;32mExports/Scores_Titanic_2020-06-15-075905.csv\u001b[0m*\r\n",
      "3 -rwxrwxrwx 1 root root 2394 Jun 23 12:11 \u001b[01;32mExports/Scores_Titanic_2020-06-23-121107.csv\u001b[0m*\r\n",
      "3 -rwxrwxrwx 1 root root 2405 Sep 30 15:44 \u001b[01;32mExports/Scores_Titanic_2020-09-30-154445.csv\u001b[0m*\r\n"
     ]
    }
   ],
   "source": [
    "# Visualisation des fichiers CSV exportés\n",
    "%ls Exports/*.csv -ls"
   ]
  },
  {
   "cell_type": "markdown",
   "metadata": {},
   "source": [
    "> End of notebook"
   ]
  },
  {
   "cell_type": "code",
   "execution_count": null,
   "metadata": {},
   "outputs": [],
   "source": []
  }
 ],
 "metadata": {
  "kernelspec": {
   "display_name": "Python 3.6 - AzureML",
   "language": "python",
   "name": "python3-azureml"
  },
  "language_info": {
   "codemirror_mode": {
    "name": "ipython",
    "version": 3
   },
   "file_extension": ".py",
   "mimetype": "text/x-python",
   "name": "python",
   "nbconvert_exporter": "python",
   "pygments_lexer": "ipython3",
   "version": "3.6.9"
  }
 },
 "nbformat": 4,
 "nbformat_minor": 1
}
